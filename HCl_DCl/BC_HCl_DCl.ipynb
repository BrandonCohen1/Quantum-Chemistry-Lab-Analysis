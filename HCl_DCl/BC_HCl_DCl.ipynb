{
 "cells": [
  {
   "cell_type": "markdown",
   "metadata": {},
   "source": [
    "# Rotavibrational Analysis of the Infrared Spectrum of HCl/DCl\n",
    "## Brandon Cohen\n",
    "### May 1, 2023"
   ]
  },
  {
   "cell_type": "markdown",
   "metadata": {},
   "source": [
    "## Purpose"
   ]
  },
  {
   "cell_type": "markdown",
   "metadata": {},
   "source": [
    "Given a reference spectrum of a mixture of HCl and DCl, rotavibrational analysis of the peaks, identification of the isotopic contributions of four different species (<sup>1</sup>H<sup>35</sup>Cl, <sup>1</sup>H<sup>37</sup>Cl, <sup>2</sup>H<sup>35</sup>Cl, and <sup>2</sup>H<sup>37</sup>Cl) and correlate the measured constants with calculated constants obtained from _ab initio_ calculations run in Gaussian16 will be performed. "
   ]
  },
  {
   "cell_type": "markdown",
   "metadata": {
    "tags": []
   },
   "source": [
    "# Introduction\n",
    "\n",
    "Infrared spectroscopy (IR) is an incredible analytical instrument that has capabilities that other instruments do not have. IR uses low energy radiation to excite the bonds of molecules where absorption occurs at the vibrational frequency of the individual bond. Using this fact, diatomic HCl and DCl of isotope $^{35}Cl$ and  $^{37}Cl$ were used as a simple model of one vibrational mode to observe the power of IR's ability to determine vibrational frequencies. In this paper, an infrared spectrum of HCl and DCl was measured to determine rotational fine structure, moment of inertia of the molecule, internuclear separation, isotope effects, and bond strengths through pure vibrational frequency. A computational approach was also used with Gaussian finding the bond length energy and rotational anharmonic energy as well as equilibrium bond length and energy. It is well known that energy is quantized. Taking this fact into account, many equations used in this paper were taken from two theories of diatomic molecules: rigid rotor model approximation and the harmonic oscillator model. "
   ]
  },
  {
   "cell_type": "markdown",
   "metadata": {
    "tags": []
   },
   "source": [
    "# Setup\n",
    "\n",
    "## Library import"
   ]
  },
  {
   "cell_type": "code",
   "execution_count": 4,
   "metadata": {
    "ExecuteTime": {
     "end_time": "2019-06-16T14:44:50.874881Z",
     "start_time": "2019-06-16T14:44:38.616867Z"
    },
    "tags": []
   },
   "outputs": [],
   "source": [
    "# Directory searching\n",
    "import glob\n",
    "\n",
    "# Data manipulation\n",
    "import numpy as np\n",
    "import scipy as sp\n",
    "import pandas as pd\n",
    "\n",
    "# Options for pandas\n",
    "pd.options.display.max_columns = 50\n",
    "pd.options.display.max_rows = 30\n",
    "\n",
    "# Computational chemistry\n",
    "# import json\n",
    "import cclib\n",
    "# import openchemistry as oc\n",
    "\n",
    "# Visualizations\n",
    "import matplotlib.pyplot as plt\n",
    "%matplotlib inline\n",
    "\n",
    "# Used to print a statment in the middle\n",
    "from IPython.core.display import display, HTML\n",
    "def centered(content):\n",
    "    display(HTML(f\"<div style='text-align:center'>{content}</div>\"))"
   ]
  },
  {
   "cell_type": "markdown",
   "metadata": {
    "tags": []
   },
   "source": [
    "\n",
    "# Data import\n"
   ]
  },
  {
   "cell_type": "code",
   "execution_count": 5,
   "metadata": {
    "tags": []
   },
   "outputs": [
    {
     "name": "stdout",
     "output_type": "stream",
     "text": [
      "Table 1. IR Absorbance of HCl\n"
     ]
    },
    {
     "data": {
      "text/html": [
       "<div>\n",
       "<style scoped>\n",
       "    .dataframe tbody tr th:only-of-type {\n",
       "        vertical-align: middle;\n",
       "    }\n",
       "\n",
       "    .dataframe tbody tr th {\n",
       "        vertical-align: top;\n",
       "    }\n",
       "\n",
       "    .dataframe thead th {\n",
       "        text-align: right;\n",
       "    }\n",
       "</style>\n",
       "<table border=\"1\" class=\"dataframe\">\n",
       "  <thead>\n",
       "    <tr style=\"text-align: right;\">\n",
       "      <th></th>\n",
       "      <th>Absorbance</th>\n",
       "    </tr>\n",
       "    <tr>\n",
       "      <th>Wavenumber</th>\n",
       "      <th></th>\n",
       "    </tr>\n",
       "  </thead>\n",
       "  <tbody>\n",
       "    <tr>\n",
       "      <th>2650.00</th>\n",
       "      <td>0.0244</td>\n",
       "    </tr>\n",
       "    <tr>\n",
       "      <th>2650.12</th>\n",
       "      <td>0.0251</td>\n",
       "    </tr>\n",
       "    <tr>\n",
       "      <th>2650.25</th>\n",
       "      <td>0.0252</td>\n",
       "    </tr>\n",
       "    <tr>\n",
       "      <th>2650.38</th>\n",
       "      <td>0.0247</td>\n",
       "    </tr>\n",
       "    <tr>\n",
       "      <th>2650.50</th>\n",
       "      <td>0.0239</td>\n",
       "    </tr>\n",
       "  </tbody>\n",
       "</table>\n",
       "</div>"
      ],
      "text/plain": [
       "            Absorbance\n",
       "Wavenumber            \n",
       "2650.00         0.0244\n",
       "2650.12         0.0251\n",
       "2650.25         0.0252\n",
       "2650.38         0.0247\n",
       "2650.50         0.0239"
      ]
     },
     "execution_count": 5,
     "metadata": {},
     "output_type": "execute_result"
    }
   ],
   "source": [
    "# These two files were taken as one continuous collection using a Nicolet iS5\n",
    "# FTIR spectrometer. Sample details can be found in the instruction manual.\n",
    "hcl_spectrum = pd.read_csv('raw_spectra/HCl_spectrum.csv', \n",
    "                           comment='#', # Lines beginning with '#' are skipped\n",
    "                           skip_blank_lines=True, # Blank lines are skipped\n",
    "                           skipinitialspace=True, # Skip spaces after delimiter\n",
    "                           index_col=['Wavenumber']) # Set the index column\n",
    "dcl_spectrum = pd.read_csv('raw_spectra/DCl_spectrum.csv', \n",
    "                           comment='#', \n",
    "                           skip_blank_lines=True, \n",
    "                           skipinitialspace=True,\n",
    "                           index_col=['Wavenumber'])\n",
    "\n",
    "print('Table 1. IR Absorbance of HCl')\n",
    "hcl_spectrum.head()"
   ]
  },
  {
   "cell_type": "code",
   "execution_count": 6,
   "metadata": {
    "tags": []
   },
   "outputs": [
    {
     "data": {
      "text/html": [
       "<div style='text-align:center'>Figure 1. IR Spectra</div>"
      ],
      "text/plain": [
       "<IPython.core.display.HTML object>"
      ]
     },
     "metadata": {},
     "output_type": "display_data"
    },
    {
     "data": {
      "image/png": "[encoded data removed]",
      "text/plain": [
       "<Figure size 720x288 with 2 Axes>"
      ]
     },
     "metadata": {
      "needs_background": "light"
     },
     "output_type": "display_data"
    }
   ],
   "source": [
    "fig, (ax1,ax2) = plt.subplots(1,2, figsize=(10,4))  # 1 row, 2 columns\n",
    "hcl_spectrum.plot(ax=ax1)\n",
    "dcl_spectrum.plot(ax=ax2)\n",
    "ax1.set_title('IR Spectrum of HCl')\n",
    "ax1.set_ylabel('Absorbance')\n",
    "ax2.set_title('IR Spectrum of DCl')\n",
    "ax2.set_ylabel('Absorbance')\n",
    "ax2.legend('')\n",
    "plt.tight_layout()\n",
    "centered('Figure 1. IR Spectra')"
   ]
  },
  {
   "cell_type": "markdown",
   "metadata": {},
   "source": [
    "I began by running Gaussian scans on the bond length using the template file `gaussian_calcs/bond_scans/hcl_bond-template.com` using different methods:\n",
    "\n",
    "|       Method Type         | Gaussian Keyword |\n",
    "| :-----------------------  | :--------------  |\n",
    "| Unrestricted Hartree-Fock |     `UHF`        |\n",
    "|           DFT             |   `PBE1PBE`      |\n",
    "|     Coupled Cluster       |   `CCSD(T)`      |"
   ]
  },
  {
   "cell_type": "markdown",
   "metadata": {},
   "source": [
    "We want to make a dictionary in which to store all of our constants that are calculated later in the lab. For now, we'll just create the dictionary with a header row. Later, as we calculate the constants for each molecule, we will add in keys (rows) with a corresponding list of constants."
   ]
  },
  {
   "cell_type": "code",
   "execution_count": 7,
   "metadata": {
    "tags": []
   },
   "outputs": [],
   "source": [
    "# Create a dictionary with the molecule as the key and the variables as a list of values\n",
    "hcl_con_dict = {'Constants': ['nu_0 (cm-1)', 'B_e (cm-1)', 'D_e (cm-1)', 'nu_e (cm-1)', 'k', ...]}"
   ]
  },
  {
   "cell_type": "code",
   "execution_count": 9,
   "metadata": {
    "tags": []
   },
   "outputs": [
    {
     "data": {
      "text/plain": [
       "{'gaussian_calcs/bond_scans/PBE1PBE': <cclib.parser.data.ccData_optdone_bool at 0x7f42a0b89190>,\n",
       " 'gaussian_calcs/bond_scans/UHF': <cclib.parser.data.ccData_optdone_bool at 0x7f42a0b89880>,\n",
       " 'gaussian_calcs/bond_scans/CCSD': <cclib.parser.data.ccData_optdone_bool at 0x7f42a0b84c70>}"
      ]
     },
     "execution_count": 9,
     "metadata": {},
     "output_type": "execute_result"
    }
   ],
   "source": [
    "# Import bond scan logs\n",
    "# Create an empty dictionary of bond scan logs\n",
    "hcl_pes = dict()\n",
    "\n",
    "# If your names are reasonable, you should be able to capture your method \n",
    "# name with the `*` character below. Example would be \n",
    "# `scan-UHF.log`, `scan-PBE.log`, `scan-CCSDT.log`\n",
    "for name in glob.glob('gaussian_calcs/bond_scans/*.log'):\n",
    "    # Create a reference name based on your filename\n",
    "    logname = name.split(sep='.')[0]\n",
    "    hcl_pes[logname] = cclib.io.ccread(name)\n",
    "hcl_pes"
   ]
  },
  {
   "cell_type": "markdown",
   "metadata": {},
   "source": [
    "In the next cell, I searched my log files for the section labeled “Vibrational Energies at Anharmonic Level”. In there, I pulled the relevant anharmonic energies and inserted them into the `np.array`s below. The harmonic vibrational energy is already set. I set a value for the rotational energy and the ground state energy."
   ]
  },
  {
   "cell_type": "code",
   "execution_count": 10,
   "metadata": {
    "tags": []
   },
   "outputs": [
    {
     "name": "stdout",
     "output_type": "stream",
     "text": [
      "H37CL\n",
      "package           : Gaussian\n",
      "methods           : ['HF', 'MP2', 'HF', 'MP2', 'HF', 'MP2', 'HF', 'MP2', 'HF', 'MP2', 'MP2', 'HF', 'MP2', 'MP2', 'HF', 'MP2', 'MP2']\n",
      "success           : True\n",
      "legacy_package_version: 16revisionB.01\n",
      "package_version   : 2016+B.01\n",
      "platform          : ES64L\n",
      "basis_set         : def2QZVPP\n",
      "cpu_time          : [datetime.timedelta(seconds=66, microseconds=100000), datetime.timedelta(seconds=414, microseconds=300000)]\n",
      "wall_time         : [datetime.timedelta(seconds=46, microseconds=600000), datetime.timedelta(seconds=207, microseconds=400000)]\n",
      "H35CL\n",
      "package           : Gaussian\n",
      "methods           : ['HF', 'MP2', 'HF', 'MP2', 'HF', 'MP2', 'HF', 'MP2', 'HF', 'MP2', 'MP2', 'HF', 'MP2', 'MP2', 'HF', 'MP2', 'MP2']\n",
      "success           : True\n",
      "legacy_package_version: 16revisionB.01\n",
      "package_version   : 2016+B.01\n",
      "platform          : ES64L\n",
      "basis_set         : def2QZVPP\n",
      "cpu_time          : [datetime.timedelta(seconds=65), datetime.timedelta(seconds=406, microseconds=500000)]\n",
      "wall_time         : [datetime.timedelta(seconds=45, microseconds=800000), datetime.timedelta(seconds=203, microseconds=800000)]\n",
      "D37CL\n",
      "package           : Gaussian\n",
      "methods           : ['HF', 'MP2', 'HF', 'MP2', 'HF', 'MP2', 'HF', 'MP2', 'HF', 'MP2', 'MP2', 'HF', 'MP2', 'MP2', 'HF', 'MP2', 'MP2']\n",
      "success           : True\n",
      "legacy_package_version: 16revisionB.01\n",
      "package_version   : 2016+B.01\n",
      "platform          : ES64L\n",
      "basis_set         : def2QZVPP\n",
      "cpu_time          : [datetime.timedelta(seconds=68, microseconds=300000), datetime.timedelta(seconds=428, microseconds=500000)]\n",
      "wall_time         : [datetime.timedelta(seconds=48, microseconds=300000), datetime.timedelta(seconds=215, microseconds=800000)]\n",
      "D35CL\n",
      "package           : Gaussian\n",
      "methods           : ['HF', 'MP2', 'HF', 'MP2', 'HF', 'MP2', 'HF', 'MP2', 'HF', 'MP2', 'MP2', 'HF', 'MP2', 'MP2', 'HF', 'MP2', 'MP2']\n",
      "success           : True\n",
      "legacy_package_version: 16revisionB.01\n",
      "package_version   : 2016+B.01\n",
      "platform          : ES64L\n",
      "basis_set         : def2QZVPP\n",
      "cpu_time          : [datetime.timedelta(seconds=68, microseconds=600000), datetime.timedelta(seconds=443, microseconds=800000)]\n",
      "wall_time         : [datetime.timedelta(seconds=48, microseconds=500000), datetime.timedelta(seconds=223, microseconds=700000)]\n"
     ]
    },
    {
     "name": "stderr",
     "output_type": "stream",
     "text": [
      "/opt/tljh/user/envs/pchem2_lab/lib/python3.8/site-packages/cclib/parser/utils.py:182: UserWarning: Optimal rotation is not uniquely or poorly defined for the given sets of vectors.\n",
      "  r, _ = scipy.spatial.transform.Rotation.align_vectors(b_, a_)\n"
     ]
    }
   ],
   "source": [
    "# Import data from the vibrotational calculations. \n",
    "# May need to keep in cclib format\n",
    "\n",
    "## Manually copy values from the Anharmonic Energy section of the log files.  \n",
    "\n",
    "# Create dictionary of calculation logs\n",
    "hcl_logs = dict()\n",
    "# for name in glob.glob('gaussian_calcs/vibrot_calcs/[hd]3[57]cl.log'):\n",
    "for name in glob.glob('gaussian_calcs/vibrot_calcs/*.log'):\n",
    "    logname = name.split(sep='/')[-1].split(sep='.')[0]\n",
    "    hcl_logs[logname] = cclib.io.ccread(name)\n",
    "\n",
    "# Fill in your values from your log files below\n",
    "hcl_logs['h35cl'].vibanharms = np.array([2955.243, 5810.600])\n",
    "hcl_logs['h37cl'].vibanharms = np.array([2953.081, 5806.429])\n",
    "hcl_logs['d35cl'].vibanharms = np.array([2139.806, 4228.272])\n",
    "hcl_logs['d37cl'].vibanharms = np.array([2139.806, 4228.272])\n",
    "\n",
    "# Add values for rotational constants and ground state energy below:\n",
    "hcl_logs['h35cl'].rotation = 10.651209\n",
    "hcl_logs['h37cl'].rotation = 10.635090\n",
    "hcl_logs['d35cl'].rotation = 5.478772\n",
    "hcl_logs['d37cl'].rotation = 5.462652\n",
    "\n",
    "\n",
    "# Check to make sure all imports were successful. \n",
    "# You should see a summary for each molecule. \n",
    "for mol, log in hcl_logs.items():\n",
    "    print(mol.upper())\n",
    "    for key, value in log.metadata.items():\n",
    "        print(f'{key:18}: {value}')"
   ]
  },
  {
   "cell_type": "markdown",
   "metadata": {
    "tags": []
   },
   "source": [
    "## Bond length analysis"
   ]
  },
  {
   "cell_type": "code",
   "execution_count": 11,
   "metadata": {
    "tags": []
   },
   "outputs": [
    {
     "data": {
      "image/png": "[encoded data removed]",
      "text/plain": [
       "<Figure size 432x288 with 1 Axes>"
      ]
     },
     "metadata": {
      "needs_background": "light"
     },
     "output_type": "display_data"
    }
   ],
   "source": [
    "methods = []\n",
    "\n",
    "for method, data in hcl_pes.items():\n",
    "    methods.append(method)\n",
    "    plt.plot(data.scanparm[0], data.scanenergies)\n",
    "plt.legend(methods)\n",
    "plt.xlabel('Bond Length (Å)')\n",
    "plt.ylabel('Energy (Ha)')\n",
    "plt.title('Figure 2. Gaussian Predicted Bond Length vs. Energy')\n",
    "plt.legend(['PBE1PBE', 'UHF', 'CCSD']);\n",
    "plt.show()\n",
    "#Shows the idea of anharmoncic plot which is in Figure 1 of the lab report"
   ]
  },
  {
   "cell_type": "code",
   "execution_count": 12,
   "metadata": {
    "tags": []
   },
   "outputs": [
    {
     "name": "stdout",
     "output_type": "stream",
     "text": [
      "The equilibrium bond length in H37CL is 1.271089 Å.\n",
      "The minimum energy in H37CL is -460.346956 Ha.\n",
      "The equilibrium bond length in H35CL is 1.271089 Å.\n",
      "The minimum energy in H35CL is -460.346873 Ha.\n",
      "The equilibrium bond length in D37CL is 1.271089 Å.\n",
      "The minimum energy in D37CL is -460.349593 Ha.\n",
      "The equilibrium bond length in D35CL is 1.271089 Å.\n",
      "The minimum energy in D35CL is -460.349508 Ha.\n"
     ]
    }
   ],
   "source": [
    "# Calculate equilibrium bond length and display energy from calculations\n",
    "from scipy.spatial import distance\n",
    "\n",
    "### Uses the rotational calucaltions\n",
    "\n",
    "for name, mol in hcl_logs.items():\n",
    "    mol.eqbond = distance.euclidean(mol.atomcoords[-1][0], mol.atomcoords[-1][1])\n",
    "    print(f'The equilibrium bond length in {name.upper()} is {mol.eqbond} Å.')\n",
    "    print(f'The minimum energy in {name.upper()} is {mol.freeenergy} Ha.')"
   ]
  },
  {
   "cell_type": "markdown",
   "metadata": {
    "tags": []
   },
   "source": [
    "## Analysis of <sup>1</sup>HCl Spectra"
   ]
  },
  {
   "cell_type": "markdown",
   "metadata": {
    "tags": []
   },
   "source": [
    "This next cell is where some of the routines in the `scipy` package can really shine. I could open these spectra in Excel and try to pick out the peak maxima by hand, hoping that I really grabbed the peak and didn't miss a step, but this is a problem ripe for automation. The `scipy.signal` library contains the [`find_peaks`][sp-find_peaks] function which allows us to automatically grab peaks. The automation can be trained on a number of parameters. I used the `prominence` and `height` parameters to exclude \"peaks\" in the baseline and prevent grabbing peaks that are too close to each other (_i.e.,_ if a peak has a slight shoulder, both points might be chosen). "
   ]
  },
  {
   "cell_type": "code",
   "execution_count": 13,
   "metadata": {
    "tags": []
   },
   "outputs": [
    {
     "name": "stdout",
     "output_type": "stream",
     "text": [
      "34\n"
     ]
    },
    {
     "data": {
      "image/png": "[encoded data removed]",
      "text/plain": [
       "<Figure size 432x288 with 1 Axes>"
      ]
     },
     "metadata": {
      "needs_background": "light"
     },
     "output_type": "display_data"
    }
   ],
   "source": [
    "# Extract peak locations from HCl spectra\n",
    "from scipy.signal import find_peaks, peak_prominences\n",
    "peaks_hcl, _ = find_peaks(hcl_spectrum['Absorbance'],\n",
    "                     prominence= 0.01, # Start with .01, adjust from there\n",
    "                     height= 0.017)  # Start just above the baseline of your spectrum\n",
    "print(len(peaks_hcl)) # Tells us how many total peaks were found\n",
    "\n",
    "\n",
    "# I plotted the spectrum along with the peaks we found. Note the steps\n",
    "# in the peaks list. I know that there are two isotopes and that they \n",
    "# should be every other peak, so we step by 2. List slicing (or stepping)\n",
    "# is done with [start:stop:step].  \n",
    "plt.plot(hcl_spectrum.index, hcl_spectrum['Absorbance'])\n",
    "plt.plot(hcl_spectrum.iloc[peaks_hcl[2:-2:2]], # Select the even peaks\n",
    "         marker='.', \n",
    "         color='red',\n",
    "         linewidth=0)\n",
    "plt.plot(hcl_spectrum.iloc[peaks_hcl[3:-1:2]], # Select the odd peaks\n",
    "         marker='.', \n",
    "         color='orange',\n",
    "         linewidth=0)\n",
    "plt.title('Figure 3. Peak Picking of HCl Spectrum')\n",
    "plt.show()"
   ]
  },
  {
   "cell_type": "markdown",
   "metadata": {
    "tags": []
   },
   "source": [
    "After selecting the peaks, I assigned the peak wavenumbers to a new list and matched them to the _m_ values for analysis. Note that there is no peak for $ m = 0 $."
   ]
  },
  {
   "cell_type": "code",
   "execution_count": 83,
   "metadata": {
    "tags": []
   },
   "outputs": [
    {
     "name": "stdout",
     "output_type": "stream",
     "text": [
      "[-7 -6 -5 -4 -3 -2 -1  1  2  3  4  5  6  7  8]\n",
      "Table 2. HCl m Values Associated with Peak Wavelengths\n"
     ]
    },
    {
     "data": {
      "text/html": [
       "<div>\n",
       "<style scoped>\n",
       "    .dataframe tbody tr th:only-of-type {\n",
       "        vertical-align: middle;\n",
       "    }\n",
       "\n",
       "    .dataframe tbody tr th {\n",
       "        vertical-align: top;\n",
       "    }\n",
       "\n",
       "    .dataframe thead th {\n",
       "        text-align: right;\n",
       "    }\n",
       "</style>\n",
       "<table border=\"1\" class=\"dataframe\">\n",
       "  <thead>\n",
       "    <tr style=\"text-align: right;\">\n",
       "      <th></th>\n",
       "      <th>m</th>\n",
       "      <th>H35Cl</th>\n",
       "      <th>H37Cl</th>\n",
       "    </tr>\n",
       "  </thead>\n",
       "  <tbody>\n",
       "    <tr>\n",
       "      <th>0</th>\n",
       "      <td>-7</td>\n",
       "      <td>2727.88</td>\n",
       "      <td>2726.00</td>\n",
       "    </tr>\n",
       "    <tr>\n",
       "      <th>1</th>\n",
       "      <td>-6</td>\n",
       "      <td>2752.12</td>\n",
       "      <td>2750.12</td>\n",
       "    </tr>\n",
       "    <tr>\n",
       "      <th>2</th>\n",
       "      <td>-5</td>\n",
       "      <td>2775.75</td>\n",
       "      <td>2773.88</td>\n",
       "    </tr>\n",
       "    <tr>\n",
       "      <th>3</th>\n",
       "      <td>-4</td>\n",
       "      <td>2799.00</td>\n",
       "      <td>2797.00</td>\n",
       "    </tr>\n",
       "    <tr>\n",
       "      <th>4</th>\n",
       "      <td>-3</td>\n",
       "      <td>2821.62</td>\n",
       "      <td>2819.62</td>\n",
       "    </tr>\n",
       "  </tbody>\n",
       "</table>\n",
       "</div>"
      ],
      "text/plain": [
       "   m    H35Cl    H37Cl\n",
       "0 -7  2727.88  2726.00\n",
       "1 -6  2752.12  2750.12\n",
       "2 -5  2775.75  2773.88\n",
       "3 -4  2799.00  2797.00\n",
       "4 -3  2821.62  2819.62"
      ]
     },
     "execution_count": 83,
     "metadata": {},
     "output_type": "execute_result"
    }
   ],
   "source": [
    "# Assign peak wavelengths to dataframe\n",
    "m_values = np.arange(-7,9)\n",
    "m_values = m_values[m_values != 0]\n",
    "hcl_data = {'m': m_values,\n",
    "            'H35Cl': hcl_spectrum.iloc[peaks_hcl[3:-1:2]].index.values,\n",
    "            'H37Cl': hcl_spectrum.iloc[peaks_hcl[2:-2:2]].index.values}\n",
    "print(m_values)\n",
    "# Create a dataframe from our assigned values\n",
    "hcl_peak_data = pd.DataFrame(data=hcl_data)\n",
    "\n",
    "print('Table 2. HCl m Values Associated with Peak Wavelengths')\n",
    "hcl_peak_data.head()"
   ]
  },
  {
   "cell_type": "code",
   "execution_count": 84,
   "metadata": {
    "tags": []
   },
   "outputs": [
    {
     "name": "stdout",
     "output_type": "stream",
     "text": [
      "Mean values:\n",
      " H35Cl    20.119643\n",
      "H37Cl    20.098571\n",
      "dtype: float64\n",
      "Table 3. HCl Subtracted Peak Energies\n"
     ]
    },
    {
     "data": {
      "text/html": [
       "<div>\n",
       "<style scoped>\n",
       "    .dataframe tbody tr th:only-of-type {\n",
       "        vertical-align: middle;\n",
       "    }\n",
       "\n",
       "    .dataframe tbody tr th {\n",
       "        vertical-align: top;\n",
       "    }\n",
       "\n",
       "    .dataframe thead th {\n",
       "        text-align: right;\n",
       "    }\n",
       "</style>\n",
       "<table border=\"1\" class=\"dataframe\">\n",
       "  <thead>\n",
       "    <tr style=\"text-align: right;\">\n",
       "      <th></th>\n",
       "      <th>H35Cl</th>\n",
       "      <th>H37Cl</th>\n",
       "    </tr>\n",
       "  </thead>\n",
       "  <tbody>\n",
       "    <tr>\n",
       "      <th>0</th>\n",
       "      <td>NaN</td>\n",
       "      <td>NaN</td>\n",
       "    </tr>\n",
       "    <tr>\n",
       "      <th>1</th>\n",
       "      <td>24.240</td>\n",
       "      <td>24.12</td>\n",
       "    </tr>\n",
       "    <tr>\n",
       "      <th>2</th>\n",
       "      <td>23.630</td>\n",
       "      <td>23.76</td>\n",
       "    </tr>\n",
       "    <tr>\n",
       "      <th>3</th>\n",
       "      <td>23.250</td>\n",
       "      <td>23.12</td>\n",
       "    </tr>\n",
       "    <tr>\n",
       "      <th>4</th>\n",
       "      <td>22.620</td>\n",
       "      <td>22.62</td>\n",
       "    </tr>\n",
       "    <tr>\n",
       "      <th>5</th>\n",
       "      <td>22.000</td>\n",
       "      <td>22.00</td>\n",
       "    </tr>\n",
       "    <tr>\n",
       "      <th>6</th>\n",
       "      <td>21.500</td>\n",
       "      <td>21.50</td>\n",
       "    </tr>\n",
       "    <tr>\n",
       "      <th>7</th>\n",
       "      <td>20.565</td>\n",
       "      <td>20.50</td>\n",
       "    </tr>\n",
       "    <tr>\n",
       "      <th>8</th>\n",
       "      <td>19.750</td>\n",
       "      <td>19.63</td>\n",
       "    </tr>\n",
       "    <tr>\n",
       "      <th>9</th>\n",
       "      <td>19.000</td>\n",
       "      <td>19.00</td>\n",
       "    </tr>\n",
       "    <tr>\n",
       "      <th>10</th>\n",
       "      <td>18.380</td>\n",
       "      <td>18.37</td>\n",
       "    </tr>\n",
       "    <tr>\n",
       "      <th>11</th>\n",
       "      <td>17.620</td>\n",
       "      <td>17.63</td>\n",
       "    </tr>\n",
       "    <tr>\n",
       "      <th>12</th>\n",
       "      <td>17.120</td>\n",
       "      <td>17.13</td>\n",
       "    </tr>\n",
       "    <tr>\n",
       "      <th>13</th>\n",
       "      <td>16.380</td>\n",
       "      <td>16.24</td>\n",
       "    </tr>\n",
       "    <tr>\n",
       "      <th>14</th>\n",
       "      <td>15.620</td>\n",
       "      <td>15.76</td>\n",
       "    </tr>\n",
       "  </tbody>\n",
       "</table>\n",
       "</div>"
      ],
      "text/plain": [
       "     H35Cl  H37Cl\n",
       "0      NaN    NaN\n",
       "1   24.240  24.12\n",
       "2   23.630  23.76\n",
       "3   23.250  23.12\n",
       "4   22.620  22.62\n",
       "5   22.000  22.00\n",
       "6   21.500  21.50\n",
       "7   20.565  20.50\n",
       "8   19.750  19.63\n",
       "9   19.000  19.00\n",
       "10  18.380  18.37\n",
       "11  17.620  17.63\n",
       "12  17.120  17.13\n",
       "13  16.380  16.24\n",
       "14  15.620  15.76"
      ]
     },
     "execution_count": 84,
     "metadata": {},
     "output_type": "execute_result"
    }
   ],
   "source": [
    "# Print difference between peaks scaled by difference in m values\n",
    "print('Mean values:\\n',hcl_peak_data[['H35Cl','H37Cl']].diff().div(hcl_peak_data['m'].diff(), axis=0).mean())\n",
    "print('Table 3. HCl Subtracted Peak Energies')\n",
    "hcl_peak_data[['H35Cl','H37Cl']].diff().div(hcl_peak_data.m.diff(), axis=0)"
   ]
  },
  {
   "cell_type": "code",
   "execution_count": 16,
   "metadata": {
    "tags": []
   },
   "outputs": [
    {
     "data": {
      "image/png": "[encoded data removed]",
      "text/plain": [
       "<Figure size 432x288 with 1 Axes>"
      ]
     },
     "metadata": {
      "needs_background": "light"
     },
     "output_type": "display_data"
    }
   ],
   "source": [
    "# Plot 'm' vs peak location\n",
    "hcl_peak_data.plot(x='m', y=['H35Cl','H37Cl'], marker='.', linewidth=0)\n",
    "plt.title('Figure 4. m vs. Wavelength')\n",
    "plt.show()"
   ]
  },
  {
   "cell_type": "markdown",
   "metadata": {
    "tags": []
   },
   "source": [
    "At this point, I used the `curve_fit` routine from `scipy.optimize`. The statistics for the curve fit are given as a [covariance matrix][cov-mat]. The diagonal elements are the variance of the individual elements (fit parameters, the polynomial coefficients in this case). To get out the standard errors, I took the square root of the diagonal elements of that matrix (line 11). \n",
    "\n",
    "[cov-mat]: https://en.wikipedia.org/wiki/Covariance_matrix"
   ]
  },
  {
   "cell_type": "code",
   "execution_count": 17,
   "metadata": {
    "tags": []
   },
   "outputs": [
    {
     "name": "stdout",
     "output_type": "stream",
     "text": [
      "[2.88600857e+03 1.05954599e+01 3.02726024e-01 5.83241007e-04] \n",
      " [1.62405661e-02 2.61468056e-03 5.84373875e-04 3.28950695e-05]\n"
     ]
    },
    {
     "data": {
      "text/plain": [
       "Text(0, 0.5, 'Wavenumber')"
      ]
     },
     "execution_count": 17,
     "metadata": {},
     "output_type": "execute_result"
    },
    {
     "data": {
      "image/png": "[encoded data removed]",
      "text/plain": [
       "<Figure size 432x288 with 1 Axes>"
      ]
     },
     "metadata": {
      "needs_background": "light"
     },
     "output_type": "display_data"
    }
   ],
   "source": [
    "from scipy.optimize import curve_fit\n",
    "\n",
    "# Create model function for \\nu(m). Can be kept for later fits\n",
    "def nu(m, nu0, B_e, A_e, D_J):\n",
    "    return nu0 + ((2 * B_e - 2 * A_e) * m) - (A_e * m ** 2) - (4* D_J * m ** 3)\n",
    "\n",
    "# Fit the H35Cl data, store the fit coefficients and covariance matrix\n",
    "h35cl_coeff, h35cl_cov = curve_fit(nu, hcl_peak_data['m'], hcl_peak_data['H35Cl'])\n",
    "\n",
    "# Diagonal elements are the variance of the fit parameters, \\sigma^2\n",
    "h35cl_fit_err = np.sqrt(np.diag(h35cl_cov)) \n",
    "print(h35cl_coeff,'\\n', h35cl_fit_err)\n",
    "\n",
    "# Plot our resultant fit agains the original data as a check\n",
    "plt.plot(hcl_peak_data['m'], nu(hcl_peak_data['m'], *h35cl_coeff), 'b-',\n",
    "         hcl_peak_data['m'], hcl_peak_data['H35Cl'], 'rd')\n",
    "\n",
    "# Provide a legend that states the fit parameters. \n",
    "# LaTeX elements can be included by wrapping them in $…$\n",
    "plt.legend(['fit, coefficients:\\n' + \n",
    "            f'$\\\\nu_0=${h35cl_coeff[0]:1.2f}, $B_e=${h35cl_coeff[1]:1.2f},\\n' + \n",
    "            f'$\\\\alpha_e=${h35cl_coeff[2]:1.4}, $D_J=${h35cl_coeff[3]:1.3e}', \n",
    "            '$^1$H$^{35}$Cl experimental'],loc='lower right')\n",
    "plt.title('Figure 5. HCl Multiple Linear Least-Squares Fit of m vs. Wavenumber')\n",
    "plt.xlabel('m')\n",
    "plt.ylabel('Wavenumber')"
   ]
  },
  {
   "cell_type": "code",
   "execution_count": 18,
   "metadata": {
    "tags": []
   },
   "outputs": [
    {
     "name": "stdout",
     "output_type": "stream",
     "text": [
      "[2.88390433e+03 1.05732740e+01 3.02785498e-01 4.90491555e-04] \n",
      " [1.77413650e-02 2.85633745e-03 6.38371484e-04 3.59346187e-05]\n"
     ]
    },
    {
     "data": {
      "text/plain": [
       "Text(0, 0.5, 'Wavenumber')"
      ]
     },
     "execution_count": 18,
     "metadata": {},
     "output_type": "execute_result"
    },
    {
     "data": {
      "image/png": "[encoded data removed]",
      "text/plain": [
       "<Figure size 432x288 with 1 Axes>"
      ]
     },
     "metadata": {
      "needs_background": "light"
     },
     "output_type": "display_data"
    }
   ],
   "source": [
    "# Fit the H35Cl data, store the fit coefficients and covariance matrix\n",
    "h37cl_coeff, h37cl_cov = curve_fit(nu, hcl_peak_data['m'], hcl_peak_data['H37Cl'])\n",
    "\n",
    "# Diagonal elements are the variance of the fit parameters, \\sigma^2\n",
    "h37cl_fit_err = np.sqrt(np.diag(h37cl_cov)) \n",
    "print(h37cl_coeff,'\\n', h37cl_fit_err)\n",
    "\n",
    "# Plot our resultant fit agains the original data as a check\n",
    "plt.plot(hcl_peak_data['m'], nu(hcl_peak_data['m'], *h37cl_coeff), 'b-',\n",
    "         hcl_peak_data['m'], hcl_peak_data['H37Cl'], 'rd')\n",
    "\n",
    "# Provide a legend that states the fit parameters. \n",
    "# LaTeX elements can be included by wrapping them in $…$\n",
    "plt.legend(['fit, coefficients:\\n' + \n",
    "            f'$\\\\nu_0=${h37cl_coeff[0]:1.2f}, $B_e=${h37cl_coeff[1]:1.2f},\\n' + \n",
    "            f'$\\\\alpha_e=${h37cl_coeff[2]:1.4}, $D_J=${h37cl_coeff[3]:1.3e}', \n",
    "            '$^1$H$^{37}$Cl experimental'],loc='lower right')\n",
    "\n",
    "plt.title('Figure 6. DCl Multiple Linear Least-Squares Fit of m vs. Wavenumber')\n",
    "plt.xlabel('m')\n",
    "plt.ylabel('Wavenumber')"
   ]
  },
  {
   "cell_type": "markdown",
   "metadata": {
    "tags": []
   },
   "source": [
    "## Analysis of <sup>2</sup>HCl Spectra"
   ]
  },
  {
   "cell_type": "markdown",
   "metadata": {},
   "source": [
    "I repeated the previous steps for the deuterium chloride spectrum."
   ]
  },
  {
   "cell_type": "code",
   "execution_count": 19,
   "metadata": {
    "tags": []
   },
   "outputs": [
    {
     "name": "stdout",
     "output_type": "stream",
     "text": [
      "49\n"
     ]
    },
    {
     "data": {
      "image/png": "[encoded data removed]",
      "text/plain": [
       "<Figure size 432x288 with 1 Axes>"
      ]
     },
     "metadata": {
      "needs_background": "light"
     },
     "output_type": "display_data"
    }
   ],
   "source": [
    "peaks_dcl, _ = find_peaks(dcl_spectrum['Absorbance'],\n",
    "                     prominence= 0.01, # Start with .01, adjust from there\n",
    "                     height= 0.017)  # Start just above the baseline of your spectrum\n",
    "print(len(peaks_dcl)) # Tells us how many total peaks were found\n",
    "\n",
    "\n",
    "plt.plot(dcl_spectrum.index, dcl_spectrum['Absorbance'])\n",
    "plt.plot(dcl_spectrum.iloc[peaks_dcl[2:-1:2]], # Select the even peaks\n",
    "         marker='.', \n",
    "         color='red',\n",
    "         linewidth=0)\n",
    "plt.plot(dcl_spectrum.iloc[peaks_dcl[3:-1:2]], # Select the odd peaks\n",
    "         marker='.', \n",
    "         color='orange',\n",
    "         linewidth=0)\n",
    "plt.title('Figure 7. Peak Picking of HCl Spectrum')\n",
    "plt.show()"
   ]
  },
  {
   "cell_type": "code",
   "execution_count": 82,
   "metadata": {
    "tags": []
   },
   "outputs": [
    {
     "name": "stdout",
     "output_type": "stream",
     "text": [
      "[-11 -10  -9  -8  -7  -6  -5  -4  -3  -2  -1   1   2   3   4   5   6   7\n",
      "   8   9  10  11  12]\n",
      "Table 4. DCl m Values Associated with Peak Wavelengths\n"
     ]
    },
    {
     "data": {
      "text/html": [
       "<div>\n",
       "<style scoped>\n",
       "    .dataframe tbody tr th:only-of-type {\n",
       "        vertical-align: middle;\n",
       "    }\n",
       "\n",
       "    .dataframe tbody tr th {\n",
       "        vertical-align: top;\n",
       "    }\n",
       "\n",
       "    .dataframe thead th {\n",
       "        text-align: right;\n",
       "    }\n",
       "</style>\n",
       "<table border=\"1\" class=\"dataframe\">\n",
       "  <thead>\n",
       "    <tr style=\"text-align: right;\">\n",
       "      <th></th>\n",
       "      <th>m</th>\n",
       "      <th>D35Cl</th>\n",
       "      <th>D37Cl</th>\n",
       "    </tr>\n",
       "  </thead>\n",
       "  <tbody>\n",
       "    <tr>\n",
       "      <th>0</th>\n",
       "      <td>-11</td>\n",
       "      <td>1960.88</td>\n",
       "      <td>1958.25</td>\n",
       "    </tr>\n",
       "    <tr>\n",
       "      <th>1</th>\n",
       "      <td>-10</td>\n",
       "      <td>1973.75</td>\n",
       "      <td>1971.00</td>\n",
       "    </tr>\n",
       "    <tr>\n",
       "      <th>2</th>\n",
       "      <td>-9</td>\n",
       "      <td>1986.38</td>\n",
       "      <td>1983.62</td>\n",
       "    </tr>\n",
       "    <tr>\n",
       "      <th>3</th>\n",
       "      <td>-8</td>\n",
       "      <td>1998.75</td>\n",
       "      <td>1996.12</td>\n",
       "    </tr>\n",
       "    <tr>\n",
       "      <th>4</th>\n",
       "      <td>-7</td>\n",
       "      <td>2011.12</td>\n",
       "      <td>2008.25</td>\n",
       "    </tr>\n",
       "  </tbody>\n",
       "</table>\n",
       "</div>"
      ],
      "text/plain": [
       "    m    D35Cl    D37Cl\n",
       "0 -11  1960.88  1958.25\n",
       "1 -10  1973.75  1971.00\n",
       "2  -9  1986.38  1983.62\n",
       "3  -8  1998.75  1996.12\n",
       "4  -7  2011.12  2008.25"
      ]
     },
     "execution_count": 82,
     "metadata": {},
     "output_type": "execute_result"
    }
   ],
   "source": [
    "# Assign peak wavelengths to dataframe\n",
    "m_values = np.arange(-11,13)\n",
    "m_values = m_values[m_values != 0]\n",
    "dcl_data = {'m': m_values,\n",
    "            'D35Cl': dcl_spectrum.iloc[peaks_dcl[3:-1:2]].index.values,\n",
    "            'D37Cl': dcl_spectrum.iloc[peaks_dcl[2:-1:2]].index.values}\n",
    "print(m_values)\n",
    "# Create a dataframe from our assigned values\n",
    "dcl_peak_data = pd.DataFrame(data=dcl_data)\n",
    "\n",
    "print('Table 4. DCl m Values Associated with Peak Wavelengths')\n",
    "dcl_peak_data.head()"
   ]
  },
  {
   "cell_type": "code",
   "execution_count": 85,
   "metadata": {
    "tags": []
   },
   "outputs": [
    {
     "name": "stdout",
     "output_type": "stream",
     "text": [
      "Mean values:\n",
      " D35Cl    10.474318\n",
      "D37Cl    10.449091\n",
      "dtype: float64\n",
      "Table 5. Subtracted Peak Energies\n"
     ]
    },
    {
     "data": {
      "text/html": [
       "<div>\n",
       "<style scoped>\n",
       "    .dataframe tbody tr th:only-of-type {\n",
       "        vertical-align: middle;\n",
       "    }\n",
       "\n",
       "    .dataframe tbody tr th {\n",
       "        vertical-align: top;\n",
       "    }\n",
       "\n",
       "    .dataframe thead th {\n",
       "        text-align: right;\n",
       "    }\n",
       "</style>\n",
       "<table border=\"1\" class=\"dataframe\">\n",
       "  <thead>\n",
       "    <tr style=\"text-align: right;\">\n",
       "      <th></th>\n",
       "      <th>D35Cl</th>\n",
       "      <th>D37Cl</th>\n",
       "    </tr>\n",
       "  </thead>\n",
       "  <tbody>\n",
       "    <tr>\n",
       "      <th>0</th>\n",
       "      <td>NaN</td>\n",
       "      <td>NaN</td>\n",
       "    </tr>\n",
       "    <tr>\n",
       "      <th>1</th>\n",
       "      <td>12.870</td>\n",
       "      <td>12.75</td>\n",
       "    </tr>\n",
       "    <tr>\n",
       "      <th>2</th>\n",
       "      <td>12.630</td>\n",
       "      <td>12.62</td>\n",
       "    </tr>\n",
       "    <tr>\n",
       "      <th>3</th>\n",
       "      <td>12.370</td>\n",
       "      <td>12.50</td>\n",
       "    </tr>\n",
       "    <tr>\n",
       "      <th>4</th>\n",
       "      <td>12.370</td>\n",
       "      <td>12.13</td>\n",
       "    </tr>\n",
       "    <tr>\n",
       "      <th>5</th>\n",
       "      <td>12.000</td>\n",
       "      <td>12.13</td>\n",
       "    </tr>\n",
       "    <tr>\n",
       "      <th>6</th>\n",
       "      <td>11.880</td>\n",
       "      <td>11.74</td>\n",
       "    </tr>\n",
       "    <tr>\n",
       "      <th>7</th>\n",
       "      <td>11.620</td>\n",
       "      <td>11.63</td>\n",
       "    </tr>\n",
       "    <tr>\n",
       "      <th>8</th>\n",
       "      <td>11.500</td>\n",
       "      <td>11.37</td>\n",
       "    </tr>\n",
       "    <tr>\n",
       "      <th>9</th>\n",
       "      <td>11.130</td>\n",
       "      <td>11.26</td>\n",
       "    </tr>\n",
       "    <tr>\n",
       "      <th>10</th>\n",
       "      <td>11.000</td>\n",
       "      <td>11.00</td>\n",
       "    </tr>\n",
       "    <tr>\n",
       "      <th>11</th>\n",
       "      <td>10.685</td>\n",
       "      <td>10.62</td>\n",
       "    </tr>\n",
       "    <tr>\n",
       "      <th>12</th>\n",
       "      <td>10.380</td>\n",
       "      <td>10.26</td>\n",
       "    </tr>\n",
       "    <tr>\n",
       "      <th>13</th>\n",
       "      <td>10.120</td>\n",
       "      <td>10.12</td>\n",
       "    </tr>\n",
       "    <tr>\n",
       "      <th>14</th>\n",
       "      <td>9.880</td>\n",
       "      <td>9.88</td>\n",
       "    </tr>\n",
       "    <tr>\n",
       "      <th>15</th>\n",
       "      <td>9.620</td>\n",
       "      <td>9.50</td>\n",
       "    </tr>\n",
       "    <tr>\n",
       "      <th>16</th>\n",
       "      <td>9.380</td>\n",
       "      <td>9.37</td>\n",
       "    </tr>\n",
       "    <tr>\n",
       "      <th>17</th>\n",
       "      <td>9.120</td>\n",
       "      <td>9.13</td>\n",
       "    </tr>\n",
       "    <tr>\n",
       "      <th>18</th>\n",
       "      <td>8.880</td>\n",
       "      <td>8.87</td>\n",
       "    </tr>\n",
       "    <tr>\n",
       "      <th>19</th>\n",
       "      <td>8.620</td>\n",
       "      <td>8.63</td>\n",
       "    </tr>\n",
       "    <tr>\n",
       "      <th>20</th>\n",
       "      <td>8.380</td>\n",
       "      <td>8.37</td>\n",
       "    </tr>\n",
       "    <tr>\n",
       "      <th>21</th>\n",
       "      <td>8.120</td>\n",
       "      <td>8.13</td>\n",
       "    </tr>\n",
       "    <tr>\n",
       "      <th>22</th>\n",
       "      <td>7.880</td>\n",
       "      <td>7.87</td>\n",
       "    </tr>\n",
       "  </tbody>\n",
       "</table>\n",
       "</div>"
      ],
      "text/plain": [
       "     D35Cl  D37Cl\n",
       "0      NaN    NaN\n",
       "1   12.870  12.75\n",
       "2   12.630  12.62\n",
       "3   12.370  12.50\n",
       "4   12.370  12.13\n",
       "5   12.000  12.13\n",
       "6   11.880  11.74\n",
       "7   11.620  11.63\n",
       "8   11.500  11.37\n",
       "9   11.130  11.26\n",
       "10  11.000  11.00\n",
       "11  10.685  10.62\n",
       "12  10.380  10.26\n",
       "13  10.120  10.12\n",
       "14   9.880   9.88\n",
       "15   9.620   9.50\n",
       "16   9.380   9.37\n",
       "17   9.120   9.13\n",
       "18   8.880   8.87\n",
       "19   8.620   8.63\n",
       "20   8.380   8.37\n",
       "21   8.120   8.13\n",
       "22   7.880   7.87"
      ]
     },
     "execution_count": 85,
     "metadata": {},
     "output_type": "execute_result"
    }
   ],
   "source": [
    "# Print difference between peaks scaled by difference in m values\n",
    "print('Mean values:\\n',dcl_peak_data[['D35Cl','D37Cl']].diff().div(dcl_peak_data['m'].diff(), axis=0).mean())\n",
    "print('Table 5. Subtracted Peak Energies')\n",
    "dcl_peak_data[['D35Cl','D37Cl']].diff().div(dcl_peak_data.m.diff(), axis=0)"
   ]
  },
  {
   "cell_type": "code",
   "execution_count": 22,
   "metadata": {
    "tags": []
   },
   "outputs": [
    {
     "data": {
      "image/png": "[encoded data removed]",
      "text/plain": [
       "<Figure size 432x288 with 1 Axes>"
      ]
     },
     "metadata": {
      "needs_background": "light"
     },
     "output_type": "display_data"
    }
   ],
   "source": [
    "# Plot 'm' vs peak location\n",
    "dcl_peak_data.plot(x='m', y=['D35Cl','D37Cl'], marker='.', linewidth=0)\n",
    "plt.title('Figure 8. m vs. Wavelength')\n",
    "plt.show()"
   ]
  },
  {
   "cell_type": "code",
   "execution_count": 23,
   "metadata": {
    "tags": []
   },
   "outputs": [
    {
     "name": "stdout",
     "output_type": "stream",
     "text": [
      "[2.09109271e+03 5.45099826e+00 1.12210026e-01 1.57477893e-04] \n",
      " [1.08821041e-02 1.22516142e-03 1.70139441e-04 6.65171477e-06]\n"
     ]
    },
    {
     "data": {
      "image/png": "[encoded data removed]",
      "text/plain": [
       "<Figure size 432x288 with 1 Axes>"
      ]
     },
     "metadata": {
      "needs_background": "light"
     },
     "output_type": "display_data"
    }
   ],
   "source": [
    "# Fit the H35Cl data, store the fit coefficients and covariance matrix\n",
    "d35cl_coeff, d35cl_cov = curve_fit(nu, dcl_peak_data['m'], dcl_peak_data['D35Cl'])\n",
    "\n",
    "# Diagonal elements are the variance of the fit parameters, \\sigma^2\n",
    "d35cl_fit_err = np.sqrt(np.diag(d35cl_cov)) \n",
    "print(d35cl_coeff,'\\n', d35cl_fit_err)\n",
    "\n",
    "# Plot our resultant fit agains the original data as a check\n",
    "plt.plot(dcl_peak_data['m'], nu(dcl_peak_data['m'], *d35cl_coeff), 'b-',\n",
    "         dcl_peak_data['m'], dcl_peak_data['D35Cl'], 'rd')\n",
    "\n",
    "# Provide a legend that states the fit parameters. \n",
    "# LaTeX elements can be included by wrapping them in $…$\n",
    "plt.legend(['fit, coefficients:\\n' + \n",
    "            f'$\\\\nu_0=${d35cl_coeff[0]:1.2f}, $B_e=${d35cl_coeff[1]:1.2f},\\n' + \n",
    "            f'$\\\\alpha_e=${d35cl_coeff[2]:1.4}, $D_J=${d35cl_coeff[3]:1.3e}', \n",
    "            '$^1$D$^{35}$Cl experimental'],loc='lower right')\n",
    "\n",
    "plt.title('Figure 8. DCl Multiple Linear Least-Squares Fit of m vs. Wavenumber')\n",
    "plt.xlabel('m')\n",
    "plt.ylabel('Wavenumber')\n",
    "plt.show()"
   ]
  },
  {
   "cell_type": "code",
   "execution_count": 24,
   "metadata": {
    "tags": []
   },
   "outputs": [
    {
     "name": "stdout",
     "output_type": "stream",
     "text": [
      "[2.08807939e+03 5.43163950e+00 1.11864346e-01 1.32422221e-04] \n",
      " [1.18753489e-02 1.33695189e-03 1.85669522e-04 7.25867144e-06]\n"
     ]
    },
    {
     "data": {
      "text/plain": [
       "Text(0, 0.5, 'Wavenumber')"
      ]
     },
     "execution_count": 24,
     "metadata": {},
     "output_type": "execute_result"
    },
    {
     "data": {
      "image/png": "[encoded data removed]",
      "text/plain": [
       "<Figure size 432x288 with 1 Axes>"
      ]
     },
     "metadata": {
      "needs_background": "light"
     },
     "output_type": "display_data"
    }
   ],
   "source": [
    "# Fit the H35Cl data, store the fit coefficients and covariance matrix\n",
    "d37cl_coeff, d37cl_cov = curve_fit(nu, dcl_peak_data['m'], dcl_peak_data['D37Cl'])\n",
    "\n",
    "# Diagonal elements are the variance of the fit parameters, \\sigma^2\n",
    "d37cl_fit_err = np.sqrt(np.diag(d37cl_cov)) \n",
    "print(d37cl_coeff,'\\n', d37cl_fit_err)\n",
    "\n",
    "# Plot our resultant fit agains the original data as a check\n",
    "plt.plot(dcl_peak_data['m'], nu(dcl_peak_data['m'], *d37cl_coeff), 'b-',\n",
    "         dcl_peak_data['m'], dcl_peak_data['D37Cl'], 'rd')\n",
    "\n",
    "# Provide a legend that states the fit parameters. \n",
    "# LaTeX elements can be included by wrapping them in $…$\n",
    "plt.legend(['fit, coefficients:\\n' + \n",
    "            f'$\\\\nu_0=${d37cl_coeff[0]:1.2f}, $B_e=${d37cl_coeff[1]:1.2f},\\n' + \n",
    "            f'$\\\\alpha_e=${d37cl_coeff[2]:1.4}, $D_J=${d37cl_coeff[3]:1.3e}', \n",
    "            '$^1$D$^{37}$Cl experimental'],loc='lower right')\n",
    "\n",
    "plt.title('Figure 9. DCl Multiple Linear Least-Squares Fit of m vs. Wavenumber')\n",
    "plt.xlabel('m')\n",
    "plt.ylabel('Wavenumber')"
   ]
  },
  {
   "cell_type": "markdown",
   "metadata": {
    "tags": []
   },
   "source": [
    "## Calculation of molecular constants"
   ]
  },
  {
   "cell_type": "code",
   "execution_count": 89,
   "metadata": {
    "tags": []
   },
   "outputs": [
    {
     "data": {
      "text/plain": [
       "{'': ['H35Cl', 'H37Cl', 'D35Cl', 'D37Cl'],\n",
       " 'nu_e (cm-1)': [],\n",
       " 'nu_0 (cm-1)': [2886.009, 2883.904, 2091.093, 2088.079],\n",
       " 'B_e (cm-1)': [10.595, 10.573, 5.451, 5.432],\n",
       " 'alpha_e (cm-1)': [0.303, 0.303, 0.112, 0.112],\n",
       " 'D_j (cm-1)': [0.000583, 0.00049, 0.000157, 0.000132],\n",
       " 'k': []}"
      ]
     },
     "execution_count": 89,
     "metadata": {},
     "output_type": "execute_result"
    }
   ],
   "source": [
    "#hcl_con_dict['Constants'][0] = [h35cl_coeff[0], h37cl_coeff[0], d35cl_coeff[0], d37cl_coeff[0]]\n",
    "#hcl_con_dict = {'Constants': ['nu_0', 'B_e', 'A_e', 'D_e', 'nu_e', 'k', ...]}\n",
    "cal_vars_dict = {'': ['H35Cl', 'H37Cl', 'D35Cl', 'D37Cl'], 'nu_e (cm-1)' : [], 'nu_0 (cm-1)': [], 'B_e (cm-1)' : [], 'alpha_e (cm-1)' : [], 'D_j (cm-1)' : [], 'nu_e (cm-1)' : [], 'k' : []}\n",
    "cal_vars_dict['nu_0 (cm-1)'] = [round(h35cl_coeff[0], 3), round(h37cl_coeff[0], 3), round(d35cl_coeff[0], 3), round(d37cl_coeff[0], 3)]\n",
    "cal_vars_dict['B_e (cm-1)'] = [round(h35cl_coeff[1], 3), round(h37cl_coeff[1], 3), round(d35cl_coeff[1], 3), round(d37cl_coeff[1], 3)]\n",
    "cal_vars_dict['alpha_e (cm-1)'] = [round(h35cl_coeff[2], 3), round(h37cl_coeff[2], 3), round(d35cl_coeff[2], 3), round(d37cl_coeff[2], 3)]\n",
    "cal_vars_dict['D_j (cm-1)'] = [round(h35cl_coeff[3], 6), round(h37cl_coeff[3], 6), round(d35cl_coeff[3], 6), round(d37cl_coeff[3], 6)]\n",
    "cal_vars_dict"
   ]
  },
  {
   "cell_type": "code",
   "execution_count": 90,
   "metadata": {
    "tags": []
   },
   "outputs": [],
   "source": [
    "# Calculate values for \\nu_e, \\nu_e\\chi_e, k (force constant)\n",
    "\n",
    "# USE EQUATION 18 AND EQUATION 8 TO FIND NU_E AND NU_E*CHI_E WITH TWO EQUATIONS\n",
    "#H35CL WILL BE ALL VALUES WITHOUT A STAR SO NU_E IN EQ.9 WILL BE H35CL value\n",
    "#D35CL WILL BE ALL VALUES WITH A STAR\n",
    "### THIS WILL GET ME NU_E*CHI_E WHICH IS CONSIDERED ONE VARIABLE\n",
    "#REPAT PROCESS FOUR TIMES\n",
    "\n",
    "##DO NOT HAVE TO CALCUATE D_e and D_0\n",
    "mass_h35cl = 35+1\n",
    "mass_h37cl = 37+1\n",
    "mass_d35cl = 35+2\n",
    "mass_d37cl = 37+2\n",
    "\n",
    "def reduced_mass(mass1, mass2):\n",
    "    numerator = mass1*mass2\n",
    "    denominator = mass1+mass2\n",
    "    return numerator/denominator\n",
    "\n",
    "def nu_e_CHI_e(nu_0, reduced_mass1, reduced_mass2):\n",
    "    numerator = nu_0 * (1 - np.sqrt(reduced_mass1/reduced_mass2))\n",
    "    denominator = 2 * ( np.sqrt(reduced_mass1/reduced_mass2) - (reduced_mass1/reduced_mass2) )\n",
    "    return round(numerator/denominator, 3)\n",
    "\n",
    "#Combining Eq. 18 and Eq. 9\n",
    "h35cl_nu_e_times_CHI_e = nu_e_CHI_e(cal_vars_dict['nu_0 (cm-1)'][0], reduced_mass(35, 1), reduced_mass(37, 1))\n",
    "h37cl_nu_e_times_CHI_e = nu_e_CHI_e(cal_vars_dict['nu_0 (cm-1)'][0], reduced_mass(37, 1), reduced_mass(35, 1))\n",
    "d35cl_nu_e_times_CHI_e = nu_e_CHI_e(cal_vars_dict['nu_0 (cm-1)'][0], reduced_mass(35, 2), reduced_mass(37, 1))\n",
    "d37cl_nu_e_times_CHI_e = nu_e_CHI_e(cal_vars_dict['nu_0 (cm-1)'][0], reduced_mass(37, 2), reduced_mass(37, 1))\n",
    "\n",
    "cal_vars_dict['nu_e*CHI_e'] = [h35cl_nu_e_times_CHI_e, h37cl_nu_e_times_CHI_e, d35cl_nu_e_times_CHI_e, d37cl_nu_e_times_CHI_e]\n",
    "\n",
    "h35cl_nu_e = (cal_vars_dict['nu_0 (cm-1)'][0] + 2*h35cl_nu_e_times_CHI_e)/2\n",
    "h37cl_nu_e = (cal_vars_dict['nu_0 (cm-1)'][0] + 2*h37cl_nu_e_times_CHI_e)/2\n",
    "d35cl_nu_e = (cal_vars_dict['nu_0 (cm-1)'][0] + 2*d35cl_nu_e_times_CHI_e)/2\n",
    "d37cl_nu_e = (cal_vars_dict['nu_0 (cm-1)'][0] + 2*d37cl_nu_e_times_CHI_e)/2\n",
    "\n",
    "cal_vars_dict['nu_e (cm-1)'] = [round(h35cl_nu_e, 3), round(h37cl_nu_e, 3), round(d35cl_nu_e, 3), round(d37cl_nu_e, 3)]"
   ]
  },
  {
   "cell_type": "code",
   "execution_count": 91,
   "metadata": {
    "tags": []
   },
   "outputs": [],
   "source": [
    "h35cl_k = ( cal_vars_dict['nu_e (cm-1)'][0]*(2*np.pi*sp.constants.speed_of_light) )**2 *reduced_mass(35, 1) \n",
    "h37cl_k = ( cal_vars_dict['nu_e (cm-1)'][1]*(2*np.pi*sp.constants.speed_of_light) )**2 *reduced_mass(37, 1) \n",
    "d35cl_k = ( cal_vars_dict['nu_e (cm-1)'][2]*(2*np.pi*sp.constants.speed_of_light) )**2 *reduced_mass(35, 2) \n",
    "d37cl_k = ( cal_vars_dict['nu_e (cm-1)'][3]*(2*np.pi*sp.constants.speed_of_light) )**2 *reduced_mass(37, 2) \n",
    "cal_vars_dict['k'] = [round(h35cl_k, 28), round(h37cl_k, 3), round(d35cl_k, 3), round(d37cl_k, 3)] \n"
   ]
  },
  {
   "cell_type": "code",
   "execution_count": 92,
   "metadata": {
    "tags": []
   },
   "outputs": [],
   "source": [
    "#EQ FROM QUESTIONS & FURTHER THOUGHTS/DATA ANALYSIS QUESTION 2\n",
    "\n",
    "def Bv(B_e, alpha_e, quantum_nums):\n",
    "    temp_Bv = []\n",
    "    for v in range(quantum_nums):\n",
    "        result = B_e - alpha_e*(v + 1/2)\n",
    "        temp_Bv.append(round(result, 3))\n",
    "    return temp_Bv\n",
    "        \n",
    "h35cl_Bv_values = Bv(cal_vars_dict['B_e (cm-1)'][0], cal_vars_dict['alpha_e (cm-1)'][0], 3)\n",
    "h37cl_Bv_values = Bv(cal_vars_dict['B_e (cm-1)'][1], cal_vars_dict['alpha_e (cm-1)'][1], 3)\n",
    "d35cl_Bv_values = Bv(cal_vars_dict['B_e (cm-1)'][2], cal_vars_dict['alpha_e (cm-1)'][2], 3)\n",
    "d37cl_Bv_values = Bv(cal_vars_dict['B_e (cm-1)'][3], cal_vars_dict['alpha_e (cm-1)'][3], 3)\n",
    "\n",
    "cal_vars_dict['B_v (cm-1)'] = [h35cl_Bv_values, h37cl_Bv_values, d35cl_Bv_values, d37cl_Bv_values]"
   ]
  },
  {
   "cell_type": "code",
   "execution_count": 93,
   "metadata": {
    "tags": []
   },
   "outputs": [],
   "source": [
    "def equilibrium_I_e(B_e):\n",
    "    return sp.constants.h / ( B_e*(8*np.pi**2 *sp.constants.speed_of_light) ) \n",
    "h35cl_I_e = equilibrium_I_e(cal_vars_dict['B_e (cm-1)'][0])\n",
    "h37cl_I_e = equilibrium_I_e(cal_vars_dict['B_e (cm-1)'][1])\n",
    "d35cl_I_e = equilibrium_I_e(cal_vars_dict['B_e (cm-1)'][2])\n",
    "d37cl_I_e = equilibrium_I_e(cal_vars_dict['B_e (cm-1)'][3])\n",
    "\n",
    "cal_vars_dict['I_e (kg*m^2)'] = [round(h35cl_I_e, 47), h37cl_I_e, d35cl_I_e, d37cl_I_e]"
   ]
  },
  {
   "cell_type": "code",
   "execution_count": 94,
   "metadata": {
    "tags": []
   },
   "outputs": [],
   "source": [
    "def r_e(I_e, mu):\n",
    "    return np.sqrt(I_e/mu)\n",
    "\n",
    "h35cl_r_e = r_e(cal_vars_dict['I_e (kg*m^2)'][0], reduced_mass(35, 1))\n",
    "h37cl_r_e = r_e(cal_vars_dict['I_e (kg*m^2)'][1], reduced_mass(37, 1))\n",
    "d35cl_r_e = r_e(cal_vars_dict['I_e (kg*m^2)'][2], reduced_mass(35, 2))\n",
    "d37cl_r_e = r_e(cal_vars_dict['I_e (kg*m^2)'][3], reduced_mass(37, 2))\n",
    "cal_vars_dict['r_e'] = [h35cl_r_e, h37cl_r_e, d35cl_r_e, d37cl_r_e]"
   ]
  },
  {
   "cell_type": "code",
   "execution_count": 95,
   "metadata": {
    "tags": []
   },
   "outputs": [],
   "source": [
    "# Data collected from Gaussian vibrational calculations\n",
    "\n",
    "g16_D_e = [-460.346873, -460.346956, -460.349508, -460.349593]\n",
    "\n",
    "# Gaussian calculated E(anharm) was converted from cm^-1 to Hartfree\n",
    "g16_E_anharm = [0.00691145031, 0.00690625153, 0.00496680641, 0.0049595345]\n",
    "D_0 = [g16_D_e[0]+g16_E_anharm[0], g16_D_e[1]+g16_E_anharm[1], \n",
    "       g16_D_e[2]+g16_E_anharm[2], g16_D_e[3]+g16_E_anharm[3]]\n",
    "cal_vars_dict['D_e (Ha)'] = g16_D_e\n",
    "cal_vars_dict['D_0 (Ha)'] = D_0"
   ]
  },
  {
   "cell_type": "code",
   "execution_count": 96,
   "metadata": {
    "tags": []
   },
   "outputs": [],
   "source": [
    "df = pd.DataFrame(cal_vars_dict)"
   ]
  },
  {
   "cell_type": "code",
   "execution_count": 97,
   "metadata": {
    "tags": []
   },
   "outputs": [],
   "source": [
    "# Convert coefficients to a list of values, then add your new values to the list\n",
    "# h35cl_vals will be used to create an entry (row) in your dictionary of constants\n",
    "h35cl_vals = h35cl_coeff.tolist()\n",
    "h35cl_vals.extend([\n",
    "    #Insert list of values or variables for nu_e, k, etc.\n",
    "])\n",
    "\n",
    "# Add an entry to the dictionary for your first molecule. \n",
    "# This creates a new key ('H35Cl') and assigns h35cl_vals to that key. \n",
    "# Make sure you keep the order you assigned above\n",
    "hcl_con_dict['H35Cl'] =  h35cl_vals"
   ]
  },
  {
   "cell_type": "code",
   "execution_count": 98,
   "metadata": {
    "tags": []
   },
   "outputs": [
    {
     "name": "stdout",
     "output_type": "stream",
     "text": [
      "-0.000574949654704282 \n",
      " 0.000577012378671915 \n",
      " -0.0022658872411209785 \n",
      " -0.001169706582077712\n",
      "[0.9979235488437942, 0.9984984984984985] \n",
      " [1.0020807717771683, 1.0015037593984963] \n",
      " [1.943680058704825, 1.945945945945946] \n",
      " [1.9504786450662739, 1.9516483516483516]\n"
     ]
    }
   ],
   "source": [
    "# Data Analysis Question 1\n",
    "# Be*/Be = 𝜇/𝜇*\n",
    "\n",
    "iso_eff_H35Cl = [df['B_e (cm-1)'][1]/df['B_e (cm-1)'][0], reduced_mass(35, 1)/reduced_mass(37, 1)]\n",
    "iso_eff_H37Cl = [df['B_e (cm-1)'][0]/df['B_e (cm-1)'][1], reduced_mass(37, 1)/reduced_mass(35, 1)]\n",
    "iso_eff_D35Cl = [df['B_e (cm-1)'][0]/df['B_e (cm-1)'][2], reduced_mass(35, 2)/reduced_mass(35, 1)]\n",
    "iso_eff_D37Cl = [df['B_e (cm-1)'][0]/df['B_e (cm-1)'][3], reduced_mass(37, 2)/reduced_mass(35, 1)]\n",
    "\n",
    "print(iso_eff_H35Cl[0]-iso_eff_H35Cl[1], '\\n', iso_eff_H37Cl[0]-iso_eff_H37Cl[1], '\\n', iso_eff_D35Cl[0]-iso_eff_D35Cl[1], '\\n', iso_eff_D37Cl[0]-iso_eff_D37Cl[1])\n",
    "print(iso_eff_H35Cl, '\\n', iso_eff_H37Cl, '\\n', iso_eff_D35Cl, '\\n', iso_eff_D37Cl)"
   ]
  },
  {
   "cell_type": "code",
   "execution_count": 99,
   "metadata": {
    "tags": []
   },
   "outputs": [
    {
     "name": "stdout",
     "output_type": "stream",
     "text": [
      "0.14151618477128536 \n",
      " -1.0483740453537393e-07 \n",
      " -0.2299818779260001 \n",
      " -0.2313130835035171\n"
     ]
    }
   ],
   "source": [
    "# Data Analysis Question 3\n",
    "# nu_e*/nu_e = sqrt(𝜇/𝜇*)\n",
    "\n",
    "ratio_harmonic_H35Cl = [df['nu_e (cm-1)'][2]/df['nu_e (cm-1)'][0], np.sqrt( reduced_mass(35, 1)/reduced_mass(35, 2) )]\n",
    "ratio_harmonic_H37Cl = [df['nu_e (cm-1)'][0]/df['nu_e (cm-1)'][1], np.sqrt( reduced_mass(37, 1)/reduced_mass(35, 1) )]\n",
    "ratio_harmonic_D35Cl = [df['nu_e (cm-1)'][0]/df['nu_e (cm-1)'][2], np.sqrt( reduced_mass(35, 2)/reduced_mass(35, 1) )]\n",
    "ratio_harmonic_D37Cl = [df['nu_e (cm-1)'][0]/df['nu_e (cm-1)'][3], np.sqrt( reduced_mass(37, 2)/reduced_mass(35, 1) )]\n",
    "print(ratio_harmonic_H35Cl[0]-ratio_harmonic_H35Cl[1], '\\n', ratio_harmonic_H37Cl[0]-ratio_harmonic_H37Cl[1], '\\n', ratio_harmonic_D35Cl[0]-ratio_harmonic_D35Cl[1], '\\n', ratio_harmonic_D37Cl[0]-ratio_harmonic_D37Cl[1])"
   ]
  },
  {
   "cell_type": "code",
   "execution_count": 100,
   "metadata": {
    "tags": []
   },
   "outputs": [
    {
     "data": {
      "text/plain": [
       "1082.52475"
      ]
     },
     "execution_count": 100,
     "metadata": {},
     "output_type": "execute_result"
    }
   ],
   "source": [
    "# Data Analysis Question 4\n",
    "#First Approximation to its Energy Levels\n",
    "def T(v, nu_e, v_e_chi_e, B_e, J, D_J, alpha_e):\n",
    "    first_term = nu_e*(v+0.5)\n",
    "    second_term = v_e_chi_e* (v+0.5)**2\n",
    "    third_term = B_e * J * (J+1)\n",
    "    fourth_term = D_J * (J**2) * (J+1)**2\n",
    "    fifth_term = alpha_e*(v+0.5) * J * (J+1)\n",
    "    return (first_term - second_term)\n",
    "\n",
    "HCl_first_overtone = T(0, df['nu_e (cm-1)'][0], df['nu_e*CHI_e'][0], df['B_e (cm-1)'][0], 0, df['D_j (cm-1)'][0], df['alpha_e (cm-1)'][0])\n",
    "HCl_first_overtone"
   ]
  },
  {
   "cell_type": "code",
   "execution_count": 101,
   "metadata": {
    "tags": []
   },
   "outputs": [
    {
     "name": "stdout",
     "output_type": "stream",
     "text": [
      "The C_v (vib) for H35Cl at 298K is 0.00596 and the C_v (vib) for H35Cl at 1000K is 4.48\n",
      "This is compared to the spectroscopic values of C_v (vib) at 298K which is 0.0138 and the C_v (vib) at 1000K which is 2.41\n"
     ]
    }
   ],
   "source": [
    "# Data Analysis Question 6\n",
    "def Cv(u):\n",
    "    R = sp.constants.R\n",
    "    num = u**2 * np.exp(-u)\n",
    "    denom = 1 - np.exp(-u)**2\n",
    "    return R * num/denom\n",
    "\n",
    "u_298 = Cv((1.4388 * df['nu_0 (cm-1)'][0])/298)\n",
    "H35Cl_Cv_298 = Cv(u_298)\n",
    "\n",
    "u_1000 = Cv((1.4388 * df['nu_0 (cm-1)'][0])/1000)\n",
    "H35Cl_Cv_1000 = Cv(u_1000)\n",
    "print('The C_v (vib) for H35Cl at 298K is', round(H35Cl_Cv_298, 6), 'and the C_v (vib) for H35Cl at 1000K is', round(H35Cl_Cv_1000, 2))\n",
    "\n",
    "spec_Cv_298 = 20.80 - ( (5/2) * sp.constants.R )\n",
    "spec_Cv_1000 = 23.20 - ( (5/2) * sp.constants.R )\n",
    "print('This is compared to the spectroscopic values of C_v (vib) at 298K which is', round(spec_Cv_298, 4), 'and the C_v (vib) at 1000K which is', round(spec_Cv_1000, 2))\n"
   ]
  },
  {
   "cell_type": "code",
   "execution_count": 87,
   "metadata": {
    "tags": []
   },
   "outputs": [
    {
     "name": "stdout",
     "output_type": "stream",
     "text": [
      "Table 6. Final Table with All Calculated Values\n"
     ]
    },
    {
     "data": {
      "text/html": [
       "<div>\n",
       "<style scoped>\n",
       "    .dataframe tbody tr th:only-of-type {\n",
       "        vertical-align: middle;\n",
       "    }\n",
       "\n",
       "    .dataframe tbody tr th {\n",
       "        vertical-align: top;\n",
       "    }\n",
       "\n",
       "    .dataframe thead th {\n",
       "        text-align: right;\n",
       "    }\n",
       "</style>\n",
       "<table border=\"1\" class=\"dataframe\">\n",
       "  <thead>\n",
       "    <tr style=\"text-align: right;\">\n",
       "      <th></th>\n",
       "      <th></th>\n",
       "      <th>$\\nu_e (cm^{-1})$</th>\n",
       "      <th>$\\nu_e (cm^{-1})$</th>\n",
       "      <th>$B_e (cm{-1})$</th>\n",
       "      <th>$\\alpha_e (cm^{-1})$</th>\n",
       "      <th>$D_j (cm^{-1})$</th>\n",
       "      <th>k</th>\n",
       "      <th>$\\nu_e\\chi_e$</th>\n",
       "      <th>$B_v (cm^{-1})$</th>\n",
       "      <th>$I_e (kg*m^2)$</th>\n",
       "      <th>$D_e$ (Ha)</th>\n",
       "      <th>$D_0$ (Ha)</th>\n",
       "      <th>$r_e$</th>\n",
       "    </tr>\n",
       "  </thead>\n",
       "  <tbody>\n",
       "    <tr>\n",
       "      <th>0</th>\n",
       "      <td>H35Cl</td>\n",
       "      <td>2887.094</td>\n",
       "      <td>2886.009</td>\n",
       "      <td>10.595</td>\n",
       "      <td>0.303</td>\n",
       "      <td>0.000583</td>\n",
       "      <td>2.875336e+25</td>\n",
       "      <td>1444.089</td>\n",
       "      <td>[10.444, 10.141, 9.838]</td>\n",
       "      <td>2.640000e-45</td>\n",
       "      <td>5.210977e-23</td>\n",
       "      <td>-460.346873</td>\n",
       "      <td>-460.339962</td>\n",
       "    </tr>\n",
       "    <tr>\n",
       "      <th>1</th>\n",
       "      <td>H37Cl</td>\n",
       "      <td>2884.926</td>\n",
       "      <td>2883.904</td>\n",
       "      <td>10.573</td>\n",
       "      <td>0.303</td>\n",
       "      <td>0.000490</td>\n",
       "      <td>2.875336e+25</td>\n",
       "      <td>1441.921</td>\n",
       "      <td>[10.422, 10.119, 9.816]</td>\n",
       "      <td>2.647569e-45</td>\n",
       "      <td>5.214523e-23</td>\n",
       "      <td>-460.346956</td>\n",
       "      <td>-460.340050</td>\n",
       "    </tr>\n",
       "    <tr>\n",
       "      <th>2</th>\n",
       "      <td>D35Cl</td>\n",
       "      <td>2478.214</td>\n",
       "      <td>2091.093</td>\n",
       "      <td>5.451</td>\n",
       "      <td>0.112</td>\n",
       "      <td>0.000157</td>\n",
       "      <td>4.122637e+25</td>\n",
       "      <td>1035.210</td>\n",
       "      <td>[5.395, 5.283, 5.171]</td>\n",
       "      <td>5.135342e-45</td>\n",
       "      <td>5.209986e-23</td>\n",
       "      <td>-460.349508</td>\n",
       "      <td>-460.344541</td>\n",
       "    </tr>\n",
       "    <tr>\n",
       "      <th>3</th>\n",
       "      <td>D37Cl</td>\n",
       "      <td>2476.702</td>\n",
       "      <td>2088.079</td>\n",
       "      <td>5.432</td>\n",
       "      <td>0.112</td>\n",
       "      <td>0.000132</td>\n",
       "      <td>4.129674e+25</td>\n",
       "      <td>1033.697</td>\n",
       "      <td>[5.376, 5.264, 5.152]</td>\n",
       "      <td>5.153305e-45</td>\n",
       "      <td>5.211459e-23</td>\n",
       "      <td>-460.349593</td>\n",
       "      <td>-460.344633</td>\n",
       "    </tr>\n",
       "  </tbody>\n",
       "</table>\n",
       "</div>"
      ],
      "text/plain": [
       "          $\\nu_e (cm^{-1})$  $\\nu_e (cm^{-1})$  $B_e (cm{-1})$  \\\n",
       "0  H35Cl           2887.094           2886.009          10.595   \n",
       "1  H37Cl           2884.926           2883.904          10.573   \n",
       "2  D35Cl           2478.214           2091.093           5.451   \n",
       "3  D37Cl           2476.702           2088.079           5.432   \n",
       "\n",
       "   $\\alpha_e (cm^{-1})$  $D_j (cm^{-1})$             k  $\\nu_e\\chi_e$  \\\n",
       "0                 0.303         0.000583  2.875336e+25       1444.089   \n",
       "1                 0.303         0.000490  2.875336e+25       1441.921   \n",
       "2                 0.112         0.000157  4.122637e+25       1035.210   \n",
       "3                 0.112         0.000132  4.129674e+25       1033.697   \n",
       "\n",
       "           $B_v (cm^{-1})$  $I_e (kg*m^2)$    $D_e$ (Ha)  $D_0$ (Ha)  \\\n",
       "0  [10.444, 10.141, 9.838]    2.640000e-45  5.210977e-23 -460.346873   \n",
       "1  [10.422, 10.119, 9.816]    2.647569e-45  5.214523e-23 -460.346956   \n",
       "2    [5.395, 5.283, 5.171]    5.135342e-45  5.209986e-23 -460.349508   \n",
       "3    [5.376, 5.264, 5.152]    5.153305e-45  5.211459e-23 -460.349593   \n",
       "\n",
       "        $r_e$  \n",
       "0 -460.339962  \n",
       "1 -460.340050  \n",
       "2 -460.344541  \n",
       "3 -460.344633  "
      ]
     },
     "execution_count": 87,
     "metadata": {},
     "output_type": "execute_result"
    }
   ],
   "source": [
    "print(\"Table 6. Final Table with All Calculated Values\")\n",
    "df.columns = ['', '$\\\\nu_e (cm^{-1})$', '$\\\\nu_e (cm^{-1})$', '$B_e (cm{-1})$', '$\\\\alpha_e (cm^{-1})$', '$D_j (cm^{-1})$', 'k', '$\\\\nu_e\\\\chi_e$', '$B_v (cm^{-1})$', '$I_e (kg*m^2)$', '$D_e$ (Ha)', '$D_0$ (Ha)', '$r_e$']\n",
    "df"
   ]
  },
  {
   "cell_type": "markdown",
   "metadata": {},
   "source": [
    "# Results and Discussion\n",
    "Based on Figure 1, the rotational peaks of HCl show that there are smaller peaks underneath the larger intensity peaks with the same pattern. This pattern can be explained with the natural abundance of Cl. There is about a 3:1 ratio of the isotopes $^{35}Cl$ and $^{37}Cl$ meaning the larger peaks are consistent with $H^{35}Cl$. There is no detectable $D^{35}Cl$ or $D^{37}Cl$ present in the HCl spectrum because $^1H$ has an incredibly high natural abundance. The DCl spectrum is consistent with the patterning of the HCl spectrum with the large peaks being absorption peaks of $D^{35}Cl$ and the smaller peaks being absorption peaks of D37Cl. Two effects that were constant in both spectra was the shifting in peaks to lower wavenumbers for $^{35}Cl$/$^{37}Cl$ and for HCl and DCl. There was a major decrease in wavenumbers associated with peaks when comparing the two spectra in Figure 1. There was a small decrease in wavenumbers associated with peaks when comparing the $^{35}Cl$ peaks and the $^{37}Cl$ peaks. This can be explained by the relationship of reduced mass and the natural frequency of the diatomic bond. As reduced mass increased from HCl to DCl or from $^{35}Cl$ to $^{37}Cl$, the wavenumber decreased due to a decrease in vibration/rotation. This is analogous to a spring as it vibrates less as the weight of the mass increases. Based on quantum mechanics, it is known that these diatomic molecules are quantized by vibrational and rotational energy levels mediated by the quantum variables: 𝑣 and J respectively. If there were only vibrational energy levels, then there would only be one peak in Figure 1 for both spectra. The IR spectra was consistent with expecting multiple peaks in the excited 𝛥𝑣 = |1|. The multiple peaks showed that the selection rules were at play with 𝛥𝐽 = ±1 with P branches on the left of the center of the spectrum and R branches on the right of the center of the spectrum. The equilibrium bond length of $H^{35}Cl$, $H^{37}Cl$, $D^{35}Cl$, and $D^{37}Cl$ was all calculated by Gaussian to have a bond length of 1.271089 Å, but they each had slightly different minimum energy. Figure 5 and 6 for HCl and Figure 8 and 9 for DCl showed slight deviations from a linear trend, but they were still very effective at performing linear regression analysis to find $\\nu_0$, $\\alpha_e$, $B_e$, and $D_j$. There was a trend that indicated that $\\alpha_e$ only changed when the proton isotope changed and it decreased from $^1H$ to $^2H$. It was also observed that $D_j$ decreased slightly when the Cl isotope increased in mass but it decreased even more when observing deuterium. The same trends were observed for $B_e$ and $\\nu_e$. The same trend can actually also be described for $\\nu_0$, $B_v$, and $I_e$ indicating these values are related to the mass of the molecule. The force constant was exactly the same for $H^{35}Cl$ and $H^{37}Cl$, and $D^{35}Cl$ and $D^{37}Cl$ had the same exact force constant as well which is expected when taking into account the isotope effect.\n",
    "    <br> An important analysis of the HCl and DCl was their anharmonicity behavior. This was calculated by computing $\\nu_e^*/\\nu_e$ = $\\sqrt(\\mu/\\mu^*)$ which is a true statement if the diatomic molecule is harmonic. It was calculated that the left side and right side of the equation were not exactly equal but their difference was not very far from each other. This implies there was a little anharmonicity in the diatomic molecules which is expected. ${B_e^*}/B_e$ = $\\mu/\\mu^*$ was also calculated and provided very similar results to the above relation with very small deviation in the ratio on the left and right side. It was also found that as the quantum number $\\nu$ increased, $B_e$ decreased which is due to the isotope effect of $^{35}Cl$/$^{37}Cl$ splitting. After calculating the first overtone to be 1082.5, the value could not be connected to any of the other calculated values. The values of $r_e$ were also consistent with the isotopic effect because it is expected that the internuclear separation at equilibrium will not change from a change of isotope. The heat capacity at constant volume for $H^{35}Cl$ was also evaluated to be 0.00596 J/K @ 298K and 4.48 J/K @ 1000K. This is compared to the spectroscopic values of 0.0128 J/K @ 298K and 2.41 J/K @ 1000 K. The heat capacity for each is not comparable as the calculated heat capacity at 298K is smaller than the spectroscopic value by a factor greater than 10 while the calculated heat capacity at 1000K was greater than the spectroscopic value by almost double. What is clear is that as temperature increases, the heat capacity increases due to an increase in translational, rotational, and vibrational contributions.\n",
    "\n",
    "\n",
    "# Conclusion \n",
    "Some of the most important constants and values calculated were $v_e$, $v_0$, $r_e$, $B_e$, $D_j$, $\\alpha_e$, and $v_e*\\chi_e$, $I_e$, and $D_e$. $v_e$ is the frequency of a molecule vibrating at equilibrium. $v_0$ is the frequency of the forbidden transition. $r_e$ is the internuclear separation at equilibrium. $B_e$ is rotational constant. $D_j$ is the centrifugal distortion constant which accounts for the effects of centrifugal stretching when the molecule rotates. It is also a correction term for an approximation of the energy levels of a diatomic molecule. $\\alpha_e$ takes into account interactions between vibrations and rotations as an anharmonicity correction to rotation. It is also a correction term. $v_e*\\chi_e$ is the anharmonic vibrational frequency correction. $I_e$ is the moment of inertia. $D_e$ takes into account centrifugal stretching between the diatomic molecule. By listing and describing almost every calculated value, it can be clearly shown how powerful of a tool IR can be in analyzing quantum behaviors. The power of IR can not be underestimated because not many instruments can see quantum behaviors with relative quickness and accuracy. It is the hope in the future that more methods for quantum behavior analysis can be discovered with the use of IR spectrum."
   ]
  }
 ],
 "metadata": {
  "kernelspec": {
   "display_name": "Python 3 (ipykernel)",
   "language": "python",
   "name": "python3"
  },
  "language_info": {
   "codemirror_mode": {
    "name": "ipython",
    "version": 3
   },
   "file_extension": ".py",
   "mimetype": "text/x-python",
   "name": "python",
   "nbconvert_exporter": "python",
   "pygments_lexer": "ipython3",
   "version": "3.10.13"
  },
  "nteract": {
   "version": "0.22.4"
  }
 },
 "nbformat": 4,
 "nbformat_minor": 4
}
