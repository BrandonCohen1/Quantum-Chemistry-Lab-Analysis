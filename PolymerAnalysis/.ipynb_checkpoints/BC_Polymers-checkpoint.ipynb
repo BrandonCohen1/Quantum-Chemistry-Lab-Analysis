{
 "cells": [
  {
   "cell_type": "markdown",
   "metadata": {},
   "source": [
    "# Analysis of Viscosity, Molecular Weight and Head-to-Head Ratio of PVOH\n",
    "## Brandon Cohen \n",
    "### February 21, 2023"
   ]
  },
  {
   "cell_type": "markdown",
   "metadata": {},
   "source": [
    "## Purpose"
   ]
  },
  {
   "cell_type": "markdown",
   "metadata": {},
   "source": [
    "The purpose of this lab is to determine the viscosity and specific viscosity of cleaved and uncleaved PVOH polymer as well as determining the molecular weight and head-to-head fractional ratio of the polymer using a viscometer."
   ]
  },
  {
   "cell_type": "markdown",
   "metadata": {},
   "source": [
    "# Procedure"
   ]
  },
  {
   "cell_type": "markdown",
   "metadata": {
    "tags": []
   },
   "source": [
    "\n",
    "We prepared 100 mL of 50% PVOH stock solution as well as a seperate 100 mL PVOH stock solution containing \n",
    "0.25 g of KIO4 using distilled water. To dissolve the KIO4 in the PVOH solution, we prepared a 70 C water bath.\n",
    "After each use of the pipet, we used water and then acetone to remove any PVOH that adhered to the glass. For both \n",
    "stock solutions, we created 50 mL solutions of 40%, 60%, and 80% of the original concentration. We calibrated the \n",
    "viscometer using about 5 mL of distilled water. We calculated the time it took for the water to move from the upper fiducial mark to the lower mark. We performed this 5 times. We performed this same procedure for each 50 mL solution of the uncleaved and cleaved PVOH. We computed the mean flow time and the constant k_inst. We also calculated the viscosities, specific viscosities, and intrinsic viscosities of the PVOH samples. We also computed the molecular weights and the head-to-head ratio.\n"
   ]
  },
  {
   "cell_type": "markdown",
   "metadata": {},
   "source": [
    "# Data Import"
   ]
  },
  {
   "cell_type": "code",
   "execution_count": 2,
   "metadata": {
    "ExecuteTime": {
     "end_time": "2019-06-16T14:44:50.874881Z",
     "start_time": "2019-06-16T14:44:38.616867Z"
    },
    "tags": []
   },
   "outputs": [
    {
     "data": {
      "text/plain": [
       "<Figure size 432x288 with 0 Axes>"
      ]
     },
     "metadata": {},
     "output_type": "display_data"
    }
   ],
   "source": [
    "\n",
    "# File handling\n",
    "from pathlib import Path\n",
    "import shutil\n",
    "import re\n",
    "\n",
    "# Data manipulation\n",
    "import numpy as np\n",
    "import scipy as sp\n",
    "import pandas as pd\n",
    "\n",
    "# Options for pandas\n",
    "pd.options.display.max_columns = 50\n",
    "pd.options.display.max_rows = 30\n",
    "\n",
    "# Visualizations\n",
    "import matplotlib.pyplot as plt\n",
    "%matplotlib inline\n",
    "import seaborn as sns\n",
    "sns.set_style(\"ticks\")\n",
    "sns.despine()\n",
    "\n",
    "from scipy.stats import linregress\n",
    "import math"
   ]
  },
  {
   "cell_type": "markdown",
   "metadata": {
    "tags": []
   },
   "source": [
    "## Data import"
   ]
  },
  {
   "cell_type": "code",
   "execution_count": 3,
   "metadata": {
    "tags": []
   },
   "outputs": [],
   "source": [
    "#Initializing arrays of flow time \n",
    "PVOH_fourty_percent = [14.60, 14.73, 14.71, 14.81, 14.86]\n",
    "PVOH_sixty_percent = [16.09, 16.10, 16.15, 16.30, 16.33]\n",
    "PVOH_eighthy_percent = [19.18, 19.11, 19.08, 19.16, 18.98]\n",
    "\n",
    "PVOH_KIO4_fourty_percent = [12.47, 12.45, 12.47, 12.53, 12.55]\n",
    "PVOH_KIO4_sixty_percent = [12.75, 12.74, 12.75, 12.78, 12.72]\n",
    "PVOH_KIO4_eighty_percent = [12.98, 13.22, 12.95, 13.12, 13.20]"
   ]
  },
  {
   "cell_type": "markdown",
   "metadata": {
    "tags": []
   },
   "source": [
    "## Data processing"
   ]
  },
  {
   "cell_type": "code",
   "execution_count": 4,
   "metadata": {
    "tags": []
   },
   "outputs": [
    {
     "name": "stdout",
     "output_type": "stream",
     "text": [
      "The constant kᵢₙₛₜ is 7.5e-08\n"
     ]
    }
   ],
   "source": [
    "#Goal: Determine the constant k_inst so Eq. 5 can be used to find viscosity of samples\n",
    "\n",
    "#This funciton is used to print subscript for k_inst\n",
    "def get_sub(x):\n",
    "    normal = \"ABCDEFGHIJKLMNOPQRSTUVWXYZabcdefghijklmnopqrstuvwxyz0123456789+-=()\"\n",
    "    sub_s = \"ₐ₈CDₑբGₕᵢⱼₖₗₘₙₒₚQᵣₛₜᵤᵥwₓᵧZₐ♭꜀ᑯₑբ₉ₕᵢⱼₖₗₘₙₒₚ૧ᵣₛₜᵤᵥwₓᵧ₂₀₁₂₃₄₅₆₇₈₉₊₋₌₍₎\"\n",
    "    res = x.maketrans(''.join(normal), ''.join(sub_s))\n",
    "    return x.translate(res)\n",
    "\n",
    "#This funciton is used to print superscript\n",
    "def get_super(x):\n",
    "    normal = \"ABCDEFGHIJKLMNOPQRSTUVWXYZabcdefghijklmnopqrstuvwxyz0123456789+-=()\"\n",
    "    super_s = \"ᴬᴮᶜᴰᴱᶠᴳᴴᴵᴶᴷᴸᴹᴺᴼᴾQᴿˢᵀᵁⱽᵂˣʸᶻᵃᵇᶜᵈᵉᶠᵍʰᶦʲᵏˡᵐⁿᵒᵖ۹ʳˢᵗᵘᵛʷˣʸᶻ⁰¹²³⁴⁵⁶⁷⁸⁹⁺⁻⁼⁽⁾\"\n",
    "    res = x.maketrans(''.join(normal), ''.join(super_s))\n",
    "    return x.translate(res)\n",
    "\n",
    "def avg(array):\n",
    "    sum = 0\n",
    "    for i in array:\n",
    "        sum = sum + i\n",
    "    return sum/len(array)\n",
    "\n",
    "#Flow time for Water\n",
    "water = [11.98, 11.88, 11.87, 11.92, 11.97]\n",
    "avg_water_time = avg(water)\n",
    "\n",
    "#Declaring water density and water viscosity\n",
    "global water_density\n",
    "water_density = 997\n",
    "global viscosity_water\n",
    "viscosity_water = 0.00089\n",
    "\n",
    "global K_INST\n",
    "K_INST = viscosity_water / (water_density * avg_water_time)\n",
    "\n",
    "print('The constant k{}'.format(get_sub('inst')), \"is\", round(K_INST, 9))"
   ]
  },
  {
   "cell_type": "code",
   "execution_count": 5,
   "metadata": {
    "tags": []
   },
   "outputs": [],
   "source": [
    "# Determining the mean floww time of the samples\n",
    "avg_PVOH_FOURTY_percent = avg(PVOH_fourty_percent)\n",
    "avg_PVOH_SIXTY_percent = avg(PVOH_sixty_percent)\n",
    "avg_PVOH_EIGHTY_percent = avg(PVOH_eighthy_percent)\n",
    "\n",
    "avg_PVOH_KIO4_FOURTY_percent = avg(PVOH_KIO4_fourty_percent)\n",
    "avg_PVOH_KIO4_SIXTY_percent = avg(PVOH_KIO4_sixty_percent)\n",
    "avg_PVOH_KIO4_EIGHTY_percent = avg(PVOH_KIO4_eighty_percent)\n"
   ]
  },
  {
   "cell_type": "code",
   "execution_count": 6,
   "metadata": {},
   "outputs": [],
   "source": [
    "#Goal: Determine viscosity and specific viscosities of the PVOH samples\n",
    "\n",
    "# Formula for visocisty of PVOH samples\n",
    "def viscosity(avg_time):\n",
    "    return K_INST * water_density * avg_time\n",
    "\n",
    "# Formula for specific viscosity of PVOH samples\n",
    "def viscosity_spec(visc):\n",
    "    return (visc - viscosity_water)/viscosity_water\n",
    "\n",
    "\n",
    "#Determining visocosity of samples\n",
    "viscosity_PVOH_FOURTY = viscosity(avg_PVOH_FOURTY_percent)\n",
    "viscosity_PVOH_SIXTY = viscosity(avg_PVOH_SIXTY_percent)\n",
    "viscosity_PVOH_EIGHTY = viscosity(avg_PVOH_EIGHTY_percent)\n",
    "\n",
    "viscosity_PVOH_KIO4_FOURTY = viscosity(avg_PVOH_KIO4_FOURTY_percent)\n",
    "viscosity_PVOH_KIO4_SIXTY = viscosity(avg_PVOH_KIO4_SIXTY_percent)\n",
    "viscosity_PVOH_KIO4_EIGHTY = viscosity(avg_PVOH_KIO4_EIGHTY_percent)\n",
    "\n",
    "#Determing specific viscosity of sample\n",
    "specific_visc_PVOH_fourty_percent = viscosity_spec(viscosity_PVOH_FOURTY)\n",
    "specific_visc_PVOH_sixty_percent = viscosity_spec(viscosity_PVOH_SIXTY)\n",
    "specific_visc_PVOH_eighthy_percent = viscosity_spec(viscosity_PVOH_EIGHTY)\n",
    "\n",
    "specific_visc_PVOH_KIO4_fourty_percent = viscosity_spec(viscosity_PVOH_KIO4_FOURTY)\n",
    "specific_visc_PVOH_KIO4_sixty_percent = viscosity_spec(viscosity_PVOH_KIO4_SIXTY)\n",
    "specific_visc_PVOH_KIO4_eighthy_percent = viscosity_spec(viscosity_PVOH_KIO4_EIGHTY)"
   ]
  },
  {
   "cell_type": "code",
   "execution_count": 7,
   "metadata": {
    "tags": []
   },
   "outputs": [
    {
     "name": "stdout",
     "output_type": "stream",
     "text": [
      "Table 1. Viscosity & Specific Viscosity of Cleaved and Uncleaved Samples\n"
     ]
    },
    {
     "data": {
      "text/html": [
       "<div>\n",
       "<style scoped>\n",
       "    .dataframe tbody tr th:only-of-type {\n",
       "        vertical-align: middle;\n",
       "    }\n",
       "\n",
       "    .dataframe tbody tr th {\n",
       "        vertical-align: top;\n",
       "    }\n",
       "\n",
       "    .dataframe thead th {\n",
       "        text-align: right;\n",
       "    }\n",
       "</style>\n",
       "<table border=\"1\" class=\"dataframe\">\n",
       "  <thead>\n",
       "    <tr style=\"text-align: right;\">\n",
       "      <th></th>\n",
       "      <th></th>\n",
       "      <th>Viscosity (n)</th>\n",
       "      <th>Specific Viscosity (n_sp)</th>\n",
       "      <th>Concentration (c_m) g/mL</th>\n",
       "    </tr>\n",
       "  </thead>\n",
       "  <tbody>\n",
       "    <tr>\n",
       "      <th>0</th>\n",
       "      <td>PVOH (40%)</td>\n",
       "      <td>0.001100</td>\n",
       "      <td>0.236330</td>\n",
       "      <td>0.0032</td>\n",
       "    </tr>\n",
       "    <tr>\n",
       "      <th>1</th>\n",
       "      <td>PVOH (60%)</td>\n",
       "      <td>0.001209</td>\n",
       "      <td>0.358101</td>\n",
       "      <td>0.0048</td>\n",
       "    </tr>\n",
       "    <tr>\n",
       "      <th>2</th>\n",
       "      <td>PVOH (80%)</td>\n",
       "      <td>0.001426</td>\n",
       "      <td>0.601979</td>\n",
       "      <td>0.0064</td>\n",
       "    </tr>\n",
       "    <tr>\n",
       "      <th>3</th>\n",
       "      <td>PVOH+KIO4 (40%)</td>\n",
       "      <td>0.000933</td>\n",
       "      <td>0.047803</td>\n",
       "      <td>0.0032</td>\n",
       "    </tr>\n",
       "    <tr>\n",
       "      <th>4</th>\n",
       "      <td>PVOH+KIO4 (60%)</td>\n",
       "      <td>0.000952</td>\n",
       "      <td>0.069104</td>\n",
       "      <td>0.0048</td>\n",
       "    </tr>\n",
       "    <tr>\n",
       "      <th>5</th>\n",
       "      <td>PVOH+KIO4 (40%)</td>\n",
       "      <td>0.000977</td>\n",
       "      <td>0.098121</td>\n",
       "      <td>0.0064</td>\n",
       "    </tr>\n",
       "  </tbody>\n",
       "</table>\n",
       "</div>"
      ],
      "text/plain": [
       "                    Viscosity (n)  Specific Viscosity (n_sp)  \\\n",
       "0       PVOH (40%)       0.001100                   0.236330   \n",
       "1       PVOH (60%)       0.001209                   0.358101   \n",
       "2       PVOH (80%)       0.001426                   0.601979   \n",
       "3  PVOH+KIO4 (40%)       0.000933                   0.047803   \n",
       "4  PVOH+KIO4 (60%)       0.000952                   0.069104   \n",
       "5  PVOH+KIO4 (40%)       0.000977                   0.098121   \n",
       "\n",
       "   Concentration (c_m) g/mL  \n",
       "0                    0.0032  \n",
       "1                    0.0048  \n",
       "2                    0.0064  \n",
       "3                    0.0032  \n",
       "4                    0.0048  \n",
       "5                    0.0064  "
      ]
     },
     "metadata": {},
     "output_type": "display_data"
    }
   ],
   "source": [
    "#Table of Viscosity and Specific Viscosity\n",
    "print(\"Table 1. Viscosity & Specific Viscosity of Cleaved and Uncleaved Samples\")\n",
    "data_vis = { \"\" : [\"PVOH (40%)\", \"PVOH (60%)\", \"PVOH (80%)\", \n",
    "                   \"PVOH+KIO4 (40%)\",\"PVOH+KIO4 (60%)\", \"PVOH+KIO4 (40%)\"],\n",
    "        \"Viscosity (n)\" : [viscosity_PVOH_FOURTY, viscosity_PVOH_SIXTY, viscosity_PVOH_EIGHTY, \n",
    "                           viscosity_PVOH_KIO4_FOURTY, viscosity_PVOH_KIO4_SIXTY, viscosity_PVOH_KIO4_EIGHTY],\n",
    "        \"Specific Viscosity (n_sp)\" : [specific_visc_PVOH_fourty_percent, specific_visc_PVOH_sixty_percent, specific_visc_PVOH_eighthy_percent, \n",
    "                                       specific_visc_PVOH_KIO4_fourty_percent, specific_visc_PVOH_KIO4_sixty_percent, specific_visc_PVOH_KIO4_eighthy_percent], \n",
    "        \"Concentration (c_m) g/mL\" : [0.0032, 0.0048, 0.0064, 0.0032, 0.0048, 0.0064]\n",
    "       }\n",
    "\n",
    "df1 = pd.DataFrame(data_vis)\n",
    "display(df1)"
   ]
  },
  {
   "cell_type": "markdown",
   "metadata": {},
   "source": [
    "Based on Table 1, the viscosities of the uncleaved samples are significantly higher than the cleaved samples, which is expected because there should be more resistance to flow due to the larger molecular structure of the uncleaved samples giving more internal friction."
   ]
  },
  {
   "cell_type": "code",
   "execution_count": 17,
   "metadata": {
    "tags": []
   },
   "outputs": [
    {
     "name": "stdout",
     "output_type": "stream",
     "text": [
      "Figure 1. Linear Trend of Intristic Visocosity of Uncleaved Samples\n"
     ]
    },
    {
     "data": {
      "image/png": "[encoded data removed]",
      "text/plain": [
       "<Figure size 360x360 with 1 Axes>"
      ]
     },
     "metadata": {},
     "output_type": "display_data"
    }
   ],
   "source": [
    "# Setting Up Plot to find Intristic Viscosity for Uncleaved Samples\n",
    "data_intristic_vis_uncl = {\"Concentration\" : [0.0032, 0.0048, 0.0064], \n",
    "                      \"Specific_Viscosity_over_Concentration\" : [specific_visc_PVOH_fourty_percent/0.0032, \n",
    "                                                                 specific_visc_PVOH_sixty_percent/0.0048, \n",
    "                                                                 specific_visc_PVOH_eighthy_percent/0.0064]\n",
    "                     }\n",
    "df2 = pd.DataFrame(data_intristic_vis_uncl)\n",
    "\n",
    "sns.lmplot(data=df2, x=\"Concentration\", y=\"Specific_Viscosity_over_Concentration\", \n",
    "           ci=None)\n",
    "print(\"Figure 1. Linear Trend of Intristic Visocosity of Uncleaved Samples\")"
   ]
  },
  {
   "cell_type": "code",
   "execution_count": 9,
   "metadata": {
    "tags": []
   },
   "outputs": [
    {
     "name": "stdout",
     "output_type": "stream",
     "text": [
      "Figure 2. Linear Trend of Intristic Visocosity of Cleaved Samples\n"
     ]
    },
    {
     "data": {
      "image/png": "[encoded data removed]",
      "text/plain": [
       "<Figure size 360x360 with 1 Axes>"
      ]
     },
     "metadata": {},
     "output_type": "display_data"
    }
   ],
   "source": [
    "# Setting Up Plot to find Intristic Viscosity for Cleaved Samples\n",
    "data_intristic_vis_cl = {\"Concentration\" : [0.0032, 0.0048, 0.0064], \n",
    "                      \"Specific_Viscosity_over_Concentration\" : [specific_visc_PVOH_KIO4_fourty_percent/0.0032, \n",
    "                                                                 specific_visc_PVOH_KIO4_sixty_percent/0.0048, \n",
    "                                                                 specific_visc_PVOH_KIO4_eighthy_percent/0.0064]\n",
    "                     }\n",
    "df3 = pd.DataFrame(data_intristic_vis_cl)\n",
    "sns.lmplot(data=df3, x=\"Concentration\", y=\"Specific_Viscosity_over_Concentration\", \n",
    "           ci=None)\n",
    "print(\"Figure 2. Linear Trend of Intristic Visocosity of Cleaved Samples\")"
   ]
  },
  {
   "cell_type": "code",
   "execution_count": 10,
   "metadata": {
    "tags": []
   },
   "outputs": [
    {
     "name": "stdout",
     "output_type": "stream",
     "text": [
      "The uncleaved PVOH slope is: 6314, and the std. err. of the slope is: 3375\n",
      "From eq. 11, nₛₚ/cₘ = kᵢₙₛₜ[η]²cₘ + [η], we find that the uncleaved PVOH y-intercept which is [η] = 50.53\n",
      "\n",
      "The cleaved PVOH slope is: 123, and the std. err. of the slope is: 266\n",
      "From eq. 11, nₛₚ/cₘ = kᵢₙₛₜ[η]²cₘ + [η], we find that the cleaved PVOH y-intercept which is [η] = 14.3\n"
     ]
    }
   ],
   "source": [
    "## Fitting using the `numpy.polyfit()` function for uncleaved PVOH samples\n",
    "# Function returns fit coefficiences (1d array of values) and an n x n covariance matrix\n",
    "fit_coeff_uncl, fit_cov_uncl = np.polyfit(df2[\"Concentration\"], \n",
    "                                df2[\"Specific_Viscosity_over_Concentration\"], 1, \n",
    "                                cov=True)\n",
    "# Finding the standard error of each coefficient \n",
    "fit_err_uncl = np.sqrt(np.diag(fit_cov_uncl))\n",
    "\n",
    "print(f\"The uncleaved PVOH slope is: {round(fit_coeff_uncl[0])}, and the std. err. of the slope is: {round(fit_err_uncl[0])}\")\n",
    "print(\"From eq. 11, nₛₚ/cₘ = kᵢₙₛₜ[η]²cₘ + [η], we find that the uncleaved PVOH y-intercept which is [η] =\", \n",
    "      round(fit_coeff_uncl[1], 2))\n",
    "\n",
    "\n",
    "## Fitting using the `numpy.polyfit()` function for cleaved PVOH samples\n",
    "# Function returns fit coefficiences (1d array of values) and an n x n covariance matrix\n",
    "fit_coeff_cl, fit_cov_cl = np.polyfit(df3[\"Concentration\"], \n",
    "                                df3[\"Specific_Viscosity_over_Concentration\"], 1, \n",
    "                                cov=True)\n",
    "# Finding the standard error of each coefficient \n",
    "fit_err_cl = np.sqrt(np.diag(fit_cov_cl))\n",
    "\n",
    "print(f\"\\nThe cleaved PVOH slope is: {round(fit_coeff_cl[0])}, and the std. err. of the slope is: {round(fit_err_cl[0])}\")\n",
    "print(\"From eq. 11, nₛₚ/cₘ = kᵢₙₛₜ[η]²cₘ + [η], we find that the cleaved PVOH y-intercept which is [η] =\", \n",
    "      round(fit_coeff_cl[1], 2))\n"
   ]
  },
  {
   "cell_type": "code",
   "execution_count": 11,
   "metadata": {
    "tags": []
   },
   "outputs": [
    {
     "name": "stdout",
     "output_type": "stream",
     "text": [
      "The predicted average Huggins constant for the uncleaved PVOH samples is 2.4942708648465626\n",
      "The predicted average Huggins constant for the cleaved PVOH samples is 0.6217161957204284\n"
     ]
    }
   ],
   "source": [
    "def k_hug(df, intristic_vis):\n",
    "    temp = []\n",
    "    for i in range(3):\n",
    "        y = df[\"Specific_Viscosity_over_Concentration\"][i]\n",
    "        t = (y - float(intristic_vis)) / ( (float(intristic_vis))** 2  * df[\"Concentration\"][i] )\n",
    "        temp = temp + [t]\n",
    "    return avg(temp)\n",
    "\n",
    "print(\"The predicted average Huggins constant for the uncleaved PVOH samples is\", k_hug(df2, fit_coeff_uncl[1]))\n",
    "print(\"The predicted average Huggins constant for the cleaved PVOH samples is\", k_hug(df3, fit_coeff_cl[1]))"
   ]
  },
  {
   "cell_type": "code",
   "execution_count": 12,
   "metadata": {
    "tags": []
   },
   "outputs": [
    {
     "name": "stdout",
     "output_type": "stream",
     "text": [
      "Table 2. Molecular Weights (Mᵥ) of Uncleaved PVOH\n"
     ]
    },
    {
     "data": {
      "text/html": [
       "<div>\n",
       "<style scoped>\n",
       "    .dataframe tbody tr th:only-of-type {\n",
       "        vertical-align: middle;\n",
       "    }\n",
       "\n",
       "    .dataframe tbody tr th {\n",
       "        vertical-align: top;\n",
       "    }\n",
       "\n",
       "    .dataframe thead th {\n",
       "        text-align: right;\n",
       "    }\n",
       "</style>\n",
       "<table border=\"1\" class=\"dataframe\">\n",
       "  <thead>\n",
       "    <tr style=\"text-align: right;\">\n",
       "      <th></th>\n",
       "      <th>K (cm³/g)</th>\n",
       "      <th>a</th>\n",
       "      <th>Molecular Weight (Mᵥ)</th>\n",
       "    </tr>\n",
       "  </thead>\n",
       "  <tbody>\n",
       "    <tr>\n",
       "      <th>0</th>\n",
       "      <td>0.02</td>\n",
       "      <td>0.76</td>\n",
       "      <td>29991.40732</td>\n",
       "    </tr>\n",
       "    <tr>\n",
       "      <th>1</th>\n",
       "      <td>0.30</td>\n",
       "      <td>0.50</td>\n",
       "      <td>28369.56564</td>\n",
       "    </tr>\n",
       "    <tr>\n",
       "      <th>2</th>\n",
       "      <td>0.14</td>\n",
       "      <td>0.60</td>\n",
       "      <td>18296.41225</td>\n",
       "    </tr>\n",
       "  </tbody>\n",
       "</table>\n",
       "</div>"
      ],
      "text/plain": [
       "   K (cm³/g)     a  Molecular Weight (Mᵥ)\n",
       "0       0.02  0.76            29991.40732\n",
       "1       0.30  0.50            28369.56564\n",
       "2       0.14  0.60            18296.41225"
      ]
     },
     "metadata": {},
     "output_type": "display_data"
    },
    {
     "name": "stdout",
     "output_type": "stream",
     "text": [
      "\n",
      "Table 3. Molecular Weights (Mᵥ) of Cleaved PVOH\n"
     ]
    },
    {
     "data": {
      "text/html": [
       "<div>\n",
       "<style scoped>\n",
       "    .dataframe tbody tr th:only-of-type {\n",
       "        vertical-align: middle;\n",
       "    }\n",
       "\n",
       "    .dataframe tbody tr th {\n",
       "        vertical-align: top;\n",
       "    }\n",
       "\n",
       "    .dataframe thead th {\n",
       "        text-align: right;\n",
       "    }\n",
       "</style>\n",
       "<table border=\"1\" class=\"dataframe\">\n",
       "  <thead>\n",
       "    <tr style=\"text-align: right;\">\n",
       "      <th></th>\n",
       "      <th>K (cm³/g)</th>\n",
       "      <th>a</th>\n",
       "      <th>Molecular Weight (Mᵥ)</th>\n",
       "    </tr>\n",
       "  </thead>\n",
       "  <tbody>\n",
       "    <tr>\n",
       "      <th>0</th>\n",
       "      <td>0.02</td>\n",
       "      <td>0.76</td>\n",
       "      <td>5696.829778</td>\n",
       "    </tr>\n",
       "    <tr>\n",
       "      <th>1</th>\n",
       "      <td>0.30</td>\n",
       "      <td>0.50</td>\n",
       "      <td>2271.851871</td>\n",
       "    </tr>\n",
       "    <tr>\n",
       "      <th>2</th>\n",
       "      <td>0.14</td>\n",
       "      <td>0.60</td>\n",
       "      <td>2231.714872</td>\n",
       "    </tr>\n",
       "  </tbody>\n",
       "</table>\n",
       "</div>"
      ],
      "text/plain": [
       "   K (cm³/g)     a  Molecular Weight (Mᵥ)\n",
       "0       0.02  0.76            5696.829778\n",
       "1       0.30  0.50            2271.851871\n",
       "2       0.14  0.60            2231.714872"
      ]
     },
     "metadata": {},
     "output_type": "display_data"
    }
   ],
   "source": [
    "#Goal: Determine Mv (Viscosity-Average Molecular Weight)\n",
    "\n",
    "intristic_vis_PVOH = fit_coeff_uncl[1]\n",
    "intristic_vis_PVOH_KIO4 = fit_coeff_cl[1]\n",
    "\n",
    "#Function that will iterate through each K and a to find every molecular weight\n",
    "def mol_weight(intristic_vis, K, a):\n",
    "    temp_weight = []\n",
    "    \n",
    "    for i in range(3):\n",
    "        temp1 = (intristic_vis / K[i]) ** (1/a[i])\n",
    "        temp_weight.append(temp1)\n",
    "    return temp_weight\n",
    "\n",
    "#Initialize K and a values and find molecular weights\n",
    "K = [0.020, 0.30, 0.14]\n",
    "a = [0.76, 0.50, 0.6]\n",
    "\n",
    "temporary = mol_weight(intristic_vis_PVOH, K, a)\n",
    "uncleaved_mol_weight = temporary\n",
    "\n",
    "temporary1 = mol_weight(intristic_vis_PVOH_KIO4, K, a)\n",
    "cleaved_mol_weight = temporary1\n",
    "\n",
    "\n",
    "#Create Dataframe of K, a, and Molecular weights for PVOH\n",
    "print(\"Table 2. Molecular Weights (M{})\".format(get_sub('v')), \"of Uncleaved PVOH\")\n",
    "daf2 = {\"K (cm{}\".format(get_super('3')) + \"/g)\" : K, \n",
    "        \"a\" : a, \n",
    "        \"Molecular Weight (M{}\".format(get_sub('v')) + ')' : uncleaved_mol_weight}\n",
    "df2 = pd.DataFrame(daf2)\n",
    "display(df2)\n",
    "\n",
    "\n",
    "#Create Dataframe of K, a, and Molecular weights for PVOH + KIO4\n",
    "print(\"\\nTable 3. Molecular Weights (M{})\".format(get_sub('v')), \"of Cleaved PVOH\")\n",
    "daf3 = {\"K (cm{}\".format(get_super('3')) + \"/g)\" : K, \n",
    "        \"a\" : a, \n",
    "        \"Molecular Weight (M{}\".format(get_sub('v')) + ')' : cleaved_mol_weight}\n",
    "df3 = pd.DataFrame(daf3)\n",
    "display(df3)\n"
   ]
  },
  {
   "cell_type": "code",
   "execution_count": 13,
   "metadata": {
    "tags": []
   },
   "outputs": [
    {
     "name": "stdout",
     "output_type": "stream",
     "text": [
      "Table 4. Predicted Uncleaved Number-Average Molecular Weights (Mₙ)\n"
     ]
    },
    {
     "data": {
      "text/html": [
       "<div>\n",
       "<style scoped>\n",
       "    .dataframe tbody tr th:only-of-type {\n",
       "        vertical-align: middle;\n",
       "    }\n",
       "\n",
       "    .dataframe tbody tr th {\n",
       "        vertical-align: top;\n",
       "    }\n",
       "\n",
       "    .dataframe thead th {\n",
       "        text-align: right;\n",
       "    }\n",
       "</style>\n",
       "<table border=\"1\" class=\"dataframe\">\n",
       "  <thead>\n",
       "    <tr style=\"text-align: right;\">\n",
       "      <th></th>\n",
       "      <th>a</th>\n",
       "      <th>Gamma(a)</th>\n",
       "      <th>Mᵥ</th>\n",
       "      <th>Predicted (Mₙ)</th>\n",
       "    </tr>\n",
       "  </thead>\n",
       "  <tbody>\n",
       "    <tr>\n",
       "      <th>0</th>\n",
       "      <td>0.76</td>\n",
       "      <td>1.889073</td>\n",
       "      <td>29991.40732</td>\n",
       "      <td>15876.256666</td>\n",
       "    </tr>\n",
       "    <tr>\n",
       "      <th>1</th>\n",
       "      <td>0.50</td>\n",
       "      <td>1.767146</td>\n",
       "      <td>28369.56564</td>\n",
       "      <td>16053.890151</td>\n",
       "    </tr>\n",
       "    <tr>\n",
       "      <th>2</th>\n",
       "      <td>0.60</td>\n",
       "      <td>1.814276</td>\n",
       "      <td>18296.41225</td>\n",
       "      <td>10084.691183</td>\n",
       "    </tr>\n",
       "  </tbody>\n",
       "</table>\n",
       "</div>"
      ],
      "text/plain": [
       "      a  Gamma(a)           Mᵥ  Predicted (Mₙ)\n",
       "0  0.76  1.889073  29991.40732    15876.256666\n",
       "1  0.50  1.767146  28369.56564    16053.890151\n",
       "2  0.60  1.814276  18296.41225    10084.691183"
      ]
     },
     "metadata": {},
     "output_type": "display_data"
    },
    {
     "name": "stdout",
     "output_type": "stream",
     "text": [
      "\n",
      "Table 5. Predicted Cleaved Number-Average Molecular Weights (Mₙ)\n"
     ]
    },
    {
     "data": {
      "text/html": [
       "<div>\n",
       "<style scoped>\n",
       "    .dataframe tbody tr th:only-of-type {\n",
       "        vertical-align: middle;\n",
       "    }\n",
       "\n",
       "    .dataframe tbody tr th {\n",
       "        vertical-align: top;\n",
       "    }\n",
       "\n",
       "    .dataframe thead th {\n",
       "        text-align: right;\n",
       "    }\n",
       "</style>\n",
       "<table border=\"1\" class=\"dataframe\">\n",
       "  <thead>\n",
       "    <tr style=\"text-align: right;\">\n",
       "      <th></th>\n",
       "      <th>a</th>\n",
       "      <th>Gamma(a)</th>\n",
       "      <th>Mᵥ</th>\n",
       "      <th>Predicted (Mₙ)</th>\n",
       "    </tr>\n",
       "  </thead>\n",
       "  <tbody>\n",
       "    <tr>\n",
       "      <th>0</th>\n",
       "      <td>0.76</td>\n",
       "      <td>1.889073</td>\n",
       "      <td>5696.829778</td>\n",
       "      <td>3015.674816</td>\n",
       "    </tr>\n",
       "    <tr>\n",
       "      <th>1</th>\n",
       "      <td>0.50</td>\n",
       "      <td>1.767146</td>\n",
       "      <td>2271.851871</td>\n",
       "      <td>1285.605174</td>\n",
       "    </tr>\n",
       "    <tr>\n",
       "      <th>2</th>\n",
       "      <td>0.60</td>\n",
       "      <td>1.814276</td>\n",
       "      <td>2231.714872</td>\n",
       "      <td>1230.085712</td>\n",
       "    </tr>\n",
       "  </tbody>\n",
       "</table>\n",
       "</div>"
      ],
      "text/plain": [
       "      a  Gamma(a)           Mᵥ  Predicted (Mₙ)\n",
       "0  0.76  1.889073  5696.829778     3015.674816\n",
       "1  0.50  1.767146  2271.851871     1285.605174\n",
       "2  0.60  1.814276  2231.714872     1230.085712"
      ]
     },
     "metadata": {},
     "output_type": "display_data"
    }
   ],
   "source": [
    "#Goal: Determine Predicted Mn (Number-Average Molecular Weight) from Mv values from above\n",
    "\n",
    "#Function represents equivalency to Mv/Mn\n",
    "def S(a):\n",
    "    a_value = 1+a\n",
    "    gamma_a = math.gamma(1+a)\n",
    "    a_plus_gamma = a_value * gamma_a\n",
    "    return a_plus_gamma ** (1/a)\n",
    "\n",
    "#Function finds all values of Mn\n",
    "def num_avg_mol_weight(dataframe):\n",
    "    t1 = []\n",
    "    t2 = []\n",
    "    t3 = []\n",
    "    t4 = []\n",
    "    for i in range(3):\n",
    "        temp = dataframe[\"Molecular Weight (M{}\".format(get_sub('v')) + ')'][i]/S(a[i])\n",
    "        t1 = t1 + [a[i]]\n",
    "        t2 = t2 + [S(a[i])]\n",
    "        t3 = t3 + [dataframe[\"Molecular Weight (M{}\".format(get_sub('v')) + ')'][i]]\n",
    "        t4 = t4 + [temp]\n",
    "        df = {\"a\" : t1, 'Gamma(a)' : t2, \"M{}\".format(get_sub('v')) : t3, \n",
    "              \"Predicted (M{}\".format(get_sub('n')) + ')' : t4}\n",
    "            #print(c, 'The predicted Mn is', round(Mv['Molecular Weight'], 2), '/', round(S(i), 2), \"=\", round(temp, 3), 'and the a value was', i)            \n",
    "    return df\n",
    "\n",
    "#Predicted values of Mn for cleaved PVOH samples\n",
    "print(\"Table 4. Predicted Uncleaved Number-Average Molecular Weights (M{}\".format(get_sub('n')) + ')')\n",
    "predicted_Mv_uncl = num_avg_mol_weight(df2)\n",
    "uncleaved_Mv = pd.DataFrame(predicted_Mv_uncl)\n",
    "display(uncleaved_Mv)\n",
    "\n",
    "#Predicted values of Mn for cleaved PVOH samples\n",
    "print(\"\\nTable 5. Predicted Cleaved Number-Average Molecular Weights (M{}\".format(get_sub('n')) + ')')\n",
    "predicted_Mv_cleav = num_avg_mol_weight(df3)\n",
    "cleaved_Mv = pd.DataFrame(predicted_Mv_cleav)\n",
    "display(cleaved_Mv)\n",
    "\n"
   ]
  },
  {
   "cell_type": "code",
   "execution_count": 14,
   "metadata": {
    "tags": []
   },
   "outputs": [
    {
     "name": "stdout",
     "output_type": "stream",
     "text": [
      "Table 6. Predicted Head-Head Ratios using Eq. 22\n"
     ]
    },
    {
     "data": {
      "text/html": [
       "<div>\n",
       "<style scoped>\n",
       "    .dataframe tbody tr th:only-of-type {\n",
       "        vertical-align: middle;\n",
       "    }\n",
       "\n",
       "    .dataframe tbody tr th {\n",
       "        vertical-align: top;\n",
       "    }\n",
       "\n",
       "    .dataframe thead th {\n",
       "        text-align: right;\n",
       "    }\n",
       "</style>\n",
       "<table border=\"1\" class=\"dataframe\">\n",
       "  <thead>\n",
       "    <tr style=\"text-align: right;\">\n",
       "      <th></th>\n",
       "      <th>a</th>\n",
       "      <th>Gamma(a)</th>\n",
       "      <th>Uncleaved (Mᵥ)</th>\n",
       "      <th>Cleaved (Mᵥ)</th>\n",
       "      <th>f</th>\n",
       "    </tr>\n",
       "  </thead>\n",
       "  <tbody>\n",
       "    <tr>\n",
       "      <th>0</th>\n",
       "      <td>0.76</td>\n",
       "      <td>1.889073</td>\n",
       "      <td>29991.40732</td>\n",
       "      <td>5696.829778</td>\n",
       "      <td>0.011819</td>\n",
       "    </tr>\n",
       "    <tr>\n",
       "      <th>1</th>\n",
       "      <td>0.50</td>\n",
       "      <td>1.767146</td>\n",
       "      <td>28369.56564</td>\n",
       "      <td>2271.851871</td>\n",
       "      <td>0.031484</td>\n",
       "    </tr>\n",
       "    <tr>\n",
       "      <th>2</th>\n",
       "      <td>0.60</td>\n",
       "      <td>1.814276</td>\n",
       "      <td>18296.41225</td>\n",
       "      <td>2231.714872</td>\n",
       "      <td>0.031407</td>\n",
       "    </tr>\n",
       "  </tbody>\n",
       "</table>\n",
       "</div>"
      ],
      "text/plain": [
       "      a  Gamma(a)  Uncleaved (Mᵥ)  Cleaved (Mᵥ)         f\n",
       "0  0.76  1.889073     29991.40732   5696.829778  0.011819\n",
       "1  0.50  1.767146     28369.56564   2271.851871  0.031484\n",
       "2  0.60  1.814276     18296.41225   2231.714872  0.031407"
      ]
     },
     "metadata": {},
     "output_type": "display_data"
    },
    {
     "name": "stdout",
     "output_type": "stream",
     "text": [
      "\n",
      "Table 7. Predicted Head-Head Ratios using Eq. 21\n"
     ]
    },
    {
     "data": {
      "text/html": [
       "<div>\n",
       "<style scoped>\n",
       "    .dataframe tbody tr th:only-of-type {\n",
       "        vertical-align: middle;\n",
       "    }\n",
       "\n",
       "    .dataframe tbody tr th {\n",
       "        vertical-align: top;\n",
       "    }\n",
       "\n",
       "    .dataframe thead th {\n",
       "        text-align: right;\n",
       "    }\n",
       "</style>\n",
       "<table border=\"1\" class=\"dataframe\">\n",
       "  <thead>\n",
       "    <tr style=\"text-align: right;\">\n",
       "      <th></th>\n",
       "      <th>a</th>\n",
       "      <th>Gamma(a)</th>\n",
       "      <th>Uncleaved (Mᵥ)</th>\n",
       "      <th>Cleaved (Mᵥ)</th>\n",
       "      <th>f</th>\n",
       "    </tr>\n",
       "  </thead>\n",
       "  <tbody>\n",
       "    <tr>\n",
       "      <th>0</th>\n",
       "      <td>0.76</td>\n",
       "      <td>1.889073</td>\n",
       "      <td>29991.40732</td>\n",
       "      <td>5696.829778</td>\n",
       "      <td>0.006257</td>\n",
       "    </tr>\n",
       "    <tr>\n",
       "      <th>1</th>\n",
       "      <td>0.50</td>\n",
       "      <td>1.767146</td>\n",
       "      <td>28369.56564</td>\n",
       "      <td>2271.851871</td>\n",
       "      <td>0.017817</td>\n",
       "    </tr>\n",
       "    <tr>\n",
       "      <th>2</th>\n",
       "      <td>0.60</td>\n",
       "      <td>1.814276</td>\n",
       "      <td>18296.41225</td>\n",
       "      <td>2231.714872</td>\n",
       "      <td>0.017311</td>\n",
       "    </tr>\n",
       "  </tbody>\n",
       "</table>\n",
       "</div>"
      ],
      "text/plain": [
       "      a  Gamma(a)  Uncleaved (Mᵥ)  Cleaved (Mᵥ)         f\n",
       "0  0.76  1.889073     29991.40732   5696.829778  0.006257\n",
       "1  0.50  1.767146     28369.56564   2271.851871  0.017817\n",
       "2  0.60  1.814276     18296.41225   2231.714872  0.017311"
      ]
     },
     "metadata": {},
     "output_type": "display_data"
    }
   ],
   "source": [
    "#Determine the head-to_head fraction of monomer linkages\n",
    "\n",
    "#H-H Fraction using Eq. 22\n",
    "def hh_frac22(dataframe_uncleaved, dataframe_cleaved):\n",
    "    Mo = 44\n",
    "    temp = []\n",
    "    for i in range(3):\n",
    "        t = S(a[i]) * Mo * ( (1/dataframe_cleaved[\"Molecular Weight (M{}\".format(get_sub('v')) + ')'][i]) \n",
    "                            - (1/dataframe_uncleaved[\"Molecular Weight (M{}\".format(get_sub('v')) + ')'][i]) )\n",
    "        temp = temp + [t]\n",
    "    return temp\n",
    "\n",
    "#H-H Fraction using Eq. 21\n",
    "def hh_frac21(dataframe_uncleaved, dataframe_cleaved):\n",
    "    index = 0\n",
    "    Mo = 44\n",
    "    temp = []\n",
    "    for i in range(3):\n",
    "        t = ( (1/dataframe_cleaved[\"Molecular Weight (M{}\".format(get_sub('v')) + ')'][i]) \n",
    "             - (1/dataframe_uncleaved[\"Molecular Weight (M{}\".format(get_sub('v')) + ')'][i]) ) / (1/44)\n",
    "        temp = temp + [t]\n",
    "    return temp\n",
    "\n",
    "\n",
    "# Display the H-H Fraction using Eq. 22\n",
    "f22 = hh_frac22(df2, df3)\n",
    "f_df = {\"a\" : uncleaved_Mv['a'], 'Gamma(a)' : uncleaved_Mv['Gamma(a)'], \n",
    "        \"Uncleaved (M{}\".format(get_sub('v'))  + ')': uncleaved_Mv[\"M{}\".format(get_sub('v'))], \n",
    "        \"Cleaved (M{}\".format(get_sub('v')) + ')' : cleaved_Mv[\"M{}\".format(get_sub('v'))], \"f\" : f22}\n",
    "df_f22 = pd.DataFrame(f_df)\n",
    "\n",
    "print(\"Table 6. Predicted Head-Head Ratios using Eq. 22\")\n",
    "display(df_f22)\n",
    "\n",
    "\n",
    "# Display the H-H Fraction using Eq. 21\n",
    "f21 = hh_frac21(df2, df3)\n",
    "f_df = {\"a\" : uncleaved_Mv['a'], 'Gamma(a)' : uncleaved_Mv['Gamma(a)'], \n",
    "        \"Uncleaved (M{}\".format(get_sub('v'))  + ')': uncleaved_Mv[\"M{}\".format(get_sub('v'))], \n",
    "        \"Cleaved (M{}\".format(get_sub('v')) + ')' : cleaved_Mv[\"M{}\".format(get_sub('v'))], \"f\" : f21}\n",
    "df_f21 = pd.DataFrame(f_df)\n",
    "\n",
    "print(\"\\nTable 7. Predicted Head-Head Ratios using Eq. 21\")\n",
    "display(df_f21)\n",
    "\n"
   ]
  },
  {
   "cell_type": "markdown",
   "metadata": {},
   "source": [
    "## Results"
   ]
  },
  {
   "cell_type": "markdown",
   "metadata": {},
   "source": [
    "Based on the Tables 4 and 5, the uncleaved Mv and Mn was significantly greater than the cleaved Mv. This was consistent with our expectations, because KIO4 breaks any 1,2-diol structures which decreases the average molecular weight. Our data also supported that the viscosity of uncleaved PVOH samples was significantly greater than the cleaved PVOH samples. This data confirms there were less 1,2-diol structures in the cleaved samples. In Table 6, we can see that as a increases, the gamma function increases, but the head-to-head fractional ratio decreases. The decrease is very small from a = 0.50 to a = 0.60, but it becomes more noticeable from the values of 0.6 to 0.76. There was not a clear pattern with increasing a with respect to the Mv and Mn. "
   ]
  },
  {
   "cell_type": "markdown",
   "metadata": {},
   "source": [
    "# Discussion"
   ]
  },
  {
   "cell_type": "markdown",
   "metadata": {},
   "source": [
    "The use of the viscometer gave valuable data to show that KIO4 was cleaving the PVOH samples and that viscosity can be measured using the viscometer. Other experiments that could be used to examine the effect of solution conditions on denaturation is by heat, acid/base, or salt. Some methods are High Sensitivity Differential Scanning Calorimetry, acid denaturation, or fluorescence spectroscopy if fluorescence increases or decreases by denaturation. The viscometer measured PVOH in the aqueous solution, because in this phase, PVOH is coiled due to the hydrophobic effect as well as electrostatic interactions. PVOH is not measured in the vapor phase, because PVOH will start to degreade and become linear. Based on the results, it is not a good assumption for the PVOH to be assumed spherical, because the viscosities and specific viscosities were so high and the Huggins constant was high for both uncleaved and cleaved samples which indicates the polymer should be thought of as in between a rigid, uncharged sphere and a flexible polymer. It is good to not assume all molecules are spherical because examples of nonspherical molecules are water and certain proteins that do not fold in a spherical shape. I think the results could have been better if we performed more experiments of different concentrations. "
   ]
  },
  {
   "cell_type": "code",
   "execution_count": 15,
   "metadata": {},
   "outputs": [
    {
     "name": "stdout",
     "output_type": "stream",
     "text": [
      "Range of Molecular Weights: [60378.11452120616, 82177.7777777778, 44389.885616697626]\n"
     ]
    }
   ],
   "source": [
    "# 6. [n] = 86 cm^3/g at 298 K. Table 1 and eq. 16, what range of molecular weights can be reposrted for the polymer?\n",
    "\n",
    "def Mol_Wei_86(n, K_value, a_value):\n",
    "    weights = []\n",
    "    for i in range(3):\n",
    "            temp = n / K_value[i]\n",
    "            weights = weights + [temp ** (1/a_value[i])]\n",
    "    return weights\n",
    "\n",
    "weight_86 = Mol_Wei_86(86, K, a)\n",
    "print(\"Range of Molecular Weights:\", weight_86)"
   ]
  }
 ],
 "metadata": {
  "kernelspec": {
   "display_name": "Python (PChem Lab)",
   "language": "python",
   "name": "pchem2_lab"
  },
  "language_info": {
   "codemirror_mode": {
    "name": "ipython",
    "version": 3
   },
   "file_extension": ".py",
   "mimetype": "text/x-python",
   "name": "python",
   "nbconvert_exporter": "python",
   "pygments_lexer": "ipython3",
   "version": "3.8.12"
  },
  "toc": {
   "base_numbering": 1,
   "nav_menu": {},
   "number_sections": true,
   "sideBar": true,
   "skip_h1_title": false,
   "title_cell": "Table of Contents",
   "title_sidebar": "Contents",
   "toc_cell": false,
   "toc_position": {},
   "toc_section_display": true,
   "toc_window_display": false
  },
  "varInspector": {
   "cols": {
    "lenName": 16,
    "lenType": 16,
    "lenVar": 40
   },
   "kernels_config": {
    "python": {
     "delete_cmd_postfix": "",
     "delete_cmd_prefix": "del ",
     "library": "var_list.py",
     "varRefreshCmd": "print(var_dic_list())"
    },
    "r": {
     "delete_cmd_postfix": ") ",
     "delete_cmd_prefix": "rm(",
     "library": "var_list.r",
     "varRefreshCmd": "cat(var_dic_list()) "
    }
   },
   "types_to_exclude": [
    "module",
    "function",
    "builtin_function_or_method",
    "instance",
    "_Feature"
   ],
   "window_display": false
  }
 },
 "nbformat": 4,
 "nbformat_minor": 4
}
