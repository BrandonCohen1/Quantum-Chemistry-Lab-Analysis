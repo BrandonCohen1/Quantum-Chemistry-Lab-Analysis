{
 "cells": [
  {
   "cell_type": "markdown",
   "metadata": {},
   "source": [
    "# Introduction to Computational Chemistry"
   ]
  },
  {
   "cell_type": "markdown",
   "metadata": {
    "tags": []
   },
   "source": [
    "# Setup\n",
    "\n",
    "## Library import\n",
    "\n"
   ]
  },
  {
   "cell_type": "code",
   "execution_count": 1,
   "metadata": {
    "ExecuteTime": {
     "end_time": "2019-06-16T14:44:50.874881Z",
     "start_time": "2019-06-16T14:44:38.616867Z"
    },
    "tags": []
   },
   "outputs": [],
   "source": [
    "# Data manipulation\n",
    "import numpy as np\n",
    "import scipy as sp\n",
    "import pandas as pd\n",
    "import xarray as xr\n",
    "\n",
    "# Options for pandas\n",
    "pd.options.display.max_columns = 50\n",
    "pd.options.display.max_rows = 30\n",
    "\n",
    "# Visualizations\n",
    "import matplotlib.pyplot as plt\n",
    "import seaborn as sns\n",
    "%matplotlib inline\n",
    "# Set notebook environmental variables for Gaussian%env GAUSS_SCRDIR=/scrach-data/g16-scratch%env GAUSS_EXEDIR=/usr/bin/g16/bsd:/usr/bin/g16%env GAUSS_LEXEDIR=/usr/bin/g16/linda-exe%env GAUSS_ARCHDIR=/usr/bin/g16/arch%env GAUSS_BSDDIR=/usr/bin/g16/bsd%env GV_DIR=/usr/bin/gv%env G16BASIS=/usr/bin/g16/basis"
   ]
  },
  {
   "cell_type": "markdown",
   "metadata": {
    "tags": []
   },
   "source": [
    "# Data import"
   ]
  },
  {
   "cell_type": "code",
   "execution_count": 2,
   "metadata": {
    "tags": []
   },
   "outputs": [
    {
     "data": {
      "text/plain": [
       "<Figure size 432x288 with 0 Axes>"
      ]
     },
     "metadata": {},
     "output_type": "display_data"
    }
   ],
   "source": [
    "# File handling\n",
    "from pathlib import Path\n",
    "import shutil\n",
    "import re\n",
    "\n",
    "# Data manipulation\n",
    "import numpy as np\n",
    "import scipy as sp\n",
    "import pandas as pd\n",
    "\n",
    "# Options for pandas\n",
    "pd.options.display.max_columns = 50\n",
    "pd.options.display.max_rows = 30\n",
    "\n",
    "# Visualizations\n",
    "import matplotlib.pyplot as plt\n",
    "%matplotlib inline\n",
    "import seaborn as sns\n",
    "sns.set_style(\"ticks\")\n",
    "sns.despine()\n",
    "\n",
    "from scipy.stats import linregress\n",
    "import math"
   ]
  },
  {
   "cell_type": "markdown",
   "metadata": {
    "tags": []
   },
   "source": [
    "## Problem 1\n",
    "\n",
    "I created a list of basis functions, the number of basis functions in them, and the total energy calculated with that basis. "
   ]
  },
  {
   "cell_type": "code",
   "execution_count": 3,
   "metadata": {
    "tags": []
   },
   "outputs": [],
   "source": [
    "def Ha_to_kJ(num):\n",
    "    return 627.509 * num"
   ]
  },
  {
   "cell_type": "code",
   "execution_count": 5,
   "metadata": {},
   "outputs": [
    {
     "name": "stdout",
     "output_type": "stream",
     "text": [
      "Table 1. Total Energy, Basis Sets and Basis Sizes using Hartree-Fock (HF) Theory\n"
     ]
    },
    {
     "data": {
      "text/html": [
       "<div>\n",
       "<style scoped>\n",
       "    .dataframe tbody tr th:only-of-type {\n",
       "        vertical-align: middle;\n",
       "    }\n",
       "\n",
       "    .dataframe tbody tr th {\n",
       "        vertical-align: top;\n",
       "    }\n",
       "\n",
       "    .dataframe thead th {\n",
       "        text-align: right;\n",
       "    }\n",
       "</style>\n",
       "<table border=\"1\" class=\"dataframe\">\n",
       "  <thead>\n",
       "    <tr style=\"text-align: right;\">\n",
       "      <th></th>\n",
       "      <th>Basis set</th>\n",
       "      <th>Total energy (Ha)</th>\n",
       "      <th>Basis set size</th>\n",
       "    </tr>\n",
       "  </thead>\n",
       "  <tbody>\n",
       "    <tr>\n",
       "      <th>0</th>\n",
       "      <td>STO-3G</td>\n",
       "      <td>-0.454180</td>\n",
       "      <td>1</td>\n",
       "    </tr>\n",
       "    <tr>\n",
       "      <th>1</th>\n",
       "      <td>cc-pVDZ</td>\n",
       "      <td>-0.495280</td>\n",
       "      <td>5</td>\n",
       "    </tr>\n",
       "    <tr>\n",
       "      <th>2</th>\n",
       "      <td>cc-pVTZ</td>\n",
       "      <td>-0.496114</td>\n",
       "      <td>14</td>\n",
       "    </tr>\n",
       "    <tr>\n",
       "      <th>3</th>\n",
       "      <td>cc-pVQZ</td>\n",
       "      <td>-0.496306</td>\n",
       "      <td>30</td>\n",
       "    </tr>\n",
       "  </tbody>\n",
       "</table>\n",
       "</div>"
      ],
      "text/plain": [
       "  Basis set  Total energy (Ha)  Basis set size\n",
       "0    STO-3G          -0.454180               1\n",
       "1   cc-pVDZ          -0.495280               5\n",
       "2   cc-pVTZ          -0.496114              14\n",
       "3   cc-pVQZ          -0.496306              30"
      ]
     },
     "execution_count": 5,
     "metadata": {},
     "output_type": "execute_result"
    }
   ],
   "source": [
    "## Fill in the values in the dictionary object below. \n",
    "data_dict = {'Basis set' : ['STO-3G', 'cc-pVDZ', 'cc-pVTZ', 'cc-pVQZ'],\n",
    "             'Total energy (Ha)' : [ -0.454180,\n",
    "                                     -0.495280,\n",
    "                                     -0.496114,\n",
    "                                     -0.496306],\n",
    "             'Basis set size':    [1, 5, 14, 30]}\n",
    "hf_data = pd.DataFrame(data=data_dict)\n",
    "print(\"Table 1. Total Energy, Basis Sets and Basis Sizes using Hartree-Fock (HF) Theory\")\n",
    "hf_data"
   ]
  },
  {
   "cell_type": "code",
   "execution_count": 6,
   "metadata": {},
   "outputs": [
    {
     "name": "stdout",
     "output_type": "stream",
     "text": [
      "Figure 1. Basis Set Size vs. Total Energy (Ha) using HF Theory\n"
     ]
    },
    {
     "data": {
      "image/png": "[encoded data removed]",
      "text/plain": [
       "<Figure size 432x288 with 1 Axes>"
      ]
     },
     "metadata": {},
     "output_type": "display_data"
    }
   ],
   "source": [
    "# hf_data.plot(x='Basis set size', y='Total energy (Ha)', kind=\"scatter\")\n",
    "plt.plot(hf_data[\"Basis set size\"], hf_data[\"Total energy (Ha)\"], \"o-\")\n",
    "print(\"Figure 1. Basis Set Size vs. Total Energy (Ha) using HF Theory\")"
   ]
  },
  {
   "cell_type": "markdown",
   "metadata": {},
   "source": [
    "After running the file `performance.sh`, I imported the summary data from the results using the read_csv() function."
   ]
  },
  {
   "cell_type": "code",
   "execution_count": 7,
   "metadata": {},
   "outputs": [
    {
     "name": "stdout",
     "output_type": "stream",
     "text": [
      "Table 2. Performance Data using HF Theory\n"
     ]
    },
    {
     "data": {
      "text/html": [
       "<div>\n",
       "<style scoped>\n",
       "    .dataframe tbody tr th:only-of-type {\n",
       "        vertical-align: middle;\n",
       "    }\n",
       "\n",
       "    .dataframe tbody tr th {\n",
       "        vertical-align: top;\n",
       "    }\n",
       "\n",
       "    .dataframe thead th {\n",
       "        text-align: right;\n",
       "    }\n",
       "</style>\n",
       "<table border=\"1\" class=\"dataframe\">\n",
       "  <thead>\n",
       "    <tr style=\"text-align: right;\">\n",
       "      <th></th>\n",
       "      <th>Method</th>\n",
       "      <th>basis-set</th>\n",
       "      <th>#BS</th>\n",
       "      <th>E[Ha]</th>\n",
       "    </tr>\n",
       "  </thead>\n",
       "  <tbody>\n",
       "    <tr>\n",
       "      <th>0</th>\n",
       "      <td>SVWN</td>\n",
       "      <td>STO-3G</td>\n",
       "      <td>1</td>\n",
       "      <td>-0.454180</td>\n",
       "    </tr>\n",
       "    <tr>\n",
       "      <th>1</th>\n",
       "      <td>SVWN</td>\n",
       "      <td>cc-pVDZ</td>\n",
       "      <td>5</td>\n",
       "      <td>-0.495280</td>\n",
       "    </tr>\n",
       "    <tr>\n",
       "      <th>2</th>\n",
       "      <td>SVWN</td>\n",
       "      <td>cc-pVTZ</td>\n",
       "      <td>14</td>\n",
       "      <td>-0.496114</td>\n",
       "    </tr>\n",
       "    <tr>\n",
       "      <th>3</th>\n",
       "      <td>SVWN</td>\n",
       "      <td>cc-pVQZ</td>\n",
       "      <td>30</td>\n",
       "      <td>-0.496306</td>\n",
       "    </tr>\n",
       "    <tr>\n",
       "      <th>4</th>\n",
       "      <td>PBEPBE</td>\n",
       "      <td>STO-3G</td>\n",
       "      <td>1</td>\n",
       "      <td>-0.464375</td>\n",
       "    </tr>\n",
       "    <tr>\n",
       "      <th>5</th>\n",
       "      <td>PBEPBE</td>\n",
       "      <td>cc-pVDZ</td>\n",
       "      <td>5</td>\n",
       "      <td>-0.498627</td>\n",
       "    </tr>\n",
       "    <tr>\n",
       "      <th>6</th>\n",
       "      <td>PBEPBE</td>\n",
       "      <td>cc-pVTZ</td>\n",
       "      <td>14</td>\n",
       "      <td>-0.499619</td>\n",
       "    </tr>\n",
       "    <tr>\n",
       "      <th>7</th>\n",
       "      <td>PBEPBE</td>\n",
       "      <td>cc-pVQZ</td>\n",
       "      <td>30</td>\n",
       "      <td>-0.499854</td>\n",
       "    </tr>\n",
       "    <tr>\n",
       "      <th>8</th>\n",
       "      <td>PBE1PBE</td>\n",
       "      <td>STO-3G</td>\n",
       "      <td>1</td>\n",
       "      <td>-0.466508</td>\n",
       "    </tr>\n",
       "    <tr>\n",
       "      <th>9</th>\n",
       "      <td>PBE1PBE</td>\n",
       "      <td>cc-pVDZ</td>\n",
       "      <td>5</td>\n",
       "      <td>-0.500289</td>\n",
       "    </tr>\n",
       "    <tr>\n",
       "      <th>10</th>\n",
       "      <td>PBE1PBE</td>\n",
       "      <td>cc-pVTZ</td>\n",
       "      <td>14</td>\n",
       "      <td>-0.501038</td>\n",
       "    </tr>\n",
       "    <tr>\n",
       "      <th>11</th>\n",
       "      <td>PBE1PBE</td>\n",
       "      <td>cc-pVQZ</td>\n",
       "      <td>30</td>\n",
       "      <td>-0.501227</td>\n",
       "    </tr>\n",
       "  </tbody>\n",
       "</table>\n",
       "</div>"
      ],
      "text/plain": [
       "     Method basis-set  #BS     E[Ha]\n",
       "0      SVWN    STO-3G    1 -0.454180\n",
       "1      SVWN   cc-pVDZ    5 -0.495280\n",
       "2      SVWN   cc-pVTZ   14 -0.496114\n",
       "3      SVWN   cc-pVQZ   30 -0.496306\n",
       "4    PBEPBE    STO-3G    1 -0.464375\n",
       "5    PBEPBE   cc-pVDZ    5 -0.498627\n",
       "6    PBEPBE   cc-pVTZ   14 -0.499619\n",
       "7    PBEPBE   cc-pVQZ   30 -0.499854\n",
       "8   PBE1PBE    STO-3G    1 -0.466508\n",
       "9   PBE1PBE   cc-pVDZ    5 -0.500289\n",
       "10  PBE1PBE   cc-pVTZ   14 -0.501038\n",
       "11  PBE1PBE   cc-pVQZ   30 -0.501227"
      ]
     },
     "execution_count": 7,
     "metadata": {},
     "output_type": "execute_result"
    }
   ],
   "source": [
    "## Import an external file \n",
    "method_comp = pd.read_csv('Problem_1/performance.dat', delim_whitespace=True)\n",
    "print(\"Table 2. Performance Data using HF Theory\")\n",
    "method_comp "
   ]
  },
  {
   "cell_type": "markdown",
   "metadata": {},
   "source": [
    "Finally, to plot all of the methods against each other, I grouped the data."
   ]
  },
  {
   "cell_type": "code",
   "execution_count": 8,
   "metadata": {},
   "outputs": [
    {
     "name": "stdout",
     "output_type": "stream",
     "text": [
      "Figure 2. Basis Set Size vs. Total Energy (Ha) using 3 Basis Functions\n"
     ]
    },
    {
     "data": {
      "image/png": "[encoded data removed]",
      "text/plain": [
       "<Figure size 432x288 with 1 Axes>"
      ]
     },
     "metadata": {},
     "output_type": "display_data"
    }
   ],
   "source": [
    "# Create a set of axes to reuse for each plot\n",
    "ax = plt.gca()\n",
    "\n",
    "# Plot data from each 'Method' group on the `ax` object\n",
    "for key, grp in method_comp.groupby(['Method']):\n",
    "    grp.plot(x='#BS',y='E[Ha]', label=key, ax=ax)\n",
    "plt.legend(loc='best')   \n",
    "\n",
    "plt.axhline(y = -0.5, color = 'r', linestyle = '--')\n",
    "\n",
    "print(\"Figure 2. Basis Set Size vs. Total Energy (Ha) using 3 Basis Functions\")\n",
    "plt.show()\n"
   ]
  },
  {
   "cell_type": "markdown",
   "metadata": {
    "tags": []
   },
   "source": [
    "## Problem 2"
   ]
  },
  {
   "cell_type": "markdown",
   "metadata": {},
   "source": [
    "The file named `dist_E.dat`is filled with bond distances and energies."
   ]
  },
  {
   "cell_type": "code",
   "execution_count": 9,
   "metadata": {},
   "outputs": [
    {
     "name": "stdout",
     "output_type": "stream",
     "text": [
      "Table 3. Bond Distance and Calculated Energy using 6-31G(d, p) Function of HF Thoery\n"
     ]
    },
    {
     "data": {
      "text/html": [
       "<div>\n",
       "<style scoped>\n",
       "    .dataframe tbody tr th:only-of-type {\n",
       "        vertical-align: middle;\n",
       "    }\n",
       "\n",
       "    .dataframe tbody tr th {\n",
       "        vertical-align: top;\n",
       "    }\n",
       "\n",
       "    .dataframe thead th {\n",
       "        text-align: right;\n",
       "    }\n",
       "</style>\n",
       "<table border=\"1\" class=\"dataframe\">\n",
       "  <thead>\n",
       "    <tr style=\"text-align: right;\">\n",
       "      <th></th>\n",
       "      <th>dist</th>\n",
       "      <th>E[Ha]</th>\n",
       "    </tr>\n",
       "  </thead>\n",
       "  <tbody>\n",
       "    <tr>\n",
       "      <th>0</th>\n",
       "      <td>0.70</td>\n",
       "      <td>-100.232677</td>\n",
       "    </tr>\n",
       "    <tr>\n",
       "      <th>1</th>\n",
       "      <td>0.80</td>\n",
       "      <td>-100.310543</td>\n",
       "    </tr>\n",
       "    <tr>\n",
       "      <th>2</th>\n",
       "      <td>0.85</td>\n",
       "      <td>-100.326214</td>\n",
       "    </tr>\n",
       "    <tr>\n",
       "      <th>3</th>\n",
       "      <td>0.87</td>\n",
       "      <td>-100.329639</td>\n",
       "    </tr>\n",
       "    <tr>\n",
       "      <th>4</th>\n",
       "      <td>0.89</td>\n",
       "      <td>-100.331762</td>\n",
       "    </tr>\n",
       "    <tr>\n",
       "      <th>5</th>\n",
       "      <td>0.90</td>\n",
       "      <td>-100.332390</td>\n",
       "    </tr>\n",
       "    <tr>\n",
       "      <th>6</th>\n",
       "      <td>0.91</td>\n",
       "      <td>-100.332757</td>\n",
       "    </tr>\n",
       "    <tr>\n",
       "      <th>7</th>\n",
       "      <td>0.93</td>\n",
       "      <td>-100.332781</td>\n",
       "    </tr>\n",
       "    <tr>\n",
       "      <th>8</th>\n",
       "      <td>0.95</td>\n",
       "      <td>-100.331965</td>\n",
       "    </tr>\n",
       "    <tr>\n",
       "      <th>9</th>\n",
       "      <td>1.00</td>\n",
       "      <td>-100.326984</td>\n",
       "    </tr>\n",
       "    <tr>\n",
       "      <th>10</th>\n",
       "      <td>1.10</td>\n",
       "      <td>-100.308752</td>\n",
       "    </tr>\n",
       "    <tr>\n",
       "      <th>11</th>\n",
       "      <td>1.20</td>\n",
       "      <td>-100.285033</td>\n",
       "    </tr>\n",
       "    <tr>\n",
       "      <th>12</th>\n",
       "      <td>1.30</td>\n",
       "      <td>-100.259646</td>\n",
       "    </tr>\n",
       "  </tbody>\n",
       "</table>\n",
       "</div>"
      ],
      "text/plain": [
       "    dist       E[Ha]\n",
       "0   0.70 -100.232677\n",
       "1   0.80 -100.310543\n",
       "2   0.85 -100.326214\n",
       "3   0.87 -100.329639\n",
       "4   0.89 -100.331762\n",
       "5   0.90 -100.332390\n",
       "6   0.91 -100.332757\n",
       "7   0.93 -100.332781\n",
       "8   0.95 -100.331965\n",
       "9   1.00 -100.326984\n",
       "10  1.10 -100.308752\n",
       "11  1.20 -100.285033\n",
       "12  1.30 -100.259646"
      ]
     },
     "execution_count": 9,
     "metadata": {},
     "output_type": "execute_result"
    }
   ],
   "source": [
    "# Import data from `dist_E.dat` using the same method as in Problem 1\n",
    "dist_E = pd.read_csv('Problem_2/dist_E.dat', delim_whitespace=True)\n",
    "\n",
    "print(\"Table 3. Bond Distance and Calculated Energy using 6-31G(d, p) Function of HF Thoery\")\n",
    "dist_E"
   ]
  },
  {
   "cell_type": "code",
   "execution_count": 10,
   "metadata": {},
   "outputs": [
    {
     "name": "stdout",
     "output_type": "stream",
     "text": [
      "Figure 3. Bond Distance vs. Total Energy using 6-31G(d, p) Function of HF Thoery\n"
     ]
    },
    {
     "data": {
      "image/png": "[encoded data removed]",
      "text/plain": [
       "<Figure size 432x288 with 1 Axes>"
      ]
     },
     "metadata": {},
     "output_type": "display_data"
    }
   ],
   "source": [
    "#Plot the bond distance vs. total energy and output the minimum distance and energy\n",
    "plt.plot(dist_E['dist'], dist_E['E[Ha]'], '-o')\n",
    "print(\"Figure 3. Bond Distance vs. Total Energy using 6-31G(d, p) Function of HF Thoery\")"
   ]
  },
  {
   "cell_type": "code",
   "execution_count": 11,
   "metadata": {},
   "outputs": [
    {
     "name": "stdout",
     "output_type": "stream",
     "text": [
      "The experimental value of ∆𝐻_at equals -294.67 kJ/mol.\n"
     ]
    }
   ],
   "source": [
    "# Calculate \\Delta H_{at} for the molecule, print out the result\n",
    "\n",
    "Flu_HFmethod_Energy = -99.3649568696\n",
    "Hyd_HFmethod_Energy = -0.498232909202\n",
    "Hydflu_HFmethod_Energy = -100.332781\n",
    "\n",
    "HFmethod_delta_H_at = Hydflu_HFmethod_Energy - Hyd_HFmethod_Energy - Flu_HFmethod_Energy\n",
    "print(\"The experimental value of ∆𝐻_at equals\", round(Ha_to_kJ(HFmethod_delta_H_at), 2), \"kJ/mol.\" )\n"
   ]
  },
  {
   "cell_type": "code",
   "execution_count": 12,
   "metadata": {
    "tags": []
   },
   "outputs": [
    {
     "name": "stdout",
     "output_type": "stream",
     "text": [
      "Figure 4. Bond Distance vs. Total Energy using 6-31G(d, p) Function of PBE1PBE Thoery\n"
     ]
    },
    {
     "data": {
      "image/png": "[encoded data removed]",
      "text/plain": [
       "<Figure size 432x288 with 1 Axes>"
      ]
     },
     "metadata": {},
     "output_type": "display_data"
    }
   ],
   "source": [
    "#PBE1PBE Method\n",
    "a = [-100.232676840, -100.310543365, -100.326213510, -100.329639112, -100.331761577, \n",
    "     -100.332390250, -100.332757500, -100.332780645, -100.331964886, -100.326984302, \n",
    "     -100.308752238, -100.285033017, -100.259646166]\n",
    "\n",
    "plt.plot(dist_E['dist'], a, '-o')\n",
    "print(\"Figure 4. Bond Distance vs. Total Energy using 6-31G(d, p) Function of PBE1PBE Thoery\")"
   ]
  },
  {
   "cell_type": "code",
   "execution_count": 13,
   "metadata": {
    "tags": []
   },
   "outputs": [
    {
     "name": "stdout",
     "output_type": "stream",
     "text": [
      "The experimental value of ∆𝐻_at equals -131.18 kJ/mol.\n"
     ]
    }
   ],
   "source": [
    "Flu_PBEmethod_Energy = -99.6246249210\n",
    "Hyd_PBEmethod_Energy = -0.499108855176\n",
    "Hydflu_PBEmethod_Energy = -100.332780645\n",
    "\n",
    "PBEmethod_delta_H_at = Hydflu_PBEmethod_Energy - (Hyd_PBEmethod_Energy + Flu_PBEmethod_Energy)\n",
    "print(\"The experimental value of ∆𝐻_at equals\", round(Ha_to_kJ(PBEmethod_delta_H_at), 2), \"kJ/mol.\" )"
   ]
  },
  {
   "cell_type": "markdown",
   "metadata": {},
   "source": [
    "I grab data on dipoles from the original files by using the `grep` program. "
   ]
  },
  {
   "cell_type": "code",
   "execution_count": 14,
   "metadata": {},
   "outputs": [
    {
     "name": "stdout",
     "output_type": "stream",
     "text": [
      "Problem_2/HF_method/dist_0.70/input.log: Dipole moment (field-independent basis, Debye):\n",
      "Problem_2/HF_method/dist_0.70/input.log-    X=              0.0000    Y=              0.0000    Z=             -1.5897  Tot=              1.5897\n",
      "--\n",
      "Problem_2/HF_method/dist_0.70/input.log: 10985\\RMSD=8.962e-10\\Dipole=0.,0.,0.6254379\\Quadrupole=-0.3252787,-0.3\n",
      "Problem_2/HF_method/dist_0.70/input.log- 252787,0.6505575,0.,0.,0.\\PG=C*V [C*(H1F1)]\\\\@\n",
      "--\n",
      "Problem_2/HF_method/dist_0.80/input.log: Dipole moment (field-independent basis, Debye):\n",
      "Problem_2/HF_method/dist_0.80/input.log-    X=              0.0000    Y=              0.0000    Z=             -1.7672  Tot=              1.7672\n",
      "--\n",
      "Problem_2/HF_method/dist_0.80/input.log: 45705\\RMSD=1.059e-09\\Dipole=0.,0.,0.695262\\Quadrupole=-0.4027602,-0.40\n",
      "Problem_2/HF_method/dist_0.80/input.log- 27602,0.8055204,0.,0.,0.\\PG=C*V [C*(H1F1)]\\\\@\n",
      "--\n",
      "Problem_2/HF_method/dist_0.85/input.log: Dipole moment (field-independent basis, Debye):\n",
      "Problem_2/HF_method/dist_0.85/input.log-    X=              0.0000    Y=              0.0000    Z=             -1.8556  Tot=              1.8556\n",
      "--\n",
      "Problem_2/HF_method/dist_0.85/input.log: 0079035\\RMSD=1.198e-09\\Dipole=0.,0.,0.7300608\\Quadrupole=-0.4454739,-0\n",
      "Problem_2/HF_method/dist_0.85/input.log- .4454739,0.8909478,0.,0.,0.\\PG=C*V [C*(H1F1)]\\\\@\n",
      "--\n",
      "Problem_2/HF_method/dist_0.87/input.log: Dipole moment (field-independent basis, Debye):\n",
      "Problem_2/HF_method/dist_0.87/input.log-    X=              0.0000    Y=              0.0000    Z=             -1.8907  Tot=              1.8907\n",
      "--\n",
      "Problem_2/HF_method/dist_0.87/input.log: 0103775\\RMSD=1.262e-09\\Dipole=0.,0.,0.7438702\\Quadrupole=-0.4632354,-0\n",
      "Problem_2/HF_method/dist_0.87/input.log- .4632354,0.9264707,0.,0.,0.\\PG=C*V [C*(H1F1)]\\\\@\n",
      "--\n",
      "Problem_2/HF_method/dist_0.89/input.log: Dipole moment (field-independent basis, Debye):\n",
      "Problem_2/HF_method/dist_0.89/input.log-    X=              0.0000    Y=              0.0000    Z=             -1.9256  Tot=              1.9256\n",
      "--\n",
      "Problem_2/HF_method/dist_0.89/input.log: 0115423\\RMSD=1.325e-09\\Dipole=0.,0.,0.7575999\\Quadrupole=-0.4813629,-0\n",
      "Problem_2/HF_method/dist_0.89/input.log- .4813629,0.9627257,0.,0.,0.\\PG=C*V [C*(H1F1)]\\\\@\n",
      "--\n",
      "Problem_2/HF_method/dist_0.90/input.log: Dipole moment (field-independent basis, Debye):\n",
      "Problem_2/HF_method/dist_0.90/input.log-    X=              0.0000    Y=              0.0000    Z=             -1.9430  Tot=              1.9430\n",
      "--\n",
      "Problem_2/HF_method/dist_0.90/input.log: 116905\\RMSD=1.354e-09\\Dipole=0.,0.,0.7644321\\Quadrupole=-0.4905595,-0.\n",
      "Problem_2/HF_method/dist_0.90/input.log- 4905595,0.9811189,0.,0.,0.\\PG=C*V [C*(H1F1)]\\\\@\n",
      "--\n",
      "Problem_2/HF_method/dist_0.91/input.log: Dipole moment (field-independent basis, Debye):\n",
      "Problem_2/HF_method/dist_0.91/input.log-    X=              0.0000    Y=              0.0000    Z=             -1.9603  Tot=              1.9603\n",
      "--\n",
      "Problem_2/HF_method/dist_0.91/input.log: 0115765\\RMSD=1.379e-09\\Dipole=0.,0.,0.7712411\\Quadrupole=-0.4998421,-0\n",
      "Problem_2/HF_method/dist_0.91/input.log- .4998421,0.9996843,0.,0.,0.\\PG=C*V [C*(H1F1)]\\\\@\n",
      "--\n",
      "Problem_2/HF_method/dist_0.93/input.log: Dipole moment (field-independent basis, Debye):\n",
      "Problem_2/HF_method/dist_0.93/input.log-    X=              0.0000    Y=              0.0000    Z=             -1.9947  Tot=              1.9947\n",
      "--\n",
      "Problem_2/HF_method/dist_0.93/input.log: 0106357\\RMSD=1.417e-09\\Dipole=0.,0.,0.7847862\\Quadrupole=-0.5186581,-0\n",
      "Problem_2/HF_method/dist_0.93/input.log- .5186581,1.0373163,0.,0.,0.\\PG=C*V [C*(H1F1)]\\\\@\n",
      "--\n",
      "Problem_2/HF_method/dist_0.95/input.log: Dipole moment (field-independent basis, Debye):\n",
      "Problem_2/HF_method/dist_0.95/input.log-    X=              0.0000    Y=              0.0000    Z=             -2.0289  Tot=              2.0289\n",
      "--\n",
      "Problem_2/HF_method/dist_0.95/input.log: 0088555\\RMSD=1.437e-09\\Dipole=0.,0.,0.7982282\\Quadrupole=-0.537795,-0.\n",
      "Problem_2/HF_method/dist_0.95/input.log- 537795,1.07559,0.,0.,0.\\PG=C*V [C*(H1F1)]\\\\@\n",
      "--\n",
      "Problem_2/HF_method/dist_1.00/input.log: Dipole moment (field-independent basis, Debye):\n",
      "Problem_2/HF_method/dist_1.00/input.log-    X=              0.0000    Y=              0.0000    Z=             -2.1131  Tot=              2.1131\n",
      "--\n",
      "Problem_2/HF_method/dist_1.00/input.log: 14707\\RMSD=1.442e-09\\Dipole=0.,0.,0.8313408\\Quadrupole=-0.5869312,-0.5\n",
      "Problem_2/HF_method/dist_1.00/input.log- 869312,1.1738625,0.,0.,0.\\PG=C*V [C*(H1F1)]\\\\@\n",
      "--\n",
      "Problem_2/HF_method/dist_1.10/input.log: Dipole moment (field-independent basis, Debye):\n",
      "Problem_2/HF_method/dist_1.10/input.log-    X=              0.0000    Y=              0.0000    Z=             -2.2753  Tot=              2.2753\n",
      "--\n",
      "Problem_2/HF_method/dist_1.10/input.log: 8494\\RMSD=1.630e-09\\Dipole=0.,0.,0.8951802\\Quadrupole=-0.6898312,-0.68\n",
      "Problem_2/HF_method/dist_1.10/input.log- 98312,1.3796625,0.,0.,0.\\PG=C*V [C*(H1F1)]\\\\@\n",
      "--\n",
      "Problem_2/HF_method/dist_1.20/input.log: Dipole moment (field-independent basis, Debye):\n",
      "Problem_2/HF_method/dist_1.20/input.log-    X=              0.0000    Y=              0.0000    Z=             -2.4288  Tot=              2.4288\n",
      "--\n",
      "Problem_2/HF_method/dist_1.20/input.log: 01253\\RMSD=2.105e-09\\Dipole=0.,0.,0.9555749\\Quadrupole=-0.7972509,-0.7\n",
      "Problem_2/HF_method/dist_1.20/input.log- 972509,1.5945019,0.,0.,0.\\PG=C*V [C*(H1F1)]\\\\@\n",
      "--\n",
      "Problem_2/HF_method/dist_1.30/input.log: Dipole moment (field-independent basis, Debye):\n",
      "Problem_2/HF_method/dist_1.30/input.log-    X=              0.0000    Y=              0.0000    Z=             -2.5742  Tot=              2.5742\n",
      "--\n",
      "Problem_2/HF_method/dist_1.30/input.log: 01564\\RMSD=2.646e-09\\Dipole=0.,0.,1.0127797\\Quadrupole=-0.9077376,-0.9\n",
      "Problem_2/HF_method/dist_1.30/input.log- 077376,1.8154751,0.,0.,0.\\PG=C*V [C*(H1F1)]\\\\@\n"
     ]
    }
   ],
   "source": [
    "!grep Dipole Problem_2/HF*/dist_*/*.log -A1\n",
    "# dipoles = !grep Dipole Problem_2/HF*/dist_*/*.log -A1 | grep Tot | awk '{print $9}'\n",
    "# print(dipoles)\n",
    "#!grep Dipole dist*/*.log -A1 | grep Tot | awk '{print $9}'"
   ]
  },
  {
   "cell_type": "code",
   "execution_count": 15,
   "metadata": {},
   "outputs": [
    {
     "name": "stdout",
     "output_type": "stream",
     "text": [
      "Figure 5. HF Method Dipole Moment vs. Bond Length\n"
     ]
    },
    {
     "data": {
      "image/png": "[encoded data removed]",
      "text/plain": [
       "<Figure size 432x288 with 1 Axes>"
      ]
     },
     "metadata": {},
     "output_type": "display_data"
    }
   ],
   "source": [
    "# I input dipole information, then plot the bond distance vs. the dipole moment. \n",
    "\n",
    "list_name = [1.5897, 1.7672, 1.8556, 1.8907, 1.9256, 1.9430, 1.9603, \n",
    "             1.9947, 2.0289, 2.1131, 2.2753, 2.4288, 2.5742]\n",
    "\n",
    "plt.plot(dist_E['dist'], list_name, \"-o\")\n",
    "print(\"Figure 5. HF Method Dipole Moment vs. Bond Length\")"
   ]
  },
  {
   "cell_type": "code",
   "execution_count": 16,
   "metadata": {
    "tags": []
   },
   "outputs": [
    {
     "name": "stdout",
     "output_type": "stream",
     "text": [
      "Figure 6. PBE1PBE Method Dipole Moment vs. Bond Length\n"
     ]
    },
    {
     "data": {
      "image/png": "[encoded data removed]",
      "text/plain": [
       "<Figure size 432x288 with 1 Axes>"
      ]
     },
     "metadata": {},
     "output_type": "display_data"
    }
   ],
   "source": [
    "list_name1 = [1.5351, 1.6800, 1.7499, 1.7772, 1.8040, 1.8173, 1.8305, \n",
    "              1.8565, 1.8821, 1.9442, 2.0601, 2.1648, 2.2590]\n",
    "\n",
    "plt.plot(dist_E['dist'], list_name1, \"-o\")\n",
    "print(\"Figure 6. PBE1PBE Method Dipole Moment vs. Bond Length\")"
   ]
  },
  {
   "cell_type": "markdown",
   "metadata": {
    "tags": []
   },
   "source": [
    "## Problem 3"
   ]
  },
  {
   "cell_type": "markdown",
   "metadata": {},
   "source": [
    "After I ran the planar H<sub>3</sub>O<sup>+</sup> molecule, I visualized the results.  "
   ]
  },
  {
   "cell_type": "code",
   "execution_count": 17,
   "metadata": {},
   "outputs": [],
   "source": [
    "# OpenChemistry has a viewing module\n",
    "import cclib # Note, cclib translates to units of eV when it parses input. \n",
    "import json\n",
    "import openchemistry as oc"
   ]
  },
  {
   "cell_type": "markdown",
   "metadata": {},
   "source": [
    "I started by importing and parsing the data using `cclib`. I set the location of the logfile for the calculation on the planar molecule below. The next cell converted the `cclib` import to the cJSON format, a standard being promoted by the [OpenChemistry Project][openchem-home]. \n",
    "\n",
    "The variable `logfile` should be set to the name and location of the `input.log` file from your pyramidal calculation. In the next cell, the variable `cjsonfile` should be set to the same folder and a new file with the extension `.cjson`. For example, if your file is in `Problem_3/Pyramidal/input.log`, you might set `cjsonfile` to be `Problem_3/Pyramidal/any-name.cjson`. \n",
    "\n",
    "[openchem-home]: https://www.openchemistry.org\n",
    "[oc-py]: https://github.com/OpenChemistry/openchemistrypy"
   ]
  },
  {
   "cell_type": "code",
   "execution_count": 18,
   "metadata": {},
   "outputs": [
    {
     "name": "stdout",
     "output_type": "stream",
     "text": [
      "package           : Gaussian\n",
      "methods           : ['HF', 'HF', 'HF', 'HF']\n",
      "success           : True\n",
      "legacy_package_version: 16revisionB.01\n",
      "package_version   : 2016+B.01\n",
      "platform          : ES64L\n",
      "basis_set         : 6-31G(d,p)\n",
      "cpu_time          : [datetime.timedelta(seconds=4, microseconds=300000), datetime.timedelta(seconds=2, microseconds=600000)]\n",
      "wall_time         : [datetime.timedelta(seconds=2, microseconds=200000), datetime.timedelta(seconds=1, microseconds=300000)]\n"
     ]
    }
   ],
   "source": [
    "# Import and parse Gaussian data with cclib \n",
    "logfile = \"Problem_3/Planar/input.log\"\n",
    "planar_log = cclib.io.ccread(logfile)\n",
    "\n",
    "# Display some information about our log file\n",
    "for key, value in planar_log.metadata.items():\n",
    "    print(f'{key:18}: {value}')"
   ]
  },
  {
   "cell_type": "code",
   "execution_count": 19,
   "metadata": {},
   "outputs": [],
   "source": [
    "# Convert Gaussian data to cJSON output that OpenChemistry can understand\n",
    "cjsonfile= 'planar.cjson'\n",
    "cclib.io.ccwrite(planar_log,outputtype='cjson',outputdest=cjsonfile)\n",
    "\n",
    "with open(cjsonfile) as f:\n",
    "    planar_cjson = json.load(f)\n",
    "    \n",
    "planar_mol = oc.load(planar_cjson)"
   ]
  },
  {
   "cell_type": "markdown",
   "metadata": {},
   "source": [
    "The next cell outputs the total energy of the molecule (in eV, `cclib` automatically does the conversion of that field). \n",
    "\n",
    "\n",
    "Below the printed line with the molecule energy is a visual representation of the molecule. This can be rotated and zoomed with the mouse. Note that the bonds aren't all properly represented,  but this is fixed in the following cell. "
   ]
  },
  {
   "cell_type": "code",
   "execution_count": 20,
   "metadata": {},
   "outputs": [
    {
     "name": "stdout",
     "output_type": "stream",
     "text": [
      "The total energy of the molecule is -2076.4708636977834 eV.\n"
     ]
    },
    {
     "data": {
      "application/vnd.oc.cjson+json": {
       "atoms": {
        "coords": {
         "3d": [
          0,
          0,
          -3.3e-05,
          0,
          0.829728,
          -0.478894,
          0,
          -0.829728,
          -0.478894,
          0,
          0,
          0.958055
         ]
        },
        "core electrons": [
         0,
         0,
         0,
         0
        ],
        "elements": {
         "atom count": 4,
         "heavy atom count": 1,
         "number": [
          8,
          1,
          1,
          1
         ]
        }
       },
       "chemical json": 0,
       "optimization": {
        "done": true,
        "geometric targets": [
         0.00045,
         0.0003,
         0.0018,
         0.0012
        ],
        "geometric values": [
         [
          0.079583,
          0.051907,
          0.171582,
          0.113389
         ],
         [
          0.011853,
          0.007709,
          0.021176,
          0.01421
         ],
         [
          0.000214,
          0.000124,
          0.000306,
          0.00022
         ],
         [
          0.000214,
          0.000124,
          0.000374,
          0.000233
         ]
        ],
        "scf": {
         "scf energies": [
          -2075.7647649121927,
          -2076.4604533375227,
          -2076.4708636977834,
          -2076.4708636977834
         ],
         "targets": [
          [
           1e-08,
           1e-06,
           1e-06
          ],
          [
           1e-08,
           1e-06,
           1e-06
          ],
          [
           1e-08,
           1e-06,
           1e-06
          ],
          [
           1e-08,
           1e-06,
           1e-06
          ]
         ]
        },
        "status": [
         1,
         0,
         4,
         5
        ]
       },
       "properties": {
        "charge": 1,
        "energies": {
         "zero-point correction": 0.035229
        },
        "energy": {
         "alpha": {
          "gap": 22.522591292034498,
          "homo": -25.42631819072
         },
         "beta": {
          "gap": 22.522591292034498,
          "homo": -25.42631819072
         },
         "free energy": -76.292062,
         "total": -2076.4708636977834
        },
        "enthalpy": -76.269891,
        "entropy": 7.436189837330258e-05,
        "multiplicity": 1,
        "number of atoms": 4,
        "orbitals": {
         "MO number": 30,
         "basis number": 30,
         "energies": [
          [
           -571.5177269527945,
           -48.9807652038505,
           -31.423979569590497,
           -31.421258431085498,
           -25.42631819072,
           -2.9037268986855,
           0.256331247171,
           0.257419702573,
           18.103734473765,
           18.1089046369245,
           18.144007323639002,
           20.8915408721375,
           24.422218082375,
           24.423034423926502,
           29.594558152679,
           37.3854498063445,
           37.3870824894475,
           53.731056692029,
           58.146103916391496,
           58.898226599173505,
           58.900131396127,
           64.32526523354551,
           72.995084624326,
           73.0046086090935,
           79.0956050386855,
           79.10186365724701,
           91.1834465055965,
           96.33918763102,
           96.343541452628,
           112.48560717813851
          ]
         ],
         "homos": [
          4
         ],
         "molecular orbital symmetry": [
          [
           "A1",
           "A1",
           "A1",
           "B2",
           "B1",
           "A1",
           "B2",
           "A1",
           "A1",
           "A1",
           "B2",
           "B1",
           "A1",
           "B2",
           "A1",
           "A2",
           "B1",
           "B2",
           "A1",
           "B2",
           "A1",
           "B1",
           "A2",
           "B1",
           "A1",
           "B2",
           "A1",
           "B2",
           "A1",
           "A1"
          ]
         ]
        },
        "partial charges": {
         "apt": [
          -0.608807,
          0.536274,
          0.536274,
          0.536259
         ],
         "apt_sum": [
          1,
          0,
          0,
          0
         ],
         "mulliken": [
          -0.453675,
          0.484549,
          0.484549,
          0.484577
         ],
         "mulliken_sum": [
          1,
          0,
          0,
          0
         ]
        },
        "pressure": 1,
        "temperature": 298.15,
        "total dipole moment": 0.0007
       }
      },
      "text/plain": [
       "<jupyterlab_cjson.CJSON object>"
      ]
     },
     "metadata": {
      "application/vnd.oc.cjson+json": {
       "expanded": false,
       "isoValue": null,
       "mo": null,
       "mode": -1,
       "moleculeRenderer": "moljs",
       "play": false,
       "root": "root",
       "showIsoSurface": false,
       "showMenu": true,
       "showSpectrum": false,
       "showVolume": false
      }
     },
     "output_type": "display_data"
    }
   ],
   "source": [
    "print(f\"The total energy of the molecule is {planar_mol.properties.data()['energy']['total']} eV.\")\n",
    "planar_mol.structure.show()"
   ]
  },
  {
   "cell_type": "markdown",
   "metadata": {},
   "source": [
    "The following two cells do a bit of editing on the incoming data to show the \"bonds\" (remember, bonds don't really exist, they're just a way to represent the overlap of orbitals when atoms get close enough to each other). The second cell rearranges the imported vibrational data so that we can view the vibrations with the visualizer. "
   ]
  },
  {
   "cell_type": "code",
   "execution_count": 21,
   "metadata": {},
   "outputs": [],
   "source": [
    "## For visualization purposes, create bonds between oxygen and all other atoms\n",
    "# atoms are numbered consecutively from 0 in the order they're listed in the \n",
    "# input file. We want bonds from the first atom (oxygen, number \"0\") to each\n",
    "# other atom. \n",
    "planar_mol.structure.data()['bonds'] = {'connections': {'index': [0, 1,\n",
    "                                                                0, 2,\n",
    "                                                                0, 3]}}\n",
    "# Set all bonds to order 1 (single bonds)\n",
    "planar_mol.structure.data()['bonds']['order'] = [1, 1, 1]"
   ]
  },
  {
   "cell_type": "code",
   "execution_count": 22,
   "metadata": {},
   "outputs": [],
   "source": [
    "## Need to edit the vibrational data that comes in from cclib\n",
    "# Need to rename 'displacement' to 'eigenVectors' so that OpenChemistry can \n",
    "# recognize it. Also need to reshape the array (group by vibrational mode).\n",
    "planar_mol.vibrations.data()['displacement'] = \\\n",
    "    np.array(\n",
    "        planar_mol.vibrations.data()['displacement']).reshape(\n",
    "            len(planar_mol.vibrations.data()['frequencies'])\n",
    "            , -1\n",
    "        ).tolist()\n",
    "planar_mol.vibrations.data()['eigenVectors'] = planar_mol.vibrations.data().pop('displacement')\n",
    "\n",
    "# Change 'intensities' to contain _only_ IR data, throw out Raman information\n",
    "planar_mol.vibrations.data()['intensities'] = planar_mol.vibrations.data()['intensities'].pop('IR')\n",
    "\n",
    "# Add enumerated list of 'modes' for OC to reference\n",
    "planar_mol.vibrations.data()['modes'] = list(range(0, (len(planar_mol.vibrations.data()['intensities']))))"
   ]
  },
  {
   "cell_type": "markdown",
   "metadata": {},
   "source": [
    "In the next three cells, we will get to view the information about the molecule. The first cell displays a 3D representation of the molecule. You can use the mouse to rotate the molecule (click and drag), or to zoom in and out using the scroll wheel. \n",
    "\n",
    "The second cell shows a summary of the molecular vibrations and gives the IR intensity of each. Using the visualization in the third cell, you can click on the lines in the spectrum to see which vibration results in that spectral line. Some of the vibrations overlap, so you'll have to manually select them. Click on the vertical ellipsis ($\\vdots$) in the upper right corner of the visualization to reveal the menu. "
   ]
  },
  {
   "cell_type": "code",
   "execution_count": 23,
   "metadata": {},
   "outputs": [
    {
     "data": {
      "application/vnd.oc.cjson+json": {
       "atoms": {
        "coords": {
         "3d": [
          0,
          0,
          -3.3e-05,
          0,
          0.829728,
          -0.478894,
          0,
          -0.829728,
          -0.478894,
          0,
          0,
          0.958055
         ]
        },
        "core electrons": [
         0,
         0,
         0,
         0
        ],
        "elements": {
         "atom count": 4,
         "heavy atom count": 1,
         "number": [
          8,
          1,
          1,
          1
         ]
        }
       },
       "bonds": {
        "connections": {
         "index": [
          0,
          1,
          0,
          2,
          0,
          3
         ]
        },
        "order": [
         1,
         1,
         1
        ]
       },
       "chemical json": 0,
       "optimization": {
        "done": true,
        "geometric targets": [
         0.00045,
         0.0003,
         0.0018,
         0.0012
        ],
        "geometric values": [
         [
          0.079583,
          0.051907,
          0.171582,
          0.113389
         ],
         [
          0.011853,
          0.007709,
          0.021176,
          0.01421
         ],
         [
          0.000214,
          0.000124,
          0.000306,
          0.00022
         ],
         [
          0.000214,
          0.000124,
          0.000374,
          0.000233
         ]
        ],
        "scf": {
         "scf energies": [
          -2075.7647649121927,
          -2076.4604533375227,
          -2076.4708636977834,
          -2076.4708636977834
         ],
         "targets": [
          [
           1e-08,
           1e-06,
           1e-06
          ],
          [
           1e-08,
           1e-06,
           1e-06
          ],
          [
           1e-08,
           1e-06,
           1e-06
          ],
          [
           1e-08,
           1e-06,
           1e-06
          ]
         ]
        },
        "status": [
         1,
         0,
         4,
         5
        ]
       },
       "properties": {
        "charge": 1,
        "energies": {
         "zero-point correction": 0.035229
        },
        "energy": {
         "alpha": {
          "gap": 22.522591292034498,
          "homo": -25.42631819072
         },
         "beta": {
          "gap": 22.522591292034498,
          "homo": -25.42631819072
         },
         "free energy": -76.292062,
         "total": -2076.4708636977834
        },
        "enthalpy": -76.269891,
        "entropy": 7.436189837330258e-05,
        "multiplicity": 1,
        "number of atoms": 4,
        "orbitals": {
         "MO number": 30,
         "basis number": 30,
         "energies": [
          [
           -571.5177269527945,
           -48.9807652038505,
           -31.423979569590497,
           -31.421258431085498,
           -25.42631819072,
           -2.9037268986855,
           0.256331247171,
           0.257419702573,
           18.103734473765,
           18.1089046369245,
           18.144007323639002,
           20.8915408721375,
           24.422218082375,
           24.423034423926502,
           29.594558152679,
           37.3854498063445,
           37.3870824894475,
           53.731056692029,
           58.146103916391496,
           58.898226599173505,
           58.900131396127,
           64.32526523354551,
           72.995084624326,
           73.0046086090935,
           79.0956050386855,
           79.10186365724701,
           91.1834465055965,
           96.33918763102,
           96.343541452628,
           112.48560717813851
          ]
         ],
         "homos": [
          4
         ],
         "molecular orbital symmetry": [
          [
           "A1",
           "A1",
           "A1",
           "B2",
           "B1",
           "A1",
           "B2",
           "A1",
           "A1",
           "A1",
           "B2",
           "B1",
           "A1",
           "B2",
           "A1",
           "A2",
           "B1",
           "B2",
           "A1",
           "B2",
           "A1",
           "B1",
           "A2",
           "B1",
           "A1",
           "B2",
           "A1",
           "B2",
           "A1",
           "A1"
          ]
         ]
        },
        "partial charges": {
         "apt": [
          -0.608807,
          0.536274,
          0.536274,
          0.536259
         ],
         "apt_sum": [
          1,
          0,
          0,
          0
         ],
         "mulliken": [
          -0.453675,
          0.484549,
          0.484549,
          0.484577
         ],
         "mulliken_sum": [
          1,
          0,
          0,
          0
         ]
        },
        "pressure": 1,
        "temperature": 298.15,
        "total dipole moment": 0.0007
       },
       "vibrations": {
        "eigenVectors": [
         [
          -0.11,
          0,
          0,
          0.57,
          0,
          0,
          0.57,
          0,
          0,
          0.57,
          0,
          0
         ],
         [
          0,
          0,
          -0.07,
          0,
          0.39,
          0.59,
          0,
          -0.39,
          0.59,
          0,
          0,
          -0.08
         ],
         [
          0,
          -0.07,
          0,
          0,
          0.14,
          0.39,
          0,
          0.14,
          -0.39,
          0,
          0.81,
          0
         ],
         [
          0,
          0,
          0,
          0,
          0.5,
          -0.29,
          0,
          -0.5,
          -0.29,
          0,
          0,
          0.58
         ],
         [
          0,
          0,
          -0.08,
          0,
          -0.35,
          0.21,
          0,
          0.35,
          0.21,
          0,
          0,
          0.81
         ],
         [
          0,
          -0.08,
          0,
          0,
          0.61,
          -0.35,
          0,
          0.61,
          0.35,
          0,
          0.01,
          0
         ]
        ],
        "force constants": [
         0.2357,
         1.9369,
         1.938,
         8.921,
         10.6104,
         10.6157
        ],
        "frequencies": [
         -581.2332,
         1745.7047,
         1746.2238,
         3876.0466,
         4047.4261,
         4048.3929
        ],
        "intensities": [
         764.5757,
         164.3988,
         164.3846,
         0.0083,
         732.9369,
         733.2986
        ],
        "modes": [
         0,
         1,
         2,
         3,
         4,
         5
        ],
        "reduced masses": [
         1.1842,
         1.0787,
         1.0787,
         1.0078,
         1.0993,
         1.0993
        ],
        "vibration symmetry": [
         "B1",
         "A1",
         "B2",
         "A1",
         "A1",
         "B2"
        ]
       }
      },
      "text/plain": [
       "<jupyterlab_cjson.CJSON object>"
      ]
     },
     "metadata": {
      "application/vnd.oc.cjson+json": {
       "expanded": false,
       "isoValue": null,
       "mo": null,
       "mode": -1,
       "moleculeRenderer": "moljs",
       "play": false,
       "root": "root",
       "showIsoSurface": false,
       "showMenu": true,
       "showSpectrum": false,
       "showVolume": false
      }
     },
     "output_type": "display_data"
    }
   ],
   "source": [
    "# Show the molecule\n",
    "planar_mol.structure.show()"
   ]
  },
  {
   "cell_type": "code",
   "execution_count": 24,
   "metadata": {},
   "outputs": [
    {
     "name": "stdout",
     "output_type": "stream",
     "text": [
      "Table 4. IR Vibrational Modes of Planar H₃O⁺\n"
     ]
    },
    {
     "data": {
      "text/markdown": [
       "### Normal Modes\n",
       "| # | Frequency | Intensity |\n",
       "|------|-------|-------|\n",
       "| 0 | -581.23 | 764.58 |\n",
       "| 1 | 1745.70 | 164.40 |\n",
       "| 2 | 1746.22 | 164.38 |\n",
       "| 3 | 3876.05 | 0.01 |\n",
       "| 4 | 4047.43 | 732.94 |\n",
       "| 5 | 4048.39 | 733.30 |"
      ],
      "text/plain": [
       "<IPython.core.display.Markdown object>"
      ]
     },
     "execution_count": 24,
     "metadata": {},
     "output_type": "execute_result"
    }
   ],
   "source": [
    "# Print out a table of information about the IR vibrational modes\n",
    "print(\"Table 4. IR Vibrational Modes of Planar H₃O⁺\")\n",
    "planar_mol.vibrations.table()"
   ]
  },
  {
   "cell_type": "code",
   "execution_count": 25,
   "metadata": {},
   "outputs": [
    {
     "data": {
      "application/vnd.oc.cjson+json": {
       "atoms": {
        "coords": {
         "3d": [
          0,
          0,
          -3.3e-05,
          0,
          0.829728,
          -0.478894,
          0,
          -0.829728,
          -0.478894,
          0,
          0,
          0.958055
         ]
        },
        "core electrons": [
         0,
         0,
         0,
         0
        ],
        "elements": {
         "atom count": 4,
         "heavy atom count": 1,
         "number": [
          8,
          1,
          1,
          1
         ]
        }
       },
       "bonds": {
        "connections": {
         "index": [
          0,
          1,
          0,
          2,
          0,
          3
         ]
        },
        "order": [
         1,
         1,
         1
        ]
       },
       "chemical json": 0,
       "optimization": {
        "done": true,
        "geometric targets": [
         0.00045,
         0.0003,
         0.0018,
         0.0012
        ],
        "geometric values": [
         [
          0.079583,
          0.051907,
          0.171582,
          0.113389
         ],
         [
          0.011853,
          0.007709,
          0.021176,
          0.01421
         ],
         [
          0.000214,
          0.000124,
          0.000306,
          0.00022
         ],
         [
          0.000214,
          0.000124,
          0.000374,
          0.000233
         ]
        ],
        "scf": {
         "scf energies": [
          -2075.7647649121927,
          -2076.4604533375227,
          -2076.4708636977834,
          -2076.4708636977834
         ],
         "targets": [
          [
           1e-08,
           1e-06,
           1e-06
          ],
          [
           1e-08,
           1e-06,
           1e-06
          ],
          [
           1e-08,
           1e-06,
           1e-06
          ],
          [
           1e-08,
           1e-06,
           1e-06
          ]
         ]
        },
        "status": [
         1,
         0,
         4,
         5
        ]
       },
       "properties": {
        "charge": 1,
        "energies": {
         "zero-point correction": 0.035229
        },
        "energy": {
         "alpha": {
          "gap": 22.522591292034498,
          "homo": -25.42631819072
         },
         "beta": {
          "gap": 22.522591292034498,
          "homo": -25.42631819072
         },
         "free energy": -76.292062,
         "total": -2076.4708636977834
        },
        "enthalpy": -76.269891,
        "entropy": 7.436189837330258e-05,
        "multiplicity": 1,
        "number of atoms": 4,
        "orbitals": {
         "MO number": 30,
         "basis number": 30,
         "energies": [
          [
           -571.5177269527945,
           -48.9807652038505,
           -31.423979569590497,
           -31.421258431085498,
           -25.42631819072,
           -2.9037268986855,
           0.256331247171,
           0.257419702573,
           18.103734473765,
           18.1089046369245,
           18.144007323639002,
           20.8915408721375,
           24.422218082375,
           24.423034423926502,
           29.594558152679,
           37.3854498063445,
           37.3870824894475,
           53.731056692029,
           58.146103916391496,
           58.898226599173505,
           58.900131396127,
           64.32526523354551,
           72.995084624326,
           73.0046086090935,
           79.0956050386855,
           79.10186365724701,
           91.1834465055965,
           96.33918763102,
           96.343541452628,
           112.48560717813851
          ]
         ],
         "homos": [
          4
         ],
         "molecular orbital symmetry": [
          [
           "A1",
           "A1",
           "A1",
           "B2",
           "B1",
           "A1",
           "B2",
           "A1",
           "A1",
           "A1",
           "B2",
           "B1",
           "A1",
           "B2",
           "A1",
           "A2",
           "B1",
           "B2",
           "A1",
           "B2",
           "A1",
           "B1",
           "A2",
           "B1",
           "A1",
           "B2",
           "A1",
           "B2",
           "A1",
           "A1"
          ]
         ]
        },
        "partial charges": {
         "apt": [
          -0.608807,
          0.536274,
          0.536274,
          0.536259
         ],
         "apt_sum": [
          1,
          0,
          0,
          0
         ],
         "mulliken": [
          -0.453675,
          0.484549,
          0.484549,
          0.484577
         ],
         "mulliken_sum": [
          1,
          0,
          0,
          0
         ]
        },
        "pressure": 1,
        "temperature": 298.15,
        "total dipole moment": 0.0007
       },
       "vibrations": {
        "eigenVectors": [
         [
          -0.11,
          0,
          0,
          0.57,
          0,
          0,
          0.57,
          0,
          0,
          0.57,
          0,
          0
         ],
         [
          0,
          0,
          -0.07,
          0,
          0.39,
          0.59,
          0,
          -0.39,
          0.59,
          0,
          0,
          -0.08
         ],
         [
          0,
          -0.07,
          0,
          0,
          0.14,
          0.39,
          0,
          0.14,
          -0.39,
          0,
          0.81,
          0
         ],
         [
          0,
          0,
          0,
          0,
          0.5,
          -0.29,
          0,
          -0.5,
          -0.29,
          0,
          0,
          0.58
         ],
         [
          0,
          0,
          -0.08,
          0,
          -0.35,
          0.21,
          0,
          0.35,
          0.21,
          0,
          0,
          0.81
         ],
         [
          0,
          -0.08,
          0,
          0,
          0.61,
          -0.35,
          0,
          0.61,
          0.35,
          0,
          0.01,
          0
         ]
        ],
        "force constants": [
         0.2357,
         1.9369,
         1.938,
         8.921,
         10.6104,
         10.6157
        ],
        "frequencies": [
         -581.2332,
         1745.7047,
         1746.2238,
         3876.0466,
         4047.4261,
         4048.3929
        ],
        "intensities": [
         764.5757,
         164.3988,
         164.3846,
         0.0083,
         732.9369,
         733.2986
        ],
        "modes": [
         0,
         1,
         2,
         3,
         4,
         5
        ],
        "reduced masses": [
         1.1842,
         1.0787,
         1.0787,
         1.0078,
         1.0993,
         1.0993
        ],
        "vibration symmetry": [
         "B1",
         "A1",
         "B2",
         "A1",
         "A1",
         "B2"
        ]
       }
      },
      "text/plain": [
       "<jupyterlab_cjson.CJSON object>"
      ]
     },
     "metadata": {
      "application/vnd.oc.cjson+json": {
       "expanded": false,
       "isoValue": null,
       "mo": null,
       "mode": -1,
       "moleculeRenderer": "moljs",
       "play": true,
       "root": "root",
       "showIsoSurface": false,
       "showMenu": true,
       "showSpectrum": true,
       "showVolume": false
      }
     },
     "output_type": "display_data"
    }
   ],
   "source": [
    "## Show an interactive display of the vibrational modes. \n",
    "# Select modes via the spectrum on the right (or with the drop-down menu in \n",
    "# the upper right corner. See the motion on the left side. For degenerate (or \n",
    "# nearly degenerate) modes, you'll need to select them with the drop-down menu.\n",
    "planar_mol.vibrations.show()"
   ]
  },
  {
   "cell_type": "markdown",
   "metadata": {},
   "source": [
    "### The same steps above are repeated below for the Pyramidal structure"
   ]
  },
  {
   "cell_type": "markdown",
   "metadata": {},
   "source": [
    "Using the `geom_pyramidal.xyz` file in the Pyramidal folder, the Gaussian calculation with `g16` was used and the new `input.log` file was imported using `cclib`, converted to a cJSON file and then imported with `oc.load()`, and the bonds were fixed. "
   ]
  },
  {
   "cell_type": "code",
   "execution_count": 26,
   "metadata": {
    "tags": []
   },
   "outputs": [
    {
     "name": "stdout",
     "output_type": "stream",
     "text": [
      "package           : Gaussian\n",
      "methods           : ['HF', 'HF', 'HF', 'HF', 'HF', 'HF', 'HF', 'HF', 'HF', 'HF']\n",
      "success           : True\n",
      "legacy_package_version: 16revisionB.01\n",
      "package_version   : 2016+B.01\n",
      "platform          : ES64L\n",
      "basis_set         : 6-31G(d,p)\n",
      "cpu_time          : [datetime.timedelta(seconds=12, microseconds=500000), datetime.timedelta(seconds=3, microseconds=300000)]\n",
      "wall_time         : [datetime.timedelta(seconds=6, microseconds=200000), datetime.timedelta(seconds=1, microseconds=600000)]\n"
     ]
    }
   ],
   "source": [
    "# Import and parse Gaussian data with cclib \n",
    "logfile1 = \"Problem_3/Pyramidal/input.log\"\n",
    "pyramidal_log = cclib.io.ccread(logfile1)\n",
    "\n",
    "# Display some information about our log file\n",
    "for key, value in pyramidal_log.metadata.items():\n",
    "    print(f'{key:18}: {value}')"
   ]
  },
  {
   "cell_type": "code",
   "execution_count": 27,
   "metadata": {},
   "outputs": [],
   "source": [
    "# Convert Gaussian data to cJSON output that OpenChemistry can understand\n",
    "cjsonfile1= 'pyramidal.cjson'\n",
    "cclib.io.ccwrite(pyramidal_log,outputtype='cjson',outputdest=cjsonfile1)\n",
    "\n",
    "with open(cjsonfile1) as f:\n",
    "    pyramidal_cjson = json.load(f)\n",
    "    \n",
    "pyramidal_mol = oc.load(pyramidal_cjson)"
   ]
  },
  {
   "cell_type": "code",
   "execution_count": 28,
   "metadata": {
    "tags": []
   },
   "outputs": [
    {
     "name": "stdout",
     "output_type": "stream",
     "text": [
      "The total energy of the molecule is -2076.5096311947887 eV.\n"
     ]
    },
    {
     "data": {
      "application/vnd.oc.cjson+json": {
       "atoms": {
        "coords": {
         "3d": [
          0,
          2.2e-05,
          -0.06104,
          0.443707,
          0.822762,
          0.162798,
          -0.934493,
          -0.027237,
          0.162773,
          0.490787,
          -0.795698,
          0.16275
         ]
        },
        "core electrons": [
         0,
         0,
         0,
         0
        ],
        "elements": {
         "atom count": 4,
         "heavy atom count": 1,
         "number": [
          8,
          1,
          1,
          1
         ]
        }
       },
       "chemical json": 0,
       "optimization": {
        "done": true,
        "geometric targets": [
         0.00045,
         0.0003,
         0.0018,
         0.0012
        ],
        "geometric values": [
         [
          0.118695,
          0.079072,
          0.106973,
          0.086656
         ],
         [
          0.103914,
          0.069443,
          0.227256,
          0.180226
         ],
         [
          0.023329,
          0.016217,
          0.172023,
          0.086238
         ],
         [
          0.009503,
          0.00468,
          0.10129,
          0.055541
         ],
         [
          0.008746,
          0.003865,
          0.038304,
          0.01895
         ],
         [
          0.009145,
          0.004086,
          0.015151,
          0.008723
         ],
         [
          0.003059,
          0.001289,
          0.004087,
          0.002695
         ],
         [
          0.000887,
          0.000499,
          0.001599,
          0.001245
         ],
         [
          7.5e-05,
          4.2e-05,
          0.000357,
          0.000233
         ],
         [
          7.5e-05,
          4.2e-05,
          0.000411,
          0.00021
         ]
        ],
        "scf": {
         "scf energies": [
          -2072.580034568144,
          -2074.2063624875404,
          -2076.2028417212146,
          -2076.463001732713,
          -2076.5043760232625,
          -2076.50669128219,
          -2076.5093377689814,
          -2076.509583991199,
          -2076.5096311947887,
          -2076.5096311947887
         ],
         "targets": [
          [
           1e-08,
           1e-06,
           1e-06
          ],
          [
           1e-08,
           1e-06,
           1e-06
          ],
          [
           1e-08,
           1e-06,
           1e-06
          ],
          [
           1e-08,
           1e-06,
           1e-06
          ],
          [
           1e-08,
           1e-06,
           1e-06
          ],
          [
           1e-08,
           1e-06,
           1e-06
          ],
          [
           1e-08,
           1e-06,
           1e-06
          ],
          [
           1e-08,
           1e-06,
           1e-06
          ],
          [
           1e-08,
           1e-06,
           1e-06
          ],
          [
           1e-08,
           1e-06,
           1e-06
          ]
         ]
        },
        "status": [
         1,
         0,
         0,
         0,
         0,
         0,
         0,
         0,
         4,
         5
        ]
       },
       "properties": {
        "charge": 1,
        "energies": {
         "zero-point correction": 0.036912
        },
        "energy": {
         "alpha": {
          "gap": 22.909265073595,
          "homo": -25.8494552282475
         },
         "beta": {
          "gap": 22.909265073595,
          "homo": -25.8494552282475
         },
         "free energy": -76.292498,
         "total": -2076.5096311947887
        },
        "enthalpy": -76.269549,
        "entropy": 7.697132315947343e-05,
        "multiplicity": 1,
        "number of atoms": 4,
        "orbitals": {
         "MO number": 30,
         "basis number": 30,
         "energies": [
          [
           -571.761813076693,
           -49.229205149357,
           -31.2683304471045,
           -31.2666977640015,
           -25.8494552282475,
           -2.9401901546525,
           0.11102245100400002,
           0.11211090640600001,
           17.6000517364895,
           17.602228647293497,
           19.196543697373,
           20.7500416698775,
           24.389564420315,
           24.3898365341655,
           29.872386394039502,
           36.554686220768005,
           36.555502562319504,
           54.0600423372835,
           54.396375056501505,
           60.279204390461,
           60.281925528966006,
           68.4668380381555,
           68.47146397361401,
           70.17925049935201,
           82.53730101980949,
           82.5400221583145,
           90.10342663296201,
           94.685823875382,
           94.6882729000365,
           110.14243481148299
          ]
         ],
         "homos": [
          4
         ],
         "molecular orbital symmetry": [
          [
           "A",
           "A",
           "A",
           "A",
           "A",
           "A",
           "A",
           "A",
           "A",
           "A",
           "A",
           "A",
           "A",
           "A",
           "A",
           "A",
           "A",
           "A",
           "A",
           "A",
           "A",
           "A",
           "A",
           "A",
           "A",
           "A",
           "A",
           "A",
           "A",
           "A"
          ]
         ]
        },
        "partial charges": {
         "apt": [
          -0.552954,
          0.51762,
          0.517676,
          0.517658
         ],
         "apt_sum": [
          1,
          0,
          0,
          0
         ],
         "mulliken": [
          -0.438804,
          0.479558,
          0.479626,
          0.47962
         ],
         "mulliken_sum": [
          1,
          0,
          0,
          0
         ]
        },
        "pressure": 1,
        "temperature": 298.15,
        "total dipole moment": 1.359300095637457
       }
      },
      "text/plain": [
       "<jupyterlab_cjson.CJSON object>"
      ]
     },
     "metadata": {
      "application/vnd.oc.cjson+json": {
       "expanded": false,
       "isoValue": null,
       "mo": null,
       "mode": -1,
       "moleculeRenderer": "moljs",
       "play": false,
       "root": "root",
       "showIsoSurface": false,
       "showMenu": true,
       "showSpectrum": false,
       "showVolume": false
      }
     },
     "output_type": "display_data"
    }
   ],
   "source": [
    "print(f\"The total energy of the molecule is {pyramidal_mol.properties.data()['energy']['total']} eV.\")\n",
    "pyramidal_mol.structure.show()"
   ]
  },
  {
   "cell_type": "code",
   "execution_count": 29,
   "metadata": {
    "tags": []
   },
   "outputs": [],
   "source": [
    "## For visualization purposes, create bonds between oxygen and all other atoms\n",
    "# atoms are numbered consecutively from 0 in the order they're listed in the \n",
    "# input file. We want bonds from the first atom (oxygen, number \"0\") to each\n",
    "# other atom. \n",
    "pyramidal_mol.structure.data()['bonds'] = {'connections': {'index': [0, 1,\n",
    "                                                                0, 2,\n",
    "                                                                0, 3]}}\n",
    "# Set all bonds to order 1 (single bonds)\n",
    "pyramidal_mol.structure.data()['bonds']['order'] = [1, 1, 1]"
   ]
  },
  {
   "cell_type": "raw",
   "metadata": {
    "tags": []
   },
   "source": [
    "## Need to edit the vibrational data that comes in from cclib\n",
    "# Need to rename 'displacement' to 'eigenVectors' so that OpenChemistry can \n",
    "# recognize it. Also need to reshape the array (group by vibrational mode).\n",
    "pyramidal_mol.vibrations.data()['displacement'] = \\\n",
    "    np.array(\n",
    "        pyramidal_mol.vibrations.data()['displacement']).reshape(\n",
    "            len(pyramidal_mol.vibrations.data()['frequencies'])\n",
    "            , -1\n",
    "        ).tolist()\n",
    "pyramidal_mol.vibrations.data()['eigenVectors'] = pyramidal_mol.vibrations.data().pop('displacement')\n",
    "\n",
    "# Change 'intensities' to contain _only_ IR data, throw out Raman information\n",
    "pyramidal_mol.vibrations.data()['intensities'] = pyramidal_mol.vibrations.data()['intensities'].pop('IR')\n",
    "\n",
    "# Add enumerated list of 'modes' for OC to reference\n",
    "pyramidal_mol.vibrations.data()['modes'] = list(range(0, (len(pyramidal_mol.vibrations.data()['intensities']))))"
   ]
  },
  {
   "cell_type": "code",
   "execution_count": 30,
   "metadata": {
    "tags": []
   },
   "outputs": [],
   "source": [
    "pyramidal_mol.vibrations.data()['displacement'] = \\\n",
    "    np.array(\n",
    "        pyramidal_mol.vibrations.data()['displacement']).reshape(\n",
    "            len(pyramidal_mol.vibrations.data()['frequencies'])\n",
    "            , -1\n",
    "        ).tolist()\n",
    "pyramidal_mol.vibrations.data()['eigenVectors'] = pyramidal_mol.vibrations.data().pop('displacement')\n",
    "\n",
    "# Change 'intensities' to contain _only_ IR data, throw out Raman information\n",
    "pyramidal_mol.vibrations.data()['intensities'] = pyramidal_mol.vibrations.data()['intensities'].pop('IR')\n",
    "\n",
    "# Add enumerated list of 'modes' for OC to reference\n",
    "pyramidal_mol.vibrations.data()['modes'] = list(range(0, (len(pyramidal_mol.vibrations.data()['intensities']))))"
   ]
  },
  {
   "cell_type": "code",
   "execution_count": 31,
   "metadata": {
    "tags": []
   },
   "outputs": [
    {
     "data": {
      "application/vnd.oc.cjson+json": {
       "atoms": {
        "coords": {
         "3d": [
          0,
          2.2e-05,
          -0.06104,
          0.443707,
          0.822762,
          0.162798,
          -0.934493,
          -0.027237,
          0.162773,
          0.490787,
          -0.795698,
          0.16275
         ]
        },
        "core electrons": [
         0,
         0,
         0,
         0
        ],
        "elements": {
         "atom count": 4,
         "heavy atom count": 1,
         "number": [
          8,
          1,
          1,
          1
         ]
        }
       },
       "bonds": {
        "connections": {
         "index": [
          0,
          1,
          0,
          2,
          0,
          3
         ]
        },
        "order": [
         1,
         1,
         1
        ]
       },
       "chemical json": 0,
       "optimization": {
        "done": true,
        "geometric targets": [
         0.00045,
         0.0003,
         0.0018,
         0.0012
        ],
        "geometric values": [
         [
          0.118695,
          0.079072,
          0.106973,
          0.086656
         ],
         [
          0.103914,
          0.069443,
          0.227256,
          0.180226
         ],
         [
          0.023329,
          0.016217,
          0.172023,
          0.086238
         ],
         [
          0.009503,
          0.00468,
          0.10129,
          0.055541
         ],
         [
          0.008746,
          0.003865,
          0.038304,
          0.01895
         ],
         [
          0.009145,
          0.004086,
          0.015151,
          0.008723
         ],
         [
          0.003059,
          0.001289,
          0.004087,
          0.002695
         ],
         [
          0.000887,
          0.000499,
          0.001599,
          0.001245
         ],
         [
          7.5e-05,
          4.2e-05,
          0.000357,
          0.000233
         ],
         [
          7.5e-05,
          4.2e-05,
          0.000411,
          0.00021
         ]
        ],
        "scf": {
         "scf energies": [
          -2072.580034568144,
          -2074.2063624875404,
          -2076.2028417212146,
          -2076.463001732713,
          -2076.5043760232625,
          -2076.50669128219,
          -2076.5093377689814,
          -2076.509583991199,
          -2076.5096311947887,
          -2076.5096311947887
         ],
         "targets": [
          [
           1e-08,
           1e-06,
           1e-06
          ],
          [
           1e-08,
           1e-06,
           1e-06
          ],
          [
           1e-08,
           1e-06,
           1e-06
          ],
          [
           1e-08,
           1e-06,
           1e-06
          ],
          [
           1e-08,
           1e-06,
           1e-06
          ],
          [
           1e-08,
           1e-06,
           1e-06
          ],
          [
           1e-08,
           1e-06,
           1e-06
          ],
          [
           1e-08,
           1e-06,
           1e-06
          ],
          [
           1e-08,
           1e-06,
           1e-06
          ],
          [
           1e-08,
           1e-06,
           1e-06
          ]
         ]
        },
        "status": [
         1,
         0,
         0,
         0,
         0,
         0,
         0,
         0,
         4,
         5
        ]
       },
       "properties": {
        "charge": 1,
        "energies": {
         "zero-point correction": 0.036912
        },
        "energy": {
         "alpha": {
          "gap": 22.909265073595,
          "homo": -25.8494552282475
         },
         "beta": {
          "gap": 22.909265073595,
          "homo": -25.8494552282475
         },
         "free energy": -76.292498,
         "total": -2076.5096311947887
        },
        "enthalpy": -76.269549,
        "entropy": 7.697132315947343e-05,
        "multiplicity": 1,
        "number of atoms": 4,
        "orbitals": {
         "MO number": 30,
         "basis number": 30,
         "energies": [
          [
           -571.761813076693,
           -49.229205149357,
           -31.2683304471045,
           -31.2666977640015,
           -25.8494552282475,
           -2.9401901546525,
           0.11102245100400002,
           0.11211090640600001,
           17.6000517364895,
           17.602228647293497,
           19.196543697373,
           20.7500416698775,
           24.389564420315,
           24.3898365341655,
           29.872386394039502,
           36.554686220768005,
           36.555502562319504,
           54.0600423372835,
           54.396375056501505,
           60.279204390461,
           60.281925528966006,
           68.4668380381555,
           68.47146397361401,
           70.17925049935201,
           82.53730101980949,
           82.5400221583145,
           90.10342663296201,
           94.685823875382,
           94.6882729000365,
           110.14243481148299
          ]
         ],
         "homos": [
          4
         ],
         "molecular orbital symmetry": [
          [
           "A",
           "A",
           "A",
           "A",
           "A",
           "A",
           "A",
           "A",
           "A",
           "A",
           "A",
           "A",
           "A",
           "A",
           "A",
           "A",
           "A",
           "A",
           "A",
           "A",
           "A",
           "A",
           "A",
           "A",
           "A",
           "A",
           "A",
           "A",
           "A",
           "A"
          ]
         ]
        },
        "partial charges": {
         "apt": [
          -0.552954,
          0.51762,
          0.517676,
          0.517658
         ],
         "apt_sum": [
          1,
          0,
          0,
          0
         ],
         "mulliken": [
          -0.438804,
          0.479558,
          0.479626,
          0.47962
         ],
         "mulliken_sum": [
          1,
          0,
          0,
          0
         ]
        },
        "pressure": 1,
        "temperature": 298.15,
        "total dipole moment": 1.359300095637457
       },
       "vibrations": {
        "eigenVectors": [
         [
          0,
          0,
          -0.11,
          -0.07,
          -0.12,
          0.56,
          0.14,
          0,
          0.56,
          -0.07,
          0.12,
          0.56
         ],
         [
          -0.05,
          0.04,
          0,
          0.69,
          -0.34,
          -0.04,
          -0.07,
          -0.54,
          -0.12,
          0.14,
          0.21,
          0.16
         ],
         [
          -0.04,
          -0.05,
          0,
          0.1,
          -0.18,
          0.16,
          -0.09,
          0.58,
          -0.11,
          0.66,
          0.37,
          -0.05
         ],
         [
          0,
          0,
          0.02,
          -0.27,
          -0.49,
          -0.12,
          0.57,
          0.02,
          -0.12,
          -0.3,
          0.48,
          -0.12
         ],
         [
          -0.07,
          0.04,
          0,
          -0.01,
          -0.03,
          -0.01,
          0.67,
          0.02,
          -0.16,
          0.37,
          -0.59,
          0.17
         ],
         [
          -0.04,
          -0.07,
          0,
          0.38,
          0.7,
          0.19,
          0.42,
          0.02,
          -0.1,
          -0.19,
          0.32,
          -0.09
         ]
        ],
        "force constants": [
         0.4208,
         2.0154,
         2.016,
         8.9035,
         10.2712,
         10.2774
        ],
        "frequencies": [
         780.0252,
         1788.347,
         1788.6176,
         3857.6288,
         3993.2437,
         3994.4358
        ],
        "intensities": [
         629.2968,
         141.206,
         141.2322,
         45.8829,
         630.633,
         630.6011
        ],
        "modes": [
         0,
         1,
         2,
         3,
         4,
         5
        ],
        "reduced masses": [
         1.1738,
         1.0696,
         1.0696,
         1.0155,
         1.0932,
         1.0933
        ],
        "vibration symmetry": [
         "A",
         "A",
         "A",
         "A",
         "A",
         "A"
        ]
       }
      },
      "text/plain": [
       "<jupyterlab_cjson.CJSON object>"
      ]
     },
     "metadata": {
      "application/vnd.oc.cjson+json": {
       "expanded": false,
       "isoValue": null,
       "mo": null,
       "mode": -1,
       "moleculeRenderer": "moljs",
       "play": false,
       "root": "root",
       "showIsoSurface": false,
       "showMenu": true,
       "showSpectrum": false,
       "showVolume": false
      }
     },
     "output_type": "display_data"
    }
   ],
   "source": [
    "# Show the molecule\n",
    "pyramidal_mol.structure.show()"
   ]
  },
  {
   "cell_type": "code",
   "execution_count": 32,
   "metadata": {
    "tags": []
   },
   "outputs": [
    {
     "name": "stdout",
     "output_type": "stream",
     "text": [
      "Table 5. IR Vibrational Modes of Pyramidal H₃O⁺\n"
     ]
    },
    {
     "data": {
      "text/markdown": [
       "### Normal Modes\n",
       "| # | Frequency | Intensity |\n",
       "|------|-------|-------|\n",
       "| 0 | 780.03 | 629.30 |\n",
       "| 1 | 1788.35 | 141.21 |\n",
       "| 2 | 1788.62 | 141.23 |\n",
       "| 3 | 3857.63 | 45.88 |\n",
       "| 4 | 3993.24 | 630.63 |\n",
       "| 5 | 3994.44 | 630.60 |"
      ],
      "text/plain": [
       "<IPython.core.display.Markdown object>"
      ]
     },
     "execution_count": 32,
     "metadata": {},
     "output_type": "execute_result"
    }
   ],
   "source": [
    "# Print out a table of information about the IR vibrational modes\n",
    "print(\"Table 5. IR Vibrational Modes of Pyramidal H₃O⁺\")\n",
    "pyramidal_mol.vibrations.table()"
   ]
  },
  {
   "cell_type": "code",
   "execution_count": 33,
   "metadata": {
    "tags": []
   },
   "outputs": [
    {
     "data": {
      "application/vnd.oc.cjson+json": {
       "atoms": {
        "coords": {
         "3d": [
          0,
          2.2e-05,
          -0.06104,
          0.443707,
          0.822762,
          0.162798,
          -0.934493,
          -0.027237,
          0.162773,
          0.490787,
          -0.795698,
          0.16275
         ]
        },
        "core electrons": [
         0,
         0,
         0,
         0
        ],
        "elements": {
         "atom count": 4,
         "heavy atom count": 1,
         "number": [
          8,
          1,
          1,
          1
         ]
        }
       },
       "bonds": {
        "connections": {
         "index": [
          0,
          1,
          0,
          2,
          0,
          3
         ]
        },
        "order": [
         1,
         1,
         1
        ]
       },
       "chemical json": 0,
       "optimization": {
        "done": true,
        "geometric targets": [
         0.00045,
         0.0003,
         0.0018,
         0.0012
        ],
        "geometric values": [
         [
          0.118695,
          0.079072,
          0.106973,
          0.086656
         ],
         [
          0.103914,
          0.069443,
          0.227256,
          0.180226
         ],
         [
          0.023329,
          0.016217,
          0.172023,
          0.086238
         ],
         [
          0.009503,
          0.00468,
          0.10129,
          0.055541
         ],
         [
          0.008746,
          0.003865,
          0.038304,
          0.01895
         ],
         [
          0.009145,
          0.004086,
          0.015151,
          0.008723
         ],
         [
          0.003059,
          0.001289,
          0.004087,
          0.002695
         ],
         [
          0.000887,
          0.000499,
          0.001599,
          0.001245
         ],
         [
          7.5e-05,
          4.2e-05,
          0.000357,
          0.000233
         ],
         [
          7.5e-05,
          4.2e-05,
          0.000411,
          0.00021
         ]
        ],
        "scf": {
         "scf energies": [
          -2072.580034568144,
          -2074.2063624875404,
          -2076.2028417212146,
          -2076.463001732713,
          -2076.5043760232625,
          -2076.50669128219,
          -2076.5093377689814,
          -2076.509583991199,
          -2076.5096311947887,
          -2076.5096311947887
         ],
         "targets": [
          [
           1e-08,
           1e-06,
           1e-06
          ],
          [
           1e-08,
           1e-06,
           1e-06
          ],
          [
           1e-08,
           1e-06,
           1e-06
          ],
          [
           1e-08,
           1e-06,
           1e-06
          ],
          [
           1e-08,
           1e-06,
           1e-06
          ],
          [
           1e-08,
           1e-06,
           1e-06
          ],
          [
           1e-08,
           1e-06,
           1e-06
          ],
          [
           1e-08,
           1e-06,
           1e-06
          ],
          [
           1e-08,
           1e-06,
           1e-06
          ],
          [
           1e-08,
           1e-06,
           1e-06
          ]
         ]
        },
        "status": [
         1,
         0,
         0,
         0,
         0,
         0,
         0,
         0,
         4,
         5
        ]
       },
       "properties": {
        "charge": 1,
        "energies": {
         "zero-point correction": 0.036912
        },
        "energy": {
         "alpha": {
          "gap": 22.909265073595,
          "homo": -25.8494552282475
         },
         "beta": {
          "gap": 22.909265073595,
          "homo": -25.8494552282475
         },
         "free energy": -76.292498,
         "total": -2076.5096311947887
        },
        "enthalpy": -76.269549,
        "entropy": 7.697132315947343e-05,
        "multiplicity": 1,
        "number of atoms": 4,
        "orbitals": {
         "MO number": 30,
         "basis number": 30,
         "energies": [
          [
           -571.761813076693,
           -49.229205149357,
           -31.2683304471045,
           -31.2666977640015,
           -25.8494552282475,
           -2.9401901546525,
           0.11102245100400002,
           0.11211090640600001,
           17.6000517364895,
           17.602228647293497,
           19.196543697373,
           20.7500416698775,
           24.389564420315,
           24.3898365341655,
           29.872386394039502,
           36.554686220768005,
           36.555502562319504,
           54.0600423372835,
           54.396375056501505,
           60.279204390461,
           60.281925528966006,
           68.4668380381555,
           68.47146397361401,
           70.17925049935201,
           82.53730101980949,
           82.5400221583145,
           90.10342663296201,
           94.685823875382,
           94.6882729000365,
           110.14243481148299
          ]
         ],
         "homos": [
          4
         ],
         "molecular orbital symmetry": [
          [
           "A",
           "A",
           "A",
           "A",
           "A",
           "A",
           "A",
           "A",
           "A",
           "A",
           "A",
           "A",
           "A",
           "A",
           "A",
           "A",
           "A",
           "A",
           "A",
           "A",
           "A",
           "A",
           "A",
           "A",
           "A",
           "A",
           "A",
           "A",
           "A",
           "A"
          ]
         ]
        },
        "partial charges": {
         "apt": [
          -0.552954,
          0.51762,
          0.517676,
          0.517658
         ],
         "apt_sum": [
          1,
          0,
          0,
          0
         ],
         "mulliken": [
          -0.438804,
          0.479558,
          0.479626,
          0.47962
         ],
         "mulliken_sum": [
          1,
          0,
          0,
          0
         ]
        },
        "pressure": 1,
        "temperature": 298.15,
        "total dipole moment": 1.359300095637457
       },
       "vibrations": {
        "eigenVectors": [
         [
          0,
          0,
          -0.11,
          -0.07,
          -0.12,
          0.56,
          0.14,
          0,
          0.56,
          -0.07,
          0.12,
          0.56
         ],
         [
          -0.05,
          0.04,
          0,
          0.69,
          -0.34,
          -0.04,
          -0.07,
          -0.54,
          -0.12,
          0.14,
          0.21,
          0.16
         ],
         [
          -0.04,
          -0.05,
          0,
          0.1,
          -0.18,
          0.16,
          -0.09,
          0.58,
          -0.11,
          0.66,
          0.37,
          -0.05
         ],
         [
          0,
          0,
          0.02,
          -0.27,
          -0.49,
          -0.12,
          0.57,
          0.02,
          -0.12,
          -0.3,
          0.48,
          -0.12
         ],
         [
          -0.07,
          0.04,
          0,
          -0.01,
          -0.03,
          -0.01,
          0.67,
          0.02,
          -0.16,
          0.37,
          -0.59,
          0.17
         ],
         [
          -0.04,
          -0.07,
          0,
          0.38,
          0.7,
          0.19,
          0.42,
          0.02,
          -0.1,
          -0.19,
          0.32,
          -0.09
         ]
        ],
        "force constants": [
         0.4208,
         2.0154,
         2.016,
         8.9035,
         10.2712,
         10.2774
        ],
        "frequencies": [
         780.0252,
         1788.347,
         1788.6176,
         3857.6288,
         3993.2437,
         3994.4358
        ],
        "intensities": [
         629.2968,
         141.206,
         141.2322,
         45.8829,
         630.633,
         630.6011
        ],
        "modes": [
         0,
         1,
         2,
         3,
         4,
         5
        ],
        "reduced masses": [
         1.1738,
         1.0696,
         1.0696,
         1.0155,
         1.0932,
         1.0933
        ],
        "vibration symmetry": [
         "A",
         "A",
         "A",
         "A",
         "A",
         "A"
        ]
       }
      },
      "text/plain": [
       "<jupyterlab_cjson.CJSON object>"
      ]
     },
     "metadata": {
      "application/vnd.oc.cjson+json": {
       "expanded": false,
       "isoValue": null,
       "mo": null,
       "mode": -1,
       "moleculeRenderer": "moljs",
       "play": true,
       "root": "root",
       "showIsoSurface": false,
       "showMenu": true,
       "showSpectrum": true,
       "showVolume": false
      }
     },
     "output_type": "display_data"
    }
   ],
   "source": [
    "## Show an interactive display of the vibrational modes. \n",
    "# Select modes via the spectrum on the right (or with the drop-down menu in \n",
    "# the upper right corner. See the motion on the left side. For degenerate (or \n",
    "# nearly degenerate) modes, you'll need to select them with the drop-down menu.\n",
    "pyramidal_mol.vibrations.show()"
   ]
  },
  {
   "cell_type": "markdown",
   "metadata": {
    "tags": []
   },
   "source": [
    "### Potential-Energy Surface Scan"
   ]
  },
  {
   "cell_type": "markdown",
   "metadata": {},
   "source": [
    "To start, I measured the bond length of the O-H bond in the pyramidal structure by making a function to extract the atomic coordinates from the dictionary of information about a molecule (`atom_coords()`). Then the function`bond_length()` took two *xyz-*coordinates as input and output a distance. "
   ]
  },
  {
   "cell_type": "code",
   "execution_count": 34,
   "metadata": {},
   "outputs": [],
   "source": [
    "# Define bond_length() function\n",
    "from scipy.spatial import distance\n",
    "def bond_length(atom1,atom2):\n",
    "    '''Calculate distance between two objects in space'''\n",
    "    dist = distance.euclidean(atom1, atom2)\n",
    "    return dist\n",
    "\n",
    "\n",
    "# Define a function to generate coordinates for all atoms in a molecule\n",
    "def atom_coords(molecule): \n",
    "    '''Takes an openchemistry._molecule.Molecule and pulls atomic coordinates \n",
    "        out as a 3 x N array of xyz coordinates. '''\n",
    "    atom_info = molecule.structure.data()['atoms']\n",
    "    coord_list = atom_info['coords']['3d']\n",
    "    n_atoms = atom_info['elements']['atom count']\n",
    "    return np.array(coord_list).reshape(n_atoms,-1)\n",
    " \n",
    "    "
   ]
  },
  {
   "cell_type": "code",
   "execution_count": 35,
   "metadata": {
    "tags": []
   },
   "outputs": [
    {
     "name": "stdout",
     "output_type": "stream",
     "text": [
      "The length of the O-H bond is 0.9612 Angstrom\n"
     ]
    }
   ],
   "source": [
    "# Take the 3N length list of atomic coordinates and split it by the number of \n",
    "# atoms in our molecule\n",
    "atom_locs = atom_coords(pyramidal_mol)\n",
    "\n",
    "# Now, print out the result with a (more) reasonable number of significant \n",
    "# figures using the string formatting rule `:.4` to output four figures after \n",
    "# the decimal. \n",
    "print(f'The length of the O-H bond is {bond_length(atom_locs[0],atom_locs[1]):.4} Angstrom')"
   ]
  },
  {
   "cell_type": "markdown",
   "metadata": {},
   "source": [
    "Then the input file for the PES scan was edited. I copied the file `input_zmat.com` to `input.com`, then edited `input.com` to insert the O-H bond length at the bottom of the _z_-matrix. \n",
    "\n",
    "Then, I set the location and name of the `logfile` below and imported the data."
   ]
  },
  {
   "cell_type": "code",
   "execution_count": 36,
   "metadata": {},
   "outputs": [
    {
     "name": "stdout",
     "output_type": "stream",
     "text": [
      "package           : Gaussian\n",
      "methods           : ['HF', 'HF', 'HF', 'HF', 'HF', 'HF', 'HF', 'HF', 'HF', 'HF', 'HF', 'HF', 'HF', 'HF', 'HF', 'HF', 'HF', 'HF', 'HF', 'HF', 'HF', 'HF', 'HF', 'HF', 'HF', 'HF', 'HF', 'HF', 'HF', 'HF', 'HF', 'HF', 'HF', 'HF', 'HF', 'HF', 'HF', 'HF', 'HF', 'HF', 'HF', 'HF', 'HF', 'HF', 'HF', 'HF']\n",
      "success           : True\n",
      "legacy_package_version: 16revisionB.01\n",
      "package_version   : 2016+B.01\n",
      "platform          : ES64L\n",
      "basis_set         : 6-31G(d,p)\n",
      "cpu_time          : [datetime.timedelta(seconds=66, microseconds=700000)]\n",
      "wall_time         : [datetime.timedelta(seconds=16, microseconds=900000)]\n"
     ]
    }
   ],
   "source": [
    "#Import data from the PES scan. May need to keep in cclib format\n",
    "logfile2 = 'Problem_3/PES_scan/HFmethod.log'\n",
    "pes_log = cclib.io.ccread(logfile2)\n",
    "\n",
    "# Display some information about our log file\n",
    "for key, value in pes_log.metadata.items():\n",
    "    print(f'{key:18}: {value}')"
   ]
  },
  {
   "cell_type": "markdown",
   "metadata": {},
   "source": [
    "The next cell created a dataframe of H-O-X angles and calculated energies for viewing. "
   ]
  },
  {
   "cell_type": "code",
   "execution_count": 37,
   "metadata": {},
   "outputs": [
    {
     "name": "stdout",
     "output_type": "stream",
     "text": [
      "Table 6. Energies of H₃O⁺ from 135° to 90°\n"
     ]
    },
    {
     "data": {
      "text/html": [
       "<div>\n",
       "<style scoped>\n",
       "    .dataframe tbody tr th:only-of-type {\n",
       "        vertical-align: middle;\n",
       "    }\n",
       "\n",
       "    .dataframe tbody tr th {\n",
       "        vertical-align: top;\n",
       "    }\n",
       "\n",
       "    .dataframe thead th {\n",
       "        text-align: right;\n",
       "    }\n",
       "</style>\n",
       "<table border=\"1\" class=\"dataframe\">\n",
       "  <thead>\n",
       "    <tr style=\"text-align: right;\">\n",
       "      <th></th>\n",
       "      <th>Energy</th>\n",
       "    </tr>\n",
       "  </thead>\n",
       "  <tbody>\n",
       "    <tr>\n",
       "      <th>135</th>\n",
       "      <td>-2073.736933</td>\n",
       "    </tr>\n",
       "    <tr>\n",
       "      <th>134</th>\n",
       "      <td>-2073.972583</td>\n",
       "    </tr>\n",
       "    <tr>\n",
       "      <th>133</th>\n",
       "      <td>-2074.194084</td>\n",
       "    </tr>\n",
       "    <tr>\n",
       "      <th>132</th>\n",
       "      <td>-2074.401707</td>\n",
       "    </tr>\n",
       "    <tr>\n",
       "      <th>131</th>\n",
       "      <td>-2074.595996</td>\n",
       "    </tr>\n",
       "    <tr>\n",
       "      <th>...</th>\n",
       "      <td>...</td>\n",
       "    </tr>\n",
       "    <tr>\n",
       "      <th>94</th>\n",
       "      <td>-2076.476847</td>\n",
       "    </tr>\n",
       "    <tr>\n",
       "      <th>93</th>\n",
       "      <td>-2076.474126</td>\n",
       "    </tr>\n",
       "    <tr>\n",
       "      <th>92</th>\n",
       "      <td>-2076.471949</td>\n",
       "    </tr>\n",
       "    <tr>\n",
       "      <th>91</th>\n",
       "      <td>-2076.470589</td>\n",
       "    </tr>\n",
       "    <tr>\n",
       "      <th>90</th>\n",
       "      <td>-2076.470044</td>\n",
       "    </tr>\n",
       "  </tbody>\n",
       "</table>\n",
       "<p>46 rows × 1 columns</p>\n",
       "</div>"
      ],
      "text/plain": [
       "          Energy\n",
       "135 -2073.736933\n",
       "134 -2073.972583\n",
       "133 -2074.194084\n",
       "132 -2074.401707\n",
       "131 -2074.595996\n",
       "..           ...\n",
       "94  -2076.476847\n",
       "93  -2076.474126\n",
       "92  -2076.471949\n",
       "91  -2076.470589\n",
       "90  -2076.470044\n",
       "\n",
       "[46 rows x 1 columns]"
      ]
     },
     "execution_count": 37,
     "metadata": {},
     "output_type": "execute_result"
    }
   ],
   "source": [
    "# Create a list of angles from first (inclusive) to last (exclusive) by step\n",
    "scanangles = np.arange(135,89,-1)\n",
    "\n",
    "# Create a dataframe containing our data. \n",
    "pes_scan = pd.DataFrame(data=pes_log.scanenergies, # data in the collection\n",
    "                        columns=['Energy'], # column labels, as a list\n",
    "                        index=scanangles) # How to index the data (angle list)\n",
    "\n",
    "print(\"Table 6. Energies of H₃O⁺ from 135° to 90°\")\n",
    "pes_scan"
   ]
  },
  {
   "cell_type": "code",
   "execution_count": 38,
   "metadata": {},
   "outputs": [
    {
     "name": "stdout",
     "output_type": "stream",
     "text": [
      "Figure 7. Energies from 135° to 90°\n"
     ]
    },
    {
     "data": {
      "image/png": "[encoded data removed]",
      "text/plain": [
       "<Figure size 432x288 with 1 Axes>"
      ]
     },
     "metadata": {},
     "output_type": "display_data"
    }
   ],
   "source": [
    "# Plot the dataframe created in the last cell (df.plot())\n",
    "pes_scan.plot()\n",
    "print(\"Figure 7. Energies from 135° to 90°\")"
   ]
  },
  {
   "cell_type": "markdown",
   "metadata": {},
   "source": [
    "In the next cell, I found the minimum value in the PES scan and calculated the difference in energy between the minimum and the local maximum (the energy of the structure at 90 degrees). "
   ]
  },
  {
   "cell_type": "code",
   "execution_count": 39,
   "metadata": {},
   "outputs": [
    {
     "name": "stdout",
     "output_type": "stream",
     "text": [
      "The minimum energy is Energy   -2076.509501\n",
      "dtype: float64 eV, which occurs at 104 degrees.\n",
      "The energy of the transition state (at 90 degrees) is -2076.4700443003935 eV.\n",
      "The optimized energy of the planar ion is -2076.4708636977834 eV.\n",
      "The barrier height is Energy    0.039457\n",
      "dtype: float64 eV.\n"
     ]
    }
   ],
   "source": [
    "min_energy = np.min(pes_scan)\n",
    "transition_energy = pes_scan.loc[90].item()\n",
    "barrier_energy = transition_energy - min_energy\n",
    "\n",
    "print(f\"The minimum energy is {min_energy} eV, which occurs at {pes_scan.idxmin().item()} degrees.\")\n",
    "print(f\"The energy of the transition state (at 90 degrees) is {transition_energy} eV.\")\n",
    "print(f\"The optimized energy of the planar ion is {planar_mol.properties.data()['energy']['total']} eV.\")\n",
    "print(f\"The barrier height is {barrier_energy} eV.\")"
   ]
  },
  {
   "cell_type": "markdown",
   "metadata": {},
   "source": [
    "### The above steps were repeated for MP2 calculations"
   ]
  },
  {
   "cell_type": "code",
   "execution_count": 40,
   "metadata": {
    "tags": []
   },
   "outputs": [
    {
     "name": "stdout",
     "output_type": "stream",
     "text": [
      "package           : Gaussian\n",
      "methods           : ['HF', 'MP2', 'HF', 'MP2', 'HF', 'MP2', 'HF', 'MP2', 'HF', 'MP2', 'HF', 'MP2', 'HF', 'MP2', 'HF', 'MP2', 'HF', 'MP2', 'HF', 'MP2', 'HF', 'MP2', 'HF', 'MP2', 'HF', 'MP2', 'HF', 'MP2', 'HF', 'MP2', 'HF', 'MP2', 'HF', 'MP2', 'HF', 'MP2', 'HF', 'MP2', 'HF', 'MP2', 'HF', 'MP2', 'HF', 'MP2', 'HF', 'MP2', 'HF', 'MP2', 'HF', 'MP2', 'HF', 'MP2', 'HF', 'MP2', 'HF', 'MP2', 'HF', 'MP2', 'HF', 'MP2', 'HF', 'MP2', 'HF', 'MP2', 'HF', 'MP2', 'HF', 'MP2', 'HF', 'MP2', 'HF', 'MP2', 'HF', 'MP2', 'HF', 'MP2', 'HF', 'MP2', 'HF', 'MP2', 'HF', 'MP2', 'HF', 'MP2', 'HF', 'MP2', 'HF', 'MP2', 'HF', 'MP2', 'HF', 'MP2']\n",
      "success           : True\n",
      "legacy_package_version: 16revisionB.01\n",
      "package_version   : 2016+B.01\n",
      "platform          : ES64L\n",
      "basis_set         : 6-31G(d,p)\n",
      "cpu_time          : [datetime.timedelta(seconds=92, microseconds=900000)]\n",
      "wall_time         : [datetime.timedelta(seconds=23, microseconds=500000)]\n"
     ]
    }
   ],
   "source": [
    "#Import data from the PES scan. May need to keep in cclib format\n",
    "MP2logfile = 'Problem_3/PES_scan/MP2method.log'\n",
    "MP2pes_log = cclib.io.ccread(MP2logfile)\n",
    "\n",
    "# Display some information about our log file\n",
    "for key, value in MP2pes_log.metadata.items():\n",
    "    print(f'{key:18}: {value}')"
   ]
  },
  {
   "cell_type": "code",
   "execution_count": 41,
   "metadata": {
    "tags": []
   },
   "outputs": [
    {
     "name": "stdout",
     "output_type": "stream",
     "text": [
      "Table 7. Energies of H₃O⁺ from 135° to 90°\n"
     ]
    },
    {
     "data": {
      "text/html": [
       "<div>\n",
       "<style scoped>\n",
       "    .dataframe tbody tr th:only-of-type {\n",
       "        vertical-align: middle;\n",
       "    }\n",
       "\n",
       "    .dataframe tbody tr th {\n",
       "        vertical-align: top;\n",
       "    }\n",
       "\n",
       "    .dataframe thead th {\n",
       "        text-align: right;\n",
       "    }\n",
       "</style>\n",
       "<table border=\"1\" class=\"dataframe\">\n",
       "  <thead>\n",
       "    <tr style=\"text-align: right;\">\n",
       "      <th></th>\n",
       "      <th>Energy</th>\n",
       "    </tr>\n",
       "  </thead>\n",
       "  <tbody>\n",
       "    <tr>\n",
       "      <th>135</th>\n",
       "      <td>-2079.363431</td>\n",
       "    </tr>\n",
       "    <tr>\n",
       "      <th>134</th>\n",
       "      <td>-2079.579489</td>\n",
       "    </tr>\n",
       "    <tr>\n",
       "      <th>133</th>\n",
       "      <td>-2079.781398</td>\n",
       "    </tr>\n",
       "    <tr>\n",
       "      <th>132</th>\n",
       "      <td>-2079.970517</td>\n",
       "    </tr>\n",
       "    <tr>\n",
       "      <th>131</th>\n",
       "      <td>-2080.147119</td>\n",
       "    </tr>\n",
       "    <tr>\n",
       "      <th>...</th>\n",
       "      <td>...</td>\n",
       "    </tr>\n",
       "    <tr>\n",
       "      <th>94</th>\n",
       "      <td>-2081.761298</td>\n",
       "    </tr>\n",
       "    <tr>\n",
       "      <th>93</th>\n",
       "      <td>-2081.757761</td>\n",
       "    </tr>\n",
       "    <tr>\n",
       "      <th>92</th>\n",
       "      <td>-2081.755040</td>\n",
       "    </tr>\n",
       "    <tr>\n",
       "      <th>91</th>\n",
       "      <td>-2081.753407</td>\n",
       "    </tr>\n",
       "    <tr>\n",
       "      <th>90</th>\n",
       "      <td>-2081.752863</td>\n",
       "    </tr>\n",
       "  </tbody>\n",
       "</table>\n",
       "<p>46 rows × 1 columns</p>\n",
       "</div>"
      ],
      "text/plain": [
       "          Energy\n",
       "135 -2079.363431\n",
       "134 -2079.579489\n",
       "133 -2079.781398\n",
       "132 -2079.970517\n",
       "131 -2080.147119\n",
       "..           ...\n",
       "94  -2081.761298\n",
       "93  -2081.757761\n",
       "92  -2081.755040\n",
       "91  -2081.753407\n",
       "90  -2081.752863\n",
       "\n",
       "[46 rows x 1 columns]"
      ]
     },
     "execution_count": 41,
     "metadata": {},
     "output_type": "execute_result"
    }
   ],
   "source": [
    "# Create a list of angles from first (inclusive) to last (exclusive) by step\n",
    "scan_angles = np.arange(135,89,-1)\n",
    "\n",
    "# Create a dataframe containing our data. \n",
    "MP2pes_scan = pd.DataFrame(data=MP2pes_log.scanenergies, # data in the collection\n",
    "                        columns=['Energy'], # column labels, as a list\n",
    "                        index=scan_angles) # How to index the data (angle list)\n",
    "\n",
    "print(\"Table 7. Energies of H₃O⁺ from 135° to 90°\")\n",
    "MP2pes_scan"
   ]
  },
  {
   "cell_type": "code",
   "execution_count": 42,
   "metadata": {
    "tags": []
   },
   "outputs": [
    {
     "name": "stdout",
     "output_type": "stream",
     "text": [
      "Figure 8. Energies from 135° to 90°\n"
     ]
    },
    {
     "data": {
      "image/png": "[encoded data removed]",
      "text/plain": [
       "<Figure size 432x288 with 1 Axes>"
      ]
     },
     "metadata": {},
     "output_type": "display_data"
    }
   ],
   "source": [
    "# Plot the dataframe created in the last cell (df.plot())\n",
    "MP2pes_scan.plot()\n",
    "print(\"Figure 8. Energies from 135° to 90°\")"
   ]
  },
  {
   "cell_type": "code",
   "execution_count": 43,
   "metadata": {
    "tags": []
   },
   "outputs": [
    {
     "name": "stdout",
     "output_type": "stream",
     "text": [
      "The minimum energy is Energy   -2081.813544\n",
      "dtype: float64 eV, which occurs at 105 degrees.\n",
      "The energy of the transition state (at 90 degrees) is -2081.752862594001 eV.\n",
      "The optimized energy of the planar ion is -2076.4708636977834 eV.\n",
      "The barrier height is Energy    0.060681\n",
      "dtype: float64 eV.\n"
     ]
    }
   ],
   "source": [
    "MP2min_energy = np.min(MP2pes_scan)\n",
    "MP2transition_energy = MP2pes_scan.loc[90].item()\n",
    "MP2barrier_energy = MP2transition_energy - MP2min_energy\n",
    "\n",
    "print(f\"The minimum energy is {MP2min_energy} eV, which occurs at {MP2pes_scan.idxmin().item()} degrees.\")\n",
    "print(f\"The energy of the transition state (at 90 degrees) is {MP2transition_energy} eV.\")\n",
    "print(f\"The optimized energy of the planar ion is {planar_mol.properties.data()['energy']['total']} eV.\")\n",
    "print(f\"The barrier height is {MP2barrier_energy} eV.\")"
   ]
  },
  {
   "cell_type": "code",
   "execution_count": 44,
   "metadata": {
    "tags": []
   },
   "outputs": [
    {
     "name": "stdout",
     "output_type": "stream",
     "text": [
      "Figure 8. Energies from 135° to 90°\n"
     ]
    },
    {
     "data": {
      "image/png": "[encoded data removed]",
      "text/plain": [
       "<Figure size 432x288 with 1 Axes>"
      ]
     },
     "metadata": {},
     "output_type": "display_data"
    }
   ],
   "source": [
    "MP2pes_scan.plot()\n",
    "#pes_scan.plot()\n",
    "\n",
    "print(\"Figure 8. Energies from 135° to 90°\")"
   ]
  },
  {
   "cell_type": "code",
   "execution_count": 45,
   "metadata": {
    "tags": []
   },
   "outputs": [
    {
     "data": {
      "image/png": "[encoded data removed]",
      "text/plain": [
       "<Figure size 432x288 with 1 Axes>"
      ]
     },
     "metadata": {},
     "output_type": "display_data"
    }
   ],
   "source": [
    "plt.plot(MP2pes_scan, label = \"MP2\")\n",
    "plt.plot(pes_scan, label = \"HF\")\n",
    "plt.xlabel(\"Angle\")\n",
    "plt.ylabel(\"Energy (eV\")\n",
    "plt.title(\"Figure 9. Energies using HF and MP2 Method\")\n",
    "plt.legend(loc=\"upper left\")\n",
    "plt.show()"
   ]
  },
  {
   "cell_type": "markdown",
   "metadata": {},
   "source": [
    "# Discussion"
   ]
  },
  {
   "cell_type": "markdown",
   "metadata": {},
   "source": [
    "The computed electronic energy of the H atom using Hartree-Fock theory in the STO-3G basis set was 0.454180 Ha, but the exact result is -0.50 Ha. This means the STO-3G basis set in the HF theory does not accurately predict the Hydrogen electronic energy. In the HF theory, the cc-pVQZ basis set converges the best to -0.5 Ha with a computed electronic energy of -0.496306 Ha. In Figure 2, most of the pVQZ converge close to -0.5 Ha, but each line representing a different basis function does not fully converge to -0.5 Ha. The SVWN method has the worst convergence compared to the other two methods as seen in Figure 2."
   ]
  },
  {
   "cell_type": "markdown",
   "metadata": {},
   "source": [
    "The bond length of the lowest energy from Table 3 is 0.93 Å with an energy of -100.33 Ha. The experimental bond length that corresponds to the lowest energy is 0.917 Å. The bond length in Table 3 approximates closely to the experimental value. The calculated atomization energy ∆𝐻_at of HF using HF theory is -294.67 kJ/mol. The calculated atomization energy $\\Delta H_{at}$ of HF using PBE1PBE theory is -131.18 kJ/mol. The experimental $\\Delta H_{at}$ is 135.2 kcal/mol which means the PBE1PBE method approximates close to the experimental results but the HF method is not a good approximation for the experimental results. The dipole equilibrium bond distance corresponds to the lowest energy. The lowest energy of HF has a dipole of 1.8565 debye using the PBE1PBE method, while the lowest energy of HF has a dipole of 1.9947 debye using the HF method. The dipole moment that corresponds to the experimental equilibrium distance is 1.82 debye. The PBE1PBE method closely approximates to the experimental equilibrium dipole moment, but the HF method does not. The dipole moments using the HF method are plotted in Figure 5 and it is predicted that at larger distances, the linear trend will continue. On the other hand, Figure 6 shows the dipole moments plotted from the PBE1PBE method. At larger distances, it is predicted that the linearity will not continue because at the upper part of the line, the trajectory of the line is starting to curve. "
   ]
  },
  {
   "cell_type": "markdown",
   "metadata": {},
   "source": [
    "Based on the first $H_3O^+$ model, the fully relaxed structure looks planar. This is not the correct structure of $H_3O^+$ because there should be bending of the bonds causing a tetrahedral model to form due to bond pair repulsion. Based on the interactive planar model, the negative frequency is -581.23 with an intensity of 764.58 with the normal mode number 0. On the other hand, the pyramidal molecule does not have any negative frequencies. The molecular motion of the vibration with normal mode number 0 is out-of-plane wagging. The type of vibration for normal mode number 1 is in-plane scissoring. The type of vibration for normal mode number 2 is in-plane bending. The type of vibration for normal mode number 3 is symmetric stretching vibrations. The type of vibrations for normal mode numbers 4 & 5 are asymmetric stretching vibrations. The vibrations for each natural mode number was the same for the pyramidal molecule. The total energy of the planar molecule was -2076.471 eV, while the total energy of the pyramidal molecule was -2076.510 eV. There was a very small difference of total energy for both types of molecules, but the pyramidal molecule had a lower total energy. In the Potential-Energy Surface Scan, the calculated length of the O-H bond was 0.9612 Angstrom. Using the HF method, the minimum energy was -76.310 Ha which occurs at 104 degrees. The energy of the transition state (at 90 degrees) was -76.309 Ha. The optimized energy of the planar ion is -76.309 Ha. The barrier height was 0.039457. Using the MP2 method, the minimum energy was -76.505 Ha, which occurs at 105 degrees. The energy of the transition state (at 90 degrees) is -76.503 eV. The optimized energy of the planar ion is -76.309 Ha. The barrier height is 0.060681. Based on the Potential-Energy Surface Scan, the minimum energy was lower for the MP2 method and the MP2 calculated barrier height was larger than the HF calculated barrier height. In Figure 9, all the energies of the HF method are larger than the energies of the MP2 method."
   ]
  }
 ],
 "metadata": {
  "kernelspec": {
   "display_name": "Python 3 (ipykernel)",
   "language": "python",
   "name": "python3"
  },
  "language_info": {
   "codemirror_mode": {
    "name": "ipython",
    "version": 3
   },
   "file_extension": ".py",
   "mimetype": "text/x-python",
   "name": "python",
   "nbconvert_exporter": "python",
   "pygments_lexer": "ipython3",
   "version": "3.10.13"
  }
 },
 "nbformat": 4,
 "nbformat_minor": 4
}
