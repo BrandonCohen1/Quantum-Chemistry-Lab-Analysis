{
 "cells": [
  {
   "cell_type": "markdown",
   "metadata": {
    "tags": []
   },
   "source": [
    "# Förster Resonance Energy Transfer (FRET)\n",
    "## Brandon Cohen\n",
    "### May 8, 2023\n"
   ]
  },
  {
   "cell_type": "markdown",
   "metadata": {
    "jp-MarkdownHeadingCollapsed": true,
    "tags": []
   },
   "source": [
    "## Purpose\n",
    "The purpose of this lab is to use various experimental and theoretical techniques to determine the free energy of protein unfolding, the Förster energy transfer with the use of fluorescence quenching, and the intramolecular distances for partially and fully folded proteins."
   ]
  },
  {
   "cell_type": "markdown",
   "metadata": {
    "tags": []
   },
   "source": [
    "## Introduction\n",
    "\n",
    "Proteins are fundamental to all living organisms as they are one of the most essential building blocks for sustaining life. Without the influence of proteins, no biochemical process will occur. While a lot of research has shed light on the structure and function of different types of proteins, there is still a lack of understanding in the study of proteins. It is well understood that the structure and function of proteins are kinetically and thermodynamically controlled, but there is not enough information to predict the structure and folding of proteins based on the amino acid sequence. In recent years, advances in biophysical techniques have paved way for studying protein folding and unfolding. In this paper, a multifaceted approach is used to study the structural changes and thermodynamics of the folding/unfolding of cytochrome c (cyt c) using a UV-Vis (absorption), spectrofluorometer (fluorescence), and Förster resonance energy transfer (FRET) techniques. Cytochrome c is an electron transfer protein that is perfect for studying the biophysical charcteristics of proteins due to the extensive research that has gone into cyt c. Urea, a known denaturant, was used to denature cytochome c generating an unfolding curve based on urea concentration. N-acetyl-tryptophanamide (NATA) is a tryptophan model compound that was measured using a UV-Vis and spectrofluorometer to measure the Förster distance of the trp–heme pair."
   ]
  },
  {
   "cell_type": "markdown",
   "metadata": {
    "jp-MarkdownHeadingCollapsed": true,
    "tags": []
   },
   "source": [
    "# Methods\n",
    "\n",
    "A stock solution of 20 mM pH 7.4 phosphate (KPi) buffer, 10.0 M urea dissolved in KPi, and 500 mM of cyt c dissolved in KPi were created. 10 samples consisting of 0M-10M urea solutions and ∼10 µm cyt c was created in 1.5 mL samples and then an emission spectrum was measured at 𝜆ₑₓ=290 nm with a spectrofluorometer and an absorption spectrum was measured with a UV-Vis instrument. Additional samples consisting of KPi, KPi/cyt c (no urea), and KPi/10M urea (no cyt c) were also measured. To create the unfolding curve, the 0M-10M urea samples (Spectrum A) were subtracted by the KPi (Spectrum B) to get a corrected spectrum which was then normalized by the maximum absorption value and ploted as a function of urea concentration (Part A). NATA was used to measure the Förster distance by calculating integrated areas (Part B). The Förster distance, R₀, was calculated using a theoretical function of energy transfer efficiency, E, vs. simulated radii distances. Then, the distance between Trp-59 and the heme cofactor was determined as a funciton of urea concentration (Part C)."
   ]
  },
  {
   "cell_type": "markdown",
   "metadata": {
    "tags": []
   },
   "source": [
    "# Setup\n",
    "\n",
    "## Library import\n",
    "We import all the required Python libraries"
   ]
  },
  {
   "cell_type": "code",
   "execution_count": 44,
   "metadata": {
    "tags": []
   },
   "outputs": [
    {
     "data": {
      "text/plain": [
       "<Figure size 432x288 with 0 Axes>"
      ]
     },
     "metadata": {},
     "output_type": "display_data"
    }
   ],
   "source": [
    "# File handling\n",
    "from pathlib import Path\n",
    "from shutil import unpack_archive\n",
    "import re\n",
    "\n",
    "# Data manipulation\n",
    "import numpy as np\n",
    "import scipy as sp\n",
    "import pandas as pd\n",
    "\n",
    "# Options for pandas\n",
    "pd.options.display.max_columns = 50\n",
    "pd.options.display.max_rows = 30\n",
    "\n",
    "# Visualizations\n",
    "import matplotlib.pyplot as plt\n",
    "%matplotlib inline\n",
    "import seaborn as sns\n",
    "sns.set_style(\"ticks\")\n",
    "sns.despine()\n",
    "\n",
    "# Used to print a statment in the middle\n",
    "from IPython.core.display import display, HTML\n",
    "def centered(content):\n",
    "    display(HTML(f\"<div style='text-align:center'>{content}</div>\"))"
   ]
  },
  {
   "cell_type": "markdown",
   "metadata": {
    "jp-MarkdownHeadingCollapsed": true,
    "tags": []
   },
   "source": [
    "# Parameter definition\n",
    "We set all relevant parameters for our notebook. By convention, parameters are uppercase, while all the \n",
    "other variables follow Python's guidelines.\n",
    "\n",
    "#### IMPORTANT DATAFRAMES for Fluorescence:\n",
    "new_raw_fluor\n",
    "<br>NATA_fluor\n",
    "<br>modified_fluor_spec\n",
    "<br>normalized_spectra\n",
    "\n",
    "#### IMPORTANT DATAFRAMES for Absorbance:\n",
    "abs_spectra\n",
    "<br>NATA_abs"
   ]
  },
  {
   "cell_type": "markdown",
   "metadata": {
    "tags": []
   },
   "source": [
    "# Data import\n",
    "We retrieve all the required data for the analysis."
   ]
  },
  {
   "cell_type": "markdown",
   "metadata": {
    "tags": []
   },
   "source": [
    "##### Reading in old spectra"
   ]
  },
  {
   "cell_type": "markdown",
   "metadata": {
    "tags": []
   },
   "source": [
    "#### Reading in Better Spectra and Modifying It"
   ]
  },
  {
   "cell_type": "code",
   "execution_count": 45,
   "metadata": {
    "tags": []
   },
   "outputs": [
    {
     "name": "stdout",
     "output_type": "stream",
     "text": [
      "F/UreaM8(FDS).TXT\n",
      "F/UreaM3(FDS).TXT\n",
      "F/UreaM4(FDS).TXT\n",
      "F/UreaM9(FDS).TXT\n",
      "F/UreaM6(FDS).TXT\n",
      "F/NATA(FDS).TXT\n",
      "F/UreaM1(FDS).TXT\n",
      "F/UreaM2(FDS).TXT\n",
      "F/UreaNoCyt(FDS).TXT\n",
      "F/UreaM10(FDS).TXT\n",
      "F/UreaM5(FDS).TXT\n",
      "F/UreaM0(FDS).TXT\n",
      "F/UreaM7(FDS).TXT\n",
      "F/kpiNOcyt2(FDS).TXT\n"
     ]
    }
   ],
   "source": [
    "filename = Path(\"fret_fluor\" + \".zip\") # fill in the name of the file without the ZIP extension\n",
    "dest_folder = Path(\"F\") # fill in a name for a subfolder in which to place the text files\n",
    "unpack_archive(filename, dest_folder)\n",
    "\n",
    "all_files = list(dest_folder.glob(\"*.TXT\"))\n",
    "\n",
    "li = [] # Create an empty list to hold the contents of our assorted files\n",
    "# Import each file in order\n",
    "# Skip first 31 rows, as data doesn't start until line 32\n",
    "# Set first (0-th) column (nm) as index\n",
    "# Default file from fluorometer uses tabs (\\t) for separators\n",
    "for file in all_files:\n",
    "    df1 = pd.read_csv(file, skiprows=31, index_col=0, sep='\\t') \n",
    "    li.append(df1)\n",
    "\n",
    "cols = []\n",
    "new_raw_fluor = pd.concat(li, axis=1) # Use `axis=1` to turn rows of list into columns of dataframe\n",
    "for file in all_files:\n",
    "    print(file) # List filenames so we can figure out our column naming in the next step. \n",
    "    cols.append(str(file).split('/')[-1].split('(')[0])\n",
    "    \n",
    "new_raw_fluor.columns = cols\n",
    "new_raw_fluor = new_raw_fluor[['kpiNOcyt2', 'UreaM0', 'UreaM1', \n",
    "        'UreaM2', 'UreaM3', 'UreaM4', 'UreaM5', \n",
    "        'UreaM6', 'UreaM7', 'UreaM8', 'UreaM9', \n",
    "        'UreaM10','UreaNoCyt', 'NATA']]\n",
    "\n",
    "# Dropped the fluoresence data because it is not good\n",
    "new_raw_fluor = new_raw_fluor.drop('NATA', axis=1)"
   ]
  },
  {
   "cell_type": "code",
   "execution_count": 46,
   "metadata": {
    "tags": []
   },
   "outputs": [],
   "source": [
    "NATA_fluor = pd.read_csv('nata_fluor.txt', sep='\\t', skiprows= 27)\n",
    "NATA_fluor.columns = ['Wavelength (nm)', 'Intensity']\n",
    "NATA_fluor.index = NATA_fluor.pop('Wavelength (nm)')"
   ]
  },
  {
   "cell_type": "markdown",
   "metadata": {
    "tags": []
   },
   "source": [
    "<h3 align=\"center\"> Plot the Good Data: Unmodified and Modified Fluorescence Spectrum </h3> "
   ]
  },
  {
   "cell_type": "code",
   "execution_count": 47,
   "metadata": {
    "tags": []
   },
   "outputs": [
    {
     "data": {
      "text/html": [
       "<div style='text-align:center'>Table 1. Unmodified Fluoresence Data</div>"
      ],
      "text/plain": [
       "<IPython.core.display.HTML object>"
      ]
     },
     "metadata": {},
     "output_type": "display_data"
    },
    {
     "data": {
      "text/html": [
       "<div>\n",
       "<style scoped>\n",
       "    .dataframe tbody tr th:only-of-type {\n",
       "        vertical-align: middle;\n",
       "    }\n",
       "\n",
       "    .dataframe tbody tr th {\n",
       "        vertical-align: top;\n",
       "    }\n",
       "\n",
       "    .dataframe thead th {\n",
       "        text-align: right;\n",
       "    }\n",
       "</style>\n",
       "<table border=\"1\" class=\"dataframe\">\n",
       "  <thead>\n",
       "    <tr style=\"text-align: right;\">\n",
       "      <th></th>\n",
       "      <th>kpiNOcyt2</th>\n",
       "      <th>UreaM0</th>\n",
       "      <th>UreaM1</th>\n",
       "      <th>UreaM2</th>\n",
       "      <th>UreaM3</th>\n",
       "      <th>UreaM4</th>\n",
       "      <th>UreaM5</th>\n",
       "      <th>UreaM6</th>\n",
       "      <th>UreaM7</th>\n",
       "      <th>UreaM8</th>\n",
       "      <th>UreaM9</th>\n",
       "      <th>UreaM10</th>\n",
       "      <th>UreaNoCyt</th>\n",
       "    </tr>\n",
       "    <tr>\n",
       "      <th>nm</th>\n",
       "      <th></th>\n",
       "      <th></th>\n",
       "      <th></th>\n",
       "      <th></th>\n",
       "      <th></th>\n",
       "      <th></th>\n",
       "      <th></th>\n",
       "      <th></th>\n",
       "      <th></th>\n",
       "      <th></th>\n",
       "      <th></th>\n",
       "      <th></th>\n",
       "      <th></th>\n",
       "    </tr>\n",
       "  </thead>\n",
       "  <tbody>\n",
       "    <tr>\n",
       "      <th>300.0</th>\n",
       "      <td>5.292</td>\n",
       "      <td>9.937</td>\n",
       "      <td>9.309</td>\n",
       "      <td>7.937</td>\n",
       "      <td>11.320</td>\n",
       "      <td>17.990</td>\n",
       "      <td>11.340</td>\n",
       "      <td>14.530</td>\n",
       "      <td>11.630</td>\n",
       "      <td>20.25</td>\n",
       "      <td>19.11</td>\n",
       "      <td>25.42</td>\n",
       "      <td>10.100</td>\n",
       "    </tr>\n",
       "    <tr>\n",
       "      <th>300.5</th>\n",
       "      <td>4.479</td>\n",
       "      <td>9.052</td>\n",
       "      <td>8.524</td>\n",
       "      <td>7.119</td>\n",
       "      <td>10.260</td>\n",
       "      <td>16.050</td>\n",
       "      <td>10.180</td>\n",
       "      <td>12.740</td>\n",
       "      <td>10.370</td>\n",
       "      <td>18.29</td>\n",
       "      <td>18.09</td>\n",
       "      <td>24.63</td>\n",
       "      <td>9.190</td>\n",
       "    </tr>\n",
       "    <tr>\n",
       "      <th>301.0</th>\n",
       "      <td>3.311</td>\n",
       "      <td>7.939</td>\n",
       "      <td>7.551</td>\n",
       "      <td>5.983</td>\n",
       "      <td>8.657</td>\n",
       "      <td>13.260</td>\n",
       "      <td>8.659</td>\n",
       "      <td>10.350</td>\n",
       "      <td>8.634</td>\n",
       "      <td>15.41</td>\n",
       "      <td>16.56</td>\n",
       "      <td>23.55</td>\n",
       "      <td>7.943</td>\n",
       "    </tr>\n",
       "    <tr>\n",
       "      <th>301.5</th>\n",
       "      <td>2.386</td>\n",
       "      <td>7.102</td>\n",
       "      <td>6.792</td>\n",
       "      <td>5.124</td>\n",
       "      <td>7.316</td>\n",
       "      <td>10.980</td>\n",
       "      <td>7.486</td>\n",
       "      <td>8.427</td>\n",
       "      <td>7.374</td>\n",
       "      <td>13.17</td>\n",
       "      <td>15.45</td>\n",
       "      <td>22.93</td>\n",
       "      <td>7.002</td>\n",
       "    </tr>\n",
       "    <tr>\n",
       "      <th>302.0</th>\n",
       "      <td>1.764</td>\n",
       "      <td>6.641</td>\n",
       "      <td>6.251</td>\n",
       "      <td>4.619</td>\n",
       "      <td>6.473</td>\n",
       "      <td>9.591</td>\n",
       "      <td>6.771</td>\n",
       "      <td>7.204</td>\n",
       "      <td>6.576</td>\n",
       "      <td>11.88</td>\n",
       "      <td>14.74</td>\n",
       "      <td>22.70</td>\n",
       "      <td>6.356</td>\n",
       "    </tr>\n",
       "  </tbody>\n",
       "</table>\n",
       "</div>"
      ],
      "text/plain": [
       "       kpiNOcyt2  UreaM0  UreaM1  UreaM2  UreaM3  UreaM4  UreaM5  UreaM6  \\\n",
       "nm                                                                         \n",
       "300.0      5.292   9.937   9.309   7.937  11.320  17.990  11.340  14.530   \n",
       "300.5      4.479   9.052   8.524   7.119  10.260  16.050  10.180  12.740   \n",
       "301.0      3.311   7.939   7.551   5.983   8.657  13.260   8.659  10.350   \n",
       "301.5      2.386   7.102   6.792   5.124   7.316  10.980   7.486   8.427   \n",
       "302.0      1.764   6.641   6.251   4.619   6.473   9.591   6.771   7.204   \n",
       "\n",
       "       UreaM7  UreaM8  UreaM9  UreaM10  UreaNoCyt  \n",
       "nm                                                 \n",
       "300.0  11.630   20.25   19.11    25.42     10.100  \n",
       "300.5  10.370   18.29   18.09    24.63      9.190  \n",
       "301.0   8.634   15.41   16.56    23.55      7.943  \n",
       "301.5   7.374   13.17   15.45    22.93      7.002  \n",
       "302.0   6.576   11.88   14.74    22.70      6.356  "
      ]
     },
     "execution_count": 47,
     "metadata": {},
     "output_type": "execute_result"
    }
   ],
   "source": [
    "centered('Table 1. Unmodified Fluoresence Data')\n",
    "new_raw_fluor.head()"
   ]
  },
  {
   "cell_type": "code",
   "execution_count": 48,
   "metadata": {
    "tags": []
   },
   "outputs": [
    {
     "data": {
      "text/html": [
       "<div style='text-align:center'>Table 2. Modified Spectrum (Spectrum A - Spectrum B)</div>"
      ],
      "text/plain": [
       "<IPython.core.display.HTML object>"
      ]
     },
     "metadata": {},
     "output_type": "display_data"
    },
    {
     "data": {
      "text/html": [
       "<div>\n",
       "<style scoped>\n",
       "    .dataframe tbody tr th:only-of-type {\n",
       "        vertical-align: middle;\n",
       "    }\n",
       "\n",
       "    .dataframe tbody tr th {\n",
       "        vertical-align: top;\n",
       "    }\n",
       "\n",
       "    .dataframe thead th {\n",
       "        text-align: right;\n",
       "    }\n",
       "</style>\n",
       "<table border=\"1\" class=\"dataframe\">\n",
       "  <thead>\n",
       "    <tr style=\"text-align: right;\">\n",
       "      <th></th>\n",
       "      <th>kpiNOcyt2</th>\n",
       "      <th>UreaM0</th>\n",
       "      <th>UreaM1</th>\n",
       "      <th>UreaM2</th>\n",
       "      <th>UreaM3</th>\n",
       "      <th>UreaM4</th>\n",
       "      <th>UreaM5</th>\n",
       "      <th>UreaM6</th>\n",
       "      <th>UreaM7</th>\n",
       "      <th>UreaM8</th>\n",
       "      <th>UreaM9</th>\n",
       "      <th>UreaM10</th>\n",
       "      <th>UreaNoCyt</th>\n",
       "    </tr>\n",
       "    <tr>\n",
       "      <th>nm</th>\n",
       "      <th></th>\n",
       "      <th></th>\n",
       "      <th></th>\n",
       "      <th></th>\n",
       "      <th></th>\n",
       "      <th></th>\n",
       "      <th></th>\n",
       "      <th></th>\n",
       "      <th></th>\n",
       "      <th></th>\n",
       "      <th></th>\n",
       "      <th></th>\n",
       "      <th></th>\n",
       "    </tr>\n",
       "  </thead>\n",
       "  <tbody>\n",
       "    <tr>\n",
       "      <th>300.0</th>\n",
       "      <td>5.292</td>\n",
       "      <td>9.937</td>\n",
       "      <td>4.017</td>\n",
       "      <td>2.645</td>\n",
       "      <td>6.028</td>\n",
       "      <td>12.698</td>\n",
       "      <td>6.048</td>\n",
       "      <td>9.238</td>\n",
       "      <td>6.338</td>\n",
       "      <td>14.958</td>\n",
       "      <td>13.818</td>\n",
       "      <td>20.128</td>\n",
       "      <td>10.100</td>\n",
       "    </tr>\n",
       "    <tr>\n",
       "      <th>300.5</th>\n",
       "      <td>4.479</td>\n",
       "      <td>9.052</td>\n",
       "      <td>4.045</td>\n",
       "      <td>2.640</td>\n",
       "      <td>5.781</td>\n",
       "      <td>11.571</td>\n",
       "      <td>5.701</td>\n",
       "      <td>8.261</td>\n",
       "      <td>5.891</td>\n",
       "      <td>13.811</td>\n",
       "      <td>13.611</td>\n",
       "      <td>20.151</td>\n",
       "      <td>9.190</td>\n",
       "    </tr>\n",
       "    <tr>\n",
       "      <th>301.0</th>\n",
       "      <td>3.311</td>\n",
       "      <td>7.939</td>\n",
       "      <td>4.240</td>\n",
       "      <td>2.672</td>\n",
       "      <td>5.346</td>\n",
       "      <td>9.949</td>\n",
       "      <td>5.348</td>\n",
       "      <td>7.039</td>\n",
       "      <td>5.323</td>\n",
       "      <td>12.099</td>\n",
       "      <td>13.249</td>\n",
       "      <td>20.239</td>\n",
       "      <td>7.943</td>\n",
       "    </tr>\n",
       "    <tr>\n",
       "      <th>301.5</th>\n",
       "      <td>2.386</td>\n",
       "      <td>7.102</td>\n",
       "      <td>4.406</td>\n",
       "      <td>2.738</td>\n",
       "      <td>4.930</td>\n",
       "      <td>8.594</td>\n",
       "      <td>5.100</td>\n",
       "      <td>6.041</td>\n",
       "      <td>4.988</td>\n",
       "      <td>10.784</td>\n",
       "      <td>13.064</td>\n",
       "      <td>20.544</td>\n",
       "      <td>7.002</td>\n",
       "    </tr>\n",
       "    <tr>\n",
       "      <th>302.0</th>\n",
       "      <td>1.764</td>\n",
       "      <td>6.641</td>\n",
       "      <td>4.487</td>\n",
       "      <td>2.855</td>\n",
       "      <td>4.709</td>\n",
       "      <td>7.827</td>\n",
       "      <td>5.007</td>\n",
       "      <td>5.440</td>\n",
       "      <td>4.812</td>\n",
       "      <td>10.116</td>\n",
       "      <td>12.976</td>\n",
       "      <td>20.936</td>\n",
       "      <td>6.356</td>\n",
       "    </tr>\n",
       "  </tbody>\n",
       "</table>\n",
       "</div>"
      ],
      "text/plain": [
       "       kpiNOcyt2  UreaM0  UreaM1  UreaM2  UreaM3  UreaM4  UreaM5  UreaM6  \\\n",
       "nm                                                                         \n",
       "300.0      5.292   9.937   4.017   2.645   6.028  12.698   6.048   9.238   \n",
       "300.5      4.479   9.052   4.045   2.640   5.781  11.571   5.701   8.261   \n",
       "301.0      3.311   7.939   4.240   2.672   5.346   9.949   5.348   7.039   \n",
       "301.5      2.386   7.102   4.406   2.738   4.930   8.594   5.100   6.041   \n",
       "302.0      1.764   6.641   4.487   2.855   4.709   7.827   5.007   5.440   \n",
       "\n",
       "       UreaM7  UreaM8  UreaM9  UreaM10  UreaNoCyt  \n",
       "nm                                                 \n",
       "300.0   6.338  14.958  13.818   20.128     10.100  \n",
       "300.5   5.891  13.811  13.611   20.151      9.190  \n",
       "301.0   5.323  12.099  13.249   20.239      7.943  \n",
       "301.5   4.988  10.784  13.064   20.544      7.002  \n",
       "302.0   4.812  10.116  12.976   20.936      6.356  "
      ]
     },
     "execution_count": 48,
     "metadata": {},
     "output_type": "execute_result"
    }
   ],
   "source": [
    "# Spectrum A (UreaM) - Spectrum B (KPi)\n",
    "modified_fluor_spec = new_raw_fluor.copy()\n",
    "for i in range (2, 12):\n",
    "    modified_fluor_spec.iloc[:, i] = modified_fluor_spec.iloc[:, i].sub(modified_fluor_spec.iloc[:, 0])\n",
    "\n",
    "centered(\"Table 2. Modified Spectrum (Spectrum A - Spectrum B)\")\n",
    "modified_fluor_spec.head()"
   ]
  },
  {
   "cell_type": "code",
   "execution_count": 49,
   "metadata": {
    "tags": []
   },
   "outputs": [
    {
     "name": "stdout",
     "output_type": "stream",
     "text": [
      "Table 3. Unmodified NATA Fluorescence\n"
     ]
    },
    {
     "data": {
      "text/html": [
       "<div>\n",
       "<style scoped>\n",
       "    .dataframe tbody tr th:only-of-type {\n",
       "        vertical-align: middle;\n",
       "    }\n",
       "\n",
       "    .dataframe tbody tr th {\n",
       "        vertical-align: top;\n",
       "    }\n",
       "\n",
       "    .dataframe thead th {\n",
       "        text-align: right;\n",
       "    }\n",
       "</style>\n",
       "<table border=\"1\" class=\"dataframe\">\n",
       "  <thead>\n",
       "    <tr style=\"text-align: right;\">\n",
       "      <th></th>\n",
       "      <th>Intensity</th>\n",
       "    </tr>\n",
       "    <tr>\n",
       "      <th>Wavelength (nm)</th>\n",
       "      <th></th>\n",
       "    </tr>\n",
       "  </thead>\n",
       "  <tbody>\n",
       "    <tr>\n",
       "      <th>305.0</th>\n",
       "      <td>0.813</td>\n",
       "    </tr>\n",
       "    <tr>\n",
       "      <th>305.5</th>\n",
       "      <td>0.834</td>\n",
       "    </tr>\n",
       "    <tr>\n",
       "      <th>306.0</th>\n",
       "      <td>0.909</td>\n",
       "    </tr>\n",
       "    <tr>\n",
       "      <th>306.5</th>\n",
       "      <td>1.012</td>\n",
       "    </tr>\n",
       "    <tr>\n",
       "      <th>307.0</th>\n",
       "      <td>1.074</td>\n",
       "    </tr>\n",
       "    <tr>\n",
       "      <th>...</th>\n",
       "      <td>...</td>\n",
       "    </tr>\n",
       "    <tr>\n",
       "      <th>498.0</th>\n",
       "      <td>0.131</td>\n",
       "    </tr>\n",
       "    <tr>\n",
       "      <th>498.5</th>\n",
       "      <td>0.120</td>\n",
       "    </tr>\n",
       "    <tr>\n",
       "      <th>499.0</th>\n",
       "      <td>0.121</td>\n",
       "    </tr>\n",
       "    <tr>\n",
       "      <th>499.5</th>\n",
       "      <td>0.130</td>\n",
       "    </tr>\n",
       "    <tr>\n",
       "      <th>500.0</th>\n",
       "      <td>0.110</td>\n",
       "    </tr>\n",
       "  </tbody>\n",
       "</table>\n",
       "<p>391 rows × 1 columns</p>\n",
       "</div>"
      ],
      "text/plain": [
       "                 Intensity\n",
       "Wavelength (nm)           \n",
       "305.0                0.813\n",
       "305.5                0.834\n",
       "306.0                0.909\n",
       "306.5                1.012\n",
       "307.0                1.074\n",
       "...                    ...\n",
       "498.0                0.131\n",
       "498.5                0.120\n",
       "499.0                0.121\n",
       "499.5                0.130\n",
       "500.0                0.110\n",
       "\n",
       "[391 rows x 1 columns]"
      ]
     },
     "metadata": {},
     "output_type": "display_data"
    }
   ],
   "source": [
    "print('Table 3. Unmodified NATA Fluorescence')\n",
    "display(NATA_fluor)"
   ]
  },
  {
   "cell_type": "code",
   "execution_count": 50,
   "metadata": {
    "tags": []
   },
   "outputs": [
    {
     "data": {
      "text/html": [
       "<div style='text-align:center'>Figure 1. Comparison of Unmodified Spectrum & Modified Spectrum</div>"
      ],
      "text/plain": [
       "<IPython.core.display.HTML object>"
      ]
     },
     "metadata": {},
     "output_type": "display_data"
    },
    {
     "data": {
      "image/png": "[encoded data removed]",
      "text/plain": [
       "<Figure size 720x288 with 2 Axes>"
      ]
     },
     "metadata": {},
     "output_type": "display_data"
    }
   ],
   "source": [
    "# Plot the unmodified and modified (Spectrum A - Spectrum B) spectra\n",
    "\n",
    "fig, (ax1,ax2) = plt.subplots(1,2, figsize=(10,4))  # 1 row, 2 columns\n",
    "new_raw_fluor.iloc[:, 2:12].plot(ax=ax1)\n",
    "modified_fluor_spec.iloc[:, 2:12].plot(ax=ax2)\n",
    "ax1.set_title('Unmodified Fluorescence Data')\n",
    "ax1.set_ylabel('Intensity')\n",
    "ax2.set_title('Moodified Fluorescence Data')\n",
    "ax2.set_ylabel('Intensity')\n",
    "plt.tight_layout()\n",
    "centered('Figure 1. Comparison of Unmodified Spectrum & Modified Spectrum')"
   ]
  },
  {
   "cell_type": "code",
   "execution_count": 51,
   "metadata": {
    "tags": []
   },
   "outputs": [
    {
     "data": {
      "image/png": "[encoded data removed]",
      "text/plain": [
       "<Figure size 432x288 with 1 Axes>"
      ]
     },
     "metadata": {},
     "output_type": "display_data"
    }
   ],
   "source": [
    "NATA_fluor.plot(legend=None)\n",
    "plt.ylabel('Intensity')\n",
    "plt.title('Figure 2. Unmodified NATA Fluorescence')\n",
    "plt.show()"
   ]
  },
  {
   "cell_type": "markdown",
   "metadata": {
    "tags": []
   },
   "source": [
    "<h3 align=\"center\"> Good Absorbance Data</h3> "
   ]
  },
  {
   "cell_type": "code",
   "execution_count": 52,
   "metadata": {
    "tags": []
   },
   "outputs": [],
   "source": [
    "#Read in csv file and convert each columns to floats\n",
    "abs_spectra = pd.read_csv('fret_abs.csv', index_col=0)\n",
    "temp = abs_spectra.pop('kpi-water2')\n",
    "abs_spectra.insert(1, 'kpi-water2', temp)\n",
    "abs_spectra = abs_spectra.drop('NATA1', axis=1)"
   ]
  },
  {
   "cell_type": "code",
   "execution_count": 53,
   "metadata": {
    "tags": []
   },
   "outputs": [
    {
     "data": {
      "text/html": [
       "<div style='text-align:center'>Table 4. Absorbance Data</div>"
      ],
      "text/plain": [
       "<IPython.core.display.HTML object>"
      ]
     },
     "metadata": {},
     "output_type": "display_data"
    },
    {
     "data": {
      "text/html": [
       "<div>\n",
       "<style scoped>\n",
       "    .dataframe tbody tr th:only-of-type {\n",
       "        vertical-align: middle;\n",
       "    }\n",
       "\n",
       "    .dataframe tbody tr th {\n",
       "        vertical-align: top;\n",
       "    }\n",
       "\n",
       "    .dataframe thead th {\n",
       "        text-align: right;\n",
       "    }\n",
       "</style>\n",
       "<table border=\"1\" class=\"dataframe\">\n",
       "  <thead>\n",
       "    <tr style=\"text-align: right;\">\n",
       "      <th></th>\n",
       "      <th>ureaNoCyt</th>\n",
       "      <th>kpi-water2</th>\n",
       "      <th>ureaM0</th>\n",
       "      <th>ureaM1</th>\n",
       "      <th>ureaM2</th>\n",
       "      <th>ureaM3</th>\n",
       "      <th>ureaM4</th>\n",
       "      <th>ureaM5</th>\n",
       "      <th>ureaM6</th>\n",
       "      <th>ureaM7</th>\n",
       "      <th>ureaM8</th>\n",
       "      <th>ureaM9</th>\n",
       "      <th>ureaM10</th>\n",
       "    </tr>\n",
       "    <tr>\n",
       "      <th>Wavelength (nm)</th>\n",
       "      <th></th>\n",
       "      <th></th>\n",
       "      <th></th>\n",
       "      <th></th>\n",
       "      <th></th>\n",
       "      <th></th>\n",
       "      <th></th>\n",
       "      <th></th>\n",
       "      <th></th>\n",
       "      <th></th>\n",
       "      <th></th>\n",
       "      <th></th>\n",
       "      <th></th>\n",
       "    </tr>\n",
       "  </thead>\n",
       "  <tbody>\n",
       "    <tr>\n",
       "      <th>550</th>\n",
       "      <td>-0.074015</td>\n",
       "      <td>-0.015325</td>\n",
       "      <td>0.038644</td>\n",
       "      <td>0.053956</td>\n",
       "      <td>0.368988</td>\n",
       "      <td>0.473969</td>\n",
       "      <td>0.253100</td>\n",
       "      <td>0.403653</td>\n",
       "      <td>0.178318</td>\n",
       "      <td>0.169564</td>\n",
       "      <td>0.193685</td>\n",
       "      <td>0.235864</td>\n",
       "      <td>0.319591</td>\n",
       "    </tr>\n",
       "    <tr>\n",
       "      <th>549</th>\n",
       "      <td>-0.075183</td>\n",
       "      <td>-0.015427</td>\n",
       "      <td>0.038248</td>\n",
       "      <td>0.054246</td>\n",
       "      <td>0.367843</td>\n",
       "      <td>0.473129</td>\n",
       "      <td>0.253214</td>\n",
       "      <td>0.404829</td>\n",
       "      <td>0.178668</td>\n",
       "      <td>0.170122</td>\n",
       "      <td>0.193228</td>\n",
       "      <td>0.235937</td>\n",
       "      <td>0.319915</td>\n",
       "    </tr>\n",
       "    <tr>\n",
       "      <th>548</th>\n",
       "      <td>-0.075576</td>\n",
       "      <td>-0.016016</td>\n",
       "      <td>0.037605</td>\n",
       "      <td>0.053172</td>\n",
       "      <td>0.365282</td>\n",
       "      <td>0.473190</td>\n",
       "      <td>0.250552</td>\n",
       "      <td>0.403135</td>\n",
       "      <td>0.175158</td>\n",
       "      <td>0.168430</td>\n",
       "      <td>0.193759</td>\n",
       "      <td>0.236381</td>\n",
       "      <td>0.323015</td>\n",
       "    </tr>\n",
       "    <tr>\n",
       "      <th>547</th>\n",
       "      <td>-0.074827</td>\n",
       "      <td>-0.016122</td>\n",
       "      <td>0.038271</td>\n",
       "      <td>0.050625</td>\n",
       "      <td>0.361824</td>\n",
       "      <td>0.471665</td>\n",
       "      <td>0.246527</td>\n",
       "      <td>0.400469</td>\n",
       "      <td>0.173380</td>\n",
       "      <td>0.167097</td>\n",
       "      <td>0.193501</td>\n",
       "      <td>0.236677</td>\n",
       "      <td>0.323855</td>\n",
       "    </tr>\n",
       "    <tr>\n",
       "      <th>546</th>\n",
       "      <td>-0.074636</td>\n",
       "      <td>-0.015884</td>\n",
       "      <td>0.036392</td>\n",
       "      <td>0.048907</td>\n",
       "      <td>0.355824</td>\n",
       "      <td>0.470590</td>\n",
       "      <td>0.241886</td>\n",
       "      <td>0.398284</td>\n",
       "      <td>0.169742</td>\n",
       "      <td>0.164236</td>\n",
       "      <td>0.194583</td>\n",
       "      <td>0.237913</td>\n",
       "      <td>0.325875</td>\n",
       "    </tr>\n",
       "  </tbody>\n",
       "</table>\n",
       "</div>"
      ],
      "text/plain": [
       "                 ureaNoCyt  kpi-water2    ureaM0    ureaM1    ureaM2  \\\n",
       "Wavelength (nm)                                                        \n",
       "550              -0.074015   -0.015325  0.038644  0.053956  0.368988   \n",
       "549              -0.075183   -0.015427  0.038248  0.054246  0.367843   \n",
       "548              -0.075576   -0.016016  0.037605  0.053172  0.365282   \n",
       "547              -0.074827   -0.016122  0.038271  0.050625  0.361824   \n",
       "546              -0.074636   -0.015884  0.036392  0.048907  0.355824   \n",
       "\n",
       "                   ureaM3    ureaM4    ureaM5    ureaM6    ureaM7    ureaM8  \\\n",
       "Wavelength (nm)                                                               \n",
       "550              0.473969  0.253100  0.403653  0.178318  0.169564  0.193685   \n",
       "549              0.473129  0.253214  0.404829  0.178668  0.170122  0.193228   \n",
       "548              0.473190  0.250552  0.403135  0.175158  0.168430  0.193759   \n",
       "547              0.471665  0.246527  0.400469  0.173380  0.167097  0.193501   \n",
       "546              0.470590  0.241886  0.398284  0.169742  0.164236  0.194583   \n",
       "\n",
       "                   ureaM9   ureaM10  \n",
       "Wavelength (nm)                      \n",
       "550              0.235864  0.319591  \n",
       "549              0.235937  0.319915  \n",
       "548              0.236381  0.323015  \n",
       "547              0.236677  0.323855  \n",
       "546              0.237913  0.325875  "
      ]
     },
     "execution_count": 53,
     "metadata": {},
     "output_type": "execute_result"
    }
   ],
   "source": [
    "centered('Table 4. Absorbance Data')\n",
    "abs_spectra.head()"
   ]
  },
  {
   "cell_type": "code",
   "execution_count": 54,
   "metadata": {
    "tags": []
   },
   "outputs": [
    {
     "name": "stdout",
     "output_type": "stream",
     "text": [
      "Table 5. NATA Absorbabance Data\n"
     ]
    },
    {
     "data": {
      "text/html": [
       "<div>\n",
       "<style scoped>\n",
       "    .dataframe tbody tr th:only-of-type {\n",
       "        vertical-align: middle;\n",
       "    }\n",
       "\n",
       "    .dataframe tbody tr th {\n",
       "        vertical-align: top;\n",
       "    }\n",
       "\n",
       "    .dataframe thead th {\n",
       "        text-align: right;\n",
       "    }\n",
       "</style>\n",
       "<table border=\"1\" class=\"dataframe\">\n",
       "  <thead>\n",
       "    <tr style=\"text-align: right;\">\n",
       "      <th></th>\n",
       "      <th>Absorbance</th>\n",
       "    </tr>\n",
       "    <tr>\n",
       "      <th>Wavelength (nm)</th>\n",
       "      <th></th>\n",
       "    </tr>\n",
       "  </thead>\n",
       "  <tbody>\n",
       "    <tr>\n",
       "      <th>600.0</th>\n",
       "      <td>-0.007131</td>\n",
       "    </tr>\n",
       "    <tr>\n",
       "      <th>599.0</th>\n",
       "      <td>-0.007131</td>\n",
       "    </tr>\n",
       "    <tr>\n",
       "      <th>598.0</th>\n",
       "      <td>-0.007131</td>\n",
       "    </tr>\n",
       "    <tr>\n",
       "      <th>597.0</th>\n",
       "      <td>-0.007131</td>\n",
       "    </tr>\n",
       "    <tr>\n",
       "      <th>596.0</th>\n",
       "      <td>-0.007131</td>\n",
       "    </tr>\n",
       "  </tbody>\n",
       "</table>\n",
       "</div>"
      ],
      "text/plain": [
       "                 Absorbance\n",
       "Wavelength (nm)            \n",
       "600.0             -0.007131\n",
       "599.0             -0.007131\n",
       "598.0             -0.007131\n",
       "597.0             -0.007131\n",
       "596.0             -0.007131"
      ]
     },
     "execution_count": 54,
     "metadata": {},
     "output_type": "execute_result"
    }
   ],
   "source": [
    "NATA_abs = pd.read_csv('nata_abs.csv', header=0, skiprows=2)\n",
    "NATA_abs.index = NATA_abs.pop('Wavelength (nm)')\n",
    "\n",
    "print('Table 5. NATA Absorbabance Data')\n",
    "NATA_abs.head()"
   ]
  },
  {
   "cell_type": "code",
   "execution_count": 55,
   "metadata": {
    "tags": []
   },
   "outputs": [
    {
     "data": {
      "text/html": [
       "<div style='text-align:center'>Figure 3. Comparison of Unmodified Spectrum & Modified Spectrum</div>"
      ],
      "text/plain": [
       "<IPython.core.display.HTML object>"
      ]
     },
     "metadata": {},
     "output_type": "display_data"
    },
    {
     "data": {
      "image/png": "[encoded data removed]",
      "text/plain": [
       "<Figure size 720x288 with 2 Axes>"
      ]
     },
     "metadata": {},
     "output_type": "display_data"
    }
   ],
   "source": [
    "# Plot the unmodified and modified (Spectrum A - Spectrum B) spectra\n",
    "\n",
    "fig, (ax1,ax2) = plt.subplots(1,2, figsize=(10,4))  # 1 row, 2 columns\n",
    "abs_spectra.plot(ax=ax1)\n",
    "NATA_abs.plot(ax=ax2)\n",
    "ax1.set_title('KPi & Cyt C Quenched Data')\n",
    "ax1.set_ylabel('Absorbance')\n",
    "ax2.set_title('NATA Absorbance')\n",
    "ax2.set_ylabel('Absorbance')\n",
    "ax2.legend('')\n",
    "plt.tight_layout()\n",
    "centered('Figure 3. Comparison of Unmodified Spectrum & Modified Spectrum')"
   ]
  },
  {
   "cell_type": "markdown",
   "metadata": {
    "tags": []
   },
   "source": [
    "# Data Processing\n",
    "Put here the core of the notebook. Feel free to further split this section into subsections."
   ]
  },
  {
   "cell_type": "markdown",
   "metadata": {
    "tags": []
   },
   "source": [
    "### PART A: Measurement of the Unfolding Curve"
   ]
  },
  {
   "cell_type": "code",
   "execution_count": 56,
   "metadata": {
    "tags": []
   },
   "outputs": [],
   "source": [
    "# Fluoresence Df\n",
    "    # modified_fluor_spec\n",
    "    # NATA_fluor\n",
    "\n",
    "# Absorbance Df\n",
    "    # abs_spectra\n",
    "    # NATA_abs"
   ]
  },
  {
   "cell_type": "code",
   "execution_count": 57,
   "metadata": {
    "tags": []
   },
   "outputs": [
    {
     "data": {
      "text/html": [
       "<div style='text-align:center'>Table 6. Normalized Spectrum</div>"
      ],
      "text/plain": [
       "<IPython.core.display.HTML object>"
      ]
     },
     "metadata": {},
     "output_type": "display_data"
    },
    {
     "data": {
      "text/html": [
       "<div>\n",
       "<style scoped>\n",
       "    .dataframe tbody tr th:only-of-type {\n",
       "        vertical-align: middle;\n",
       "    }\n",
       "\n",
       "    .dataframe tbody tr th {\n",
       "        vertical-align: top;\n",
       "    }\n",
       "\n",
       "    .dataframe thead th {\n",
       "        text-align: right;\n",
       "    }\n",
       "</style>\n",
       "<table border=\"1\" class=\"dataframe\">\n",
       "  <thead>\n",
       "    <tr style=\"text-align: right;\">\n",
       "      <th></th>\n",
       "      <th>UreaM0</th>\n",
       "      <th>UreaM1</th>\n",
       "      <th>UreaM2</th>\n",
       "      <th>UreaM3</th>\n",
       "      <th>UreaM4</th>\n",
       "      <th>UreaM5</th>\n",
       "      <th>UreaM6</th>\n",
       "      <th>UreaM7</th>\n",
       "      <th>UreaM8</th>\n",
       "      <th>UreaM9</th>\n",
       "      <th>UreaM10</th>\n",
       "    </tr>\n",
       "    <tr>\n",
       "      <th>nm</th>\n",
       "      <th></th>\n",
       "      <th></th>\n",
       "      <th></th>\n",
       "      <th></th>\n",
       "      <th></th>\n",
       "      <th></th>\n",
       "      <th></th>\n",
       "      <th></th>\n",
       "      <th></th>\n",
       "      <th></th>\n",
       "      <th></th>\n",
       "    </tr>\n",
       "  </thead>\n",
       "  <tbody>\n",
       "    <tr>\n",
       "      <th>300.0</th>\n",
       "      <td>0.087771</td>\n",
       "      <td>0.035481</td>\n",
       "      <td>0.023363</td>\n",
       "      <td>0.053244</td>\n",
       "      <td>0.112158</td>\n",
       "      <td>0.053420</td>\n",
       "      <td>0.081597</td>\n",
       "      <td>0.055982</td>\n",
       "      <td>0.132120</td>\n",
       "      <td>0.122051</td>\n",
       "      <td>0.177786</td>\n",
       "    </tr>\n",
       "    <tr>\n",
       "      <th>300.5</th>\n",
       "      <td>0.079954</td>\n",
       "      <td>0.035728</td>\n",
       "      <td>0.023318</td>\n",
       "      <td>0.051062</td>\n",
       "      <td>0.102204</td>\n",
       "      <td>0.050356</td>\n",
       "      <td>0.072967</td>\n",
       "      <td>0.052034</td>\n",
       "      <td>0.121989</td>\n",
       "      <td>0.120223</td>\n",
       "      <td>0.177989</td>\n",
       "    </tr>\n",
       "    <tr>\n",
       "      <th>301.0</th>\n",
       "      <td>0.070123</td>\n",
       "      <td>0.037451</td>\n",
       "      <td>0.023601</td>\n",
       "      <td>0.047220</td>\n",
       "      <td>0.087877</td>\n",
       "      <td>0.047238</td>\n",
       "      <td>0.062174</td>\n",
       "      <td>0.047017</td>\n",
       "      <td>0.106867</td>\n",
       "      <td>0.117025</td>\n",
       "      <td>0.178766</td>\n",
       "    </tr>\n",
       "    <tr>\n",
       "      <th>301.5</th>\n",
       "      <td>0.062730</td>\n",
       "      <td>0.038917</td>\n",
       "      <td>0.024184</td>\n",
       "      <td>0.043545</td>\n",
       "      <td>0.075909</td>\n",
       "      <td>0.045047</td>\n",
       "      <td>0.053359</td>\n",
       "      <td>0.044058</td>\n",
       "      <td>0.095252</td>\n",
       "      <td>0.115391</td>\n",
       "      <td>0.181460</td>\n",
       "    </tr>\n",
       "    <tr>\n",
       "      <th>302.0</th>\n",
       "      <td>0.058658</td>\n",
       "      <td>0.039633</td>\n",
       "      <td>0.025218</td>\n",
       "      <td>0.041593</td>\n",
       "      <td>0.069134</td>\n",
       "      <td>0.044226</td>\n",
       "      <td>0.048050</td>\n",
       "      <td>0.042503</td>\n",
       "      <td>0.089352</td>\n",
       "      <td>0.114614</td>\n",
       "      <td>0.184922</td>\n",
       "    </tr>\n",
       "  </tbody>\n",
       "</table>\n",
       "</div>"
      ],
      "text/plain": [
       "         UreaM0    UreaM1    UreaM2    UreaM3    UreaM4    UreaM5    UreaM6  \\\n",
       "nm                                                                            \n",
       "300.0  0.087771  0.035481  0.023363  0.053244  0.112158  0.053420  0.081597   \n",
       "300.5  0.079954  0.035728  0.023318  0.051062  0.102204  0.050356  0.072967   \n",
       "301.0  0.070123  0.037451  0.023601  0.047220  0.087877  0.047238  0.062174   \n",
       "301.5  0.062730  0.038917  0.024184  0.043545  0.075909  0.045047  0.053359   \n",
       "302.0  0.058658  0.039633  0.025218  0.041593  0.069134  0.044226  0.048050   \n",
       "\n",
       "         UreaM7    UreaM8    UreaM9   UreaM10  \n",
       "nm                                             \n",
       "300.0  0.055982  0.132120  0.122051  0.177786  \n",
       "300.5  0.052034  0.121989  0.120223  0.177989  \n",
       "301.0  0.047017  0.106867  0.117025  0.178766  \n",
       "301.5  0.044058  0.095252  0.115391  0.181460  \n",
       "302.0  0.042503  0.089352  0.114614  0.184922  "
      ]
     },
     "execution_count": 57,
     "metadata": {},
     "output_type": "execute_result"
    }
   ],
   "source": [
    "#Copy original spectrum and normalize it using concentration of cyt c\n",
    "index = 2\n",
    "normalized_spectra = modified_fluor_spec.copy()\n",
    "for i in range(1, 12):\n",
    "    # Find concentration of urea samples using A = εcl  =>  c = A/εL @580nm\n",
    "    # ε(530 nm) = 11200 (M*cm)^-1\n",
    "    conc_abs = abs_spectra.iloc[20, index]/(11200 * 1)\n",
    "\n",
    "    # Divide spectra by concentration of cyt c present in solution\n",
    "    normalized_spectra.iloc[:, i] = normalized_spectra.iloc[:, i]/float(conc_abs)\n",
    "    \n",
    "#Normalize the spectra with the absolute max intensity    \n",
    "normalized_spectra.iloc[:, 1:12] = normalized_spectra.iloc[:, 1:12]/normalized_spectra.iloc[:, 1:12].max().max()\n",
    "\n",
    "centered('Table 6. Normalized Spectrum')\n",
    "normalized_spectra.iloc[:, 1:12].head()"
   ]
  },
  {
   "cell_type": "code",
   "execution_count": 58,
   "metadata": {
    "tags": []
   },
   "outputs": [
    {
     "name": "stdout",
     "output_type": "stream",
     "text": [
      "Table 7. Normalized NATA Spectrum\n"
     ]
    },
    {
     "data": {
      "text/html": [
       "<div>\n",
       "<style scoped>\n",
       "    .dataframe tbody tr th:only-of-type {\n",
       "        vertical-align: middle;\n",
       "    }\n",
       "\n",
       "    .dataframe tbody tr th {\n",
       "        vertical-align: top;\n",
       "    }\n",
       "\n",
       "    .dataframe thead th {\n",
       "        text-align: right;\n",
       "    }\n",
       "</style>\n",
       "<table border=\"1\" class=\"dataframe\">\n",
       "  <thead>\n",
       "    <tr style=\"text-align: right;\">\n",
       "      <th></th>\n",
       "      <th>Intensity</th>\n",
       "    </tr>\n",
       "    <tr>\n",
       "      <th>Wavelength (nm)</th>\n",
       "      <th></th>\n",
       "    </tr>\n",
       "  </thead>\n",
       "  <tbody>\n",
       "    <tr>\n",
       "      <th>305.0</th>\n",
       "      <td>0.038187</td>\n",
       "    </tr>\n",
       "    <tr>\n",
       "      <th>305.5</th>\n",
       "      <td>0.039173</td>\n",
       "    </tr>\n",
       "    <tr>\n",
       "      <th>306.0</th>\n",
       "      <td>0.042696</td>\n",
       "    </tr>\n",
       "    <tr>\n",
       "      <th>306.5</th>\n",
       "      <td>0.047534</td>\n",
       "    </tr>\n",
       "    <tr>\n",
       "      <th>307.0</th>\n",
       "      <td>0.050446</td>\n",
       "    </tr>\n",
       "  </tbody>\n",
       "</table>\n",
       "</div>"
      ],
      "text/plain": [
       "                 Intensity\n",
       "Wavelength (nm)           \n",
       "305.0             0.038187\n",
       "305.5             0.039173\n",
       "306.0             0.042696\n",
       "306.5             0.047534\n",
       "307.0             0.050446"
      ]
     },
     "execution_count": 58,
     "metadata": {},
     "output_type": "execute_result"
    }
   ],
   "source": [
    "# Find concentration of urea samples using A = εcl  =>  c = A/εL\n",
    "# ε(280 nm) = 5630 (M*cm)^-1\n",
    "flur_abs_280 = NATA_abs.iloc[-81, :]/(5630 * 1)\n",
    "\n",
    "#Copy original spectrum and normalize it using concentration of cyt c\n",
    "normalized_NATA = NATA_fluor.copy()\n",
    "normalized_NATA = normalized_NATA/float(flur_abs_280)\n",
    "normalized_NATA = normalized_NATA/normalized_NATA.max()\n",
    "print('Table 7. Normalized NATA Spectrum')\n",
    "normalized_NATA.head()"
   ]
  },
  {
   "cell_type": "code",
   "execution_count": 59,
   "metadata": {
    "tags": []
   },
   "outputs": [
    {
     "data": {
      "text/html": [
       "<div style='text-align:center'>Figure 4. Comparison of Modified Spectrum & Normalized Spectrum</div>"
      ],
      "text/plain": [
       "<IPython.core.display.HTML object>"
      ]
     },
     "metadata": {},
     "output_type": "display_data"
    },
    {
     "data": {
      "image/png": "[encoded data removed]",
      "text/plain": [
       "<Figure size 720x288 with 2 Axes>"
      ]
     },
     "metadata": {},
     "output_type": "display_data"
    }
   ],
   "source": [
    "fig, (ax1,ax2) = plt.subplots(1,2, figsize=(10,4))  # 1 row, 2 columns\n",
    "normalized_spectra.iloc[:, 2:12].plot(ax=ax1)\n",
    "normalized_NATA.plot(ax=ax2, legend=None)\n",
    "ax1.set_title('Normalized Spectrum')\n",
    "ax1.set_ylabel('Intensity')\n",
    "ax2.set_title('Normalized NATA Spectrum')\n",
    "ax2.set_ylabel('Intensity')\n",
    "plt.tight_layout()\n",
    "centered('Figure 4. Comparison of Modified Spectrum & Normalized Spectrum')"
   ]
  },
  {
   "cell_type": "code",
   "execution_count": 60,
   "metadata": {
    "tags": []
   },
   "outputs": [
    {
     "data": {
      "image/png": "[encoded data removed]",
      "text/plain": [
       "<Figure size 432x288 with 1 Axes>"
      ]
     },
     "metadata": {},
     "output_type": "display_data"
    }
   ],
   "source": [
    "conc = [0, 1, 2, 3, 4, 5, 6, 7, 8, 9, 10]\n",
    "t = normalized_spectra.iloc[100, 1:12]\n",
    "\n",
    "plt.plot(conc, t.values, '-o')\n",
    "plt.title('Figure 5: Unfolding Curve')\n",
    "plt.xlabel('Urea Concentration (M)')\n",
    "plt.ylabel('Normalized Fluorescence Spectrum')\n",
    "plt.show()"
   ]
  },
  {
   "cell_type": "code",
   "execution_count": 77,
   "metadata": {
    "tags": []
   },
   "outputs": [
    {
     "name": "stdout",
     "output_type": "stream",
     "text": [
      "The slope is: 0.0582, and the std. err. of the slope is: 0.0198, with any-intercept of -0.0724\n",
      "Calculated Cm = 8.144587737074497e-07\n",
      "△G_H2O was calculated to be 4.74e-08 kJ/mol and the unfolding energy was calculated to be -0.291 kJ/mol.\n"
     ]
    }
   ],
   "source": [
    "fit_coeff, fit_cov = np.polyfit(conc, t, 1, \n",
    "                                cov=True)\n",
    "# Finding the standard error of each coefficient \n",
    "fit_err = np.sqrt(np.diag(fit_cov))\n",
    "\n",
    "print(f\"The slope is: {round(fit_coeff[0], 4)}, and the std. err. of the slope is: {round(fit_err[0], 4)}, with any-intercept of\", round(fit_coeff[1], 4))\n",
    "\n",
    "m = fit_coeff[0]\n",
    "\n",
    "temp_num = np.log(0.5/ ( (1-0.5)*np.exp(fit_coeff[0]*5/(sp.constants.R*298)) ) )\n",
    "Cm = temp_num/(-fit_coeff[0]*sp.constants.R*298)\n",
    "G_H2O = fit_coeff[0]*Cm\n",
    "G_unfolding = G_H2O - fit_coeff[0]*5\n",
    "\n",
    "print(\"Calculated Cm =\", Cm)\n",
    "print('△G_H2O was calculated to be', round(G_H2O, 10), 'kJ/mol and the unfolding energy was calculated to be', round(G_unfolding, 3), 'kJ/mol.')"
   ]
  },
  {
   "cell_type": "markdown",
   "metadata": {
    "tags": []
   },
   "source": [
    "### Part B: Determination of the Förster Distance"
   ]
  },
  {
   "cell_type": "code",
   "execution_count": 62,
   "metadata": {
    "tags": []
   },
   "outputs": [
    {
     "name": "stdout",
     "output_type": "stream",
     "text": [
      "J_DA is the overlap integral of the donor emission spectrum and the acceptor absorption spectrum which was calculated to be -1.989033401200128e-34\n"
     ]
    }
   ],
   "source": [
    "from scipy.integrate import quad\n",
    "from scipy import integrate\n",
    "from scipy import interpolate\n",
    "\n",
    "lambda_vals = np.linspace(300*(10**-9), 500*(10**-9), 391)\n",
    "\n",
    "# Interpolate the NATA_abs and NATA_fluor data to create the function\n",
    "NATA_abs_func = interpolate.interp1d(lambda_vals, NATA_abs.iloc[:391, 0])\n",
    "NATA_fluor_func = interpolate.interp1d(lambda_vals, NATA_fluor.iloc[:, 0])\n",
    "\n",
    "# Integrate NATA_abs * NATA_fluor * lambda^4\n",
    "def mult_spectra(lambda_val):\n",
    "    return NATA_abs_func(lambda_val) * NATA_fluor_func(lambda_val) * lambda_val**4\n",
    "\n",
    "\n",
    "# Perform the integration using scipy.integrate.quad\n",
    "J_DA, error = integrate.quad(mult_spectra, 300*(10**-9), 500*(10**-9))\n",
    "\n",
    "# Print the result\n",
    "print('J_DA is the overlap integral of the donor emission spectrum and the acceptor', \n",
    "      'absorption spectrum which was calculated to be', J_DA)"
   ]
  },
  {
   "cell_type": "code",
   "execution_count": 63,
   "metadata": {},
   "outputs": [
    {
     "name": "stdout",
     "output_type": "stream",
     "text": [
      "The Förster distance, R_0, angostroms is the critical distance to allow 50% of energy to be trasnferred from Trp-59 (donor) to the heme cofactor (acceptor) which was calculated to be 0.012569803357746736\n"
     ]
    }
   ],
   "source": [
    "#uSING EQ. 2, to find R_0\n",
    "\n",
    "const = 8.79e23\n",
    "k = 2/3\n",
    "n = 1.4**(-4)\n",
    "phi_D = 0.13\n",
    "root = 1/6\n",
    "\n",
    "### NOTE, I PUT AN ABSOLUTE VALUE BECAUSE IT WAS A NEGATIVE NUMBER\n",
    "R_0 = np.power( abs((const*k*n*phi_D*J_DA)), root )\n",
    "print('The Förster distance, R_0, angostroms is the critical distance to allow 50% of energy to be trasnferred from Trp-59 (donor) to the heme cofactor (acceptor) which was calculated to be', R_0)"
   ]
  },
  {
   "cell_type": "markdown",
   "metadata": {
    "tags": []
   },
   "source": [
    "### Part C: Calculation of Intramolecular Distances for Unfolded Structures"
   ]
  },
  {
   "cell_type": "code",
   "execution_count": 64,
   "metadata": {
    "tags": []
   },
   "outputs": [],
   "source": [
    "r = np.linspace(0.03, 0.001, 51)\n",
    "E = []\n",
    "a = []\n",
    "R_0_raised_6 = R_0**6\n",
    "for index in range(len(r)):\n",
    "    num = R_0_raised_6\n",
    "    denom = (R_0_raised_6 + r[index]**6)\n",
    "    temp = num/denom\n",
    "    E.append( temp )"
   ]
  },
  {
   "cell_type": "code",
   "execution_count": 65,
   "metadata": {
    "tags": []
   },
   "outputs": [
    {
     "data": {
      "image/png": "[encoded data removed]",
      "text/plain": [
       "<Figure size 432x288 with 1 Axes>"
      ]
     },
     "metadata": {},
     "output_type": "display_data"
    }
   ],
   "source": [
    "plt.plot(r[1:], E[1:], '-o')\n",
    "plt.xlabel('r')\n",
    "plt.ylabel('Energy')\n",
    "plt.title('Figure 6. Theoretical Distance Dependence of Energy Transfer for the Donor–Acceptor Pair')\n",
    "plt.show()"
   ]
  },
  {
   "cell_type": "code",
   "execution_count": 75,
   "metadata": {
    "tags": []
   },
   "outputs": [
    {
     "name": "stdout",
     "output_type": "stream",
     "text": [
      "The distance between Trp-59 and the heme group for the fully folded protein (0.0 m urea) is 0.00479 Å.\n"
     ]
    }
   ],
   "source": [
    "E_0M = 1 - (normalized_spectra.iloc[100, 1]/normalized_spectra.iloc[100, 11])\n",
    "\n",
    "r_cal = (1/E_0M)*R_0_raised_6 - R_0_raised_6\n",
    "print('The distance between Trp-59 and the heme group for the fully folded protein (0.0 m urea) is', round(r_cal/1e-10, 5), 'Å.')"
   ]
  },
  {
   "cell_type": "markdown",
   "metadata": {},
   "source": [
    "# Results\n",
    "As expected in Figure 1, the fluorescence intensity increased as the molarity of the denaturant urea decreased which showed that urea was unfolding the protein causing Trp-59 (donor) to move away and transfer its energy to the heme cofactor (acceptor). Figure 5 showed an unfolding curve that indicated that there was an exponential behavior where as increasing the urea concentration @ 580 nm the normalized fluorescence intensity also increased. While there was a small standard error with the graph, it was not the expected graph. The expected graph should be sigmoidal due to the sigmoidal nature of protein folding having two states at different ends: an unfolding state and a folding state. $\\Delta G_{U}$ was calculated to be -0.291 kJ/mol with $C_m$ and m calculated to be 8.1445e-7 and 0.0582 respectively. These values are not consistent with literature, but errors with respect to how these values were calculated are given in the discussion. The Förster distance, $R_0$, was calculated to be 0.0126 Å with a $J_{DA}$ of -1.99e-34 $cm^3/M$. Figure 6 showed a clear sigmoidal behavior from r=0.001 to r=0.03 indicating the energy transfer efficiency occurs within a small interval. The calculated distance of the Trp-59 and the heme group was 0.00479 Å. "
   ]
  },
  {
   "cell_type": "markdown",
   "metadata": {},
   "source": [
    "# Discussion\n",
    "\n",
    "Figure 1 confirmed that as the distance between Trp-59 and the heme cofactor increased (unfolding of protein) as fluorescence intensity increases. This was expected because urea is a known denaturant so as cyt c unfolds, the natural fluorphore Trp-59 will fluoresce more and more and quenching will decrease. In Figure 4, the spectra consisting of urea and the NATA spectrum were normalized for protein concentration. This was very important in determining the distance between Trp-59 and the heme group as a function of denaturant concentration as well as to build an unfolding curve. When observing the calculated $\\Delta G_{U}$, it can clearly be seen that something was wrong due to the energy being negative. Most of the literature values that provide the unfolding energy is spontaneous. The calculated $\\Delta G_{U}$ indicates that unfolding is spontaneous. This should not be the case because this would mean the protein would not fold naturally due to unstable interactions that prevent the cyt c from folding. Since it is known that cyt c has a natural state of being folded, it is very clear that some error occurred. The error can also be seen with respect to $C_m$ which is defined as the midpoint concentration between folding and unfolding of cyt c. The midpoint concentration is incredibly low to the point that it can be hypothesized that the value of $C_m$ is probably decreasing the value of $\\Delta G_{U}$. Most likely, there was an error in measuring the spectra, but there also could be errors within the calculations. The Förster distance, $R_0$, is the critical distance to allow 50% of energy to be transferred from Trp-59 (donor) to the heme cofactor (acceptor), and it was calculated to be 0.0126 Å. This value seems to be too small of a value to be the Förster distance which means another error had occurred. One error explanation can come from the integration of J_DA which is the overlap integral of the donor emission spectrum and the acceptor absorption spectrum. The integral value of $J_DA$ was such a small value that it can be confirmed that $R_0$ is skewed to a smaller value due to the integration, $J_DA$. In Figure 6, the Förster distance was used to determine the energy transfer efficiency with respect to simulated radii, but due to errors in the calculation of the Förster distance, the radius is within too small of a region. Figure 6 should show a sigmoidal behavior from around 0Å to 50Å. According to the Protein Data Base, the distance of the Trp-59 and the heme group in the folded state is 58.4 Å, but the calculated distance of the Trp-59 and the heme group for the fully folded state was calculated to be 0.00479 Å. This indicates the same trend of calculated values being too small. The calculated value of the distance of the Trp-59 and the heme group should be significantly larger."
   ]
  },
  {
   "cell_type": "markdown",
   "metadata": {},
   "source": [
    "## Conclusion\n",
    "FRET was used as a spectroscopic technique to determine the intermolecular and intramolecular distances using the theory that there is radiationless energy transfer between an excited-state donor and a ground-state acceptor. Important variables calculated from FRET analysis of cyt c was the Förster distance, the overlap integral ($J_{DA}$), energy transfer efficiency, and energy of unfolding. This would not have happened without the normalized spectrum and absorbance spectrum showcasing the proof of concept that the denaturant urea unfolds cyt c. The data gathered from analyzing fluorescence and absorption spectrum of cyt c demonstrate how perfect cyt c can be in FRET analysis, because the  fluorophore at position 59 (Trp-59) was characterized well acting as the FRET donor interacting with the heme cofactor acceptor transferring its energy. In this paper, cyt c was validated as an effective protein to determine many biophysical properties of the folding and unfolding proteins. It is believed that cyt c should be considered a standard for FRET analysis due to its well-behaved properties. While cyt c performed well, the hope for the future is to find more proteins like cyt c that can be well explained for biophysical analysis."
   ]
  },
  {
   "cell_type": "code",
   "execution_count": null,
   "metadata": {},
   "outputs": [],
   "source": []
  }
 ],
 "metadata": {
  "kernelspec": {
   "display_name": "Python (PChem Lab)",
   "language": "python",
   "name": "pchem2_lab"
  },
  "language_info": {
   "codemirror_mode": {
    "name": "ipython",
    "version": 3
   },
   "file_extension": ".py",
   "mimetype": "text/x-python",
   "name": "python",
   "nbconvert_exporter": "python",
   "pygments_lexer": "ipython3",
   "version": "3.8.17"
  },
  "nteract": {
   "version": "0.26.0"
  }
 },
 "nbformat": 4,
 "nbformat_minor": 4
}
